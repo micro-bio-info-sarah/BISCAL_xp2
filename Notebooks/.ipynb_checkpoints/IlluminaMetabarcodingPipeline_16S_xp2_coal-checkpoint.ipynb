{
 "cells": [
  {
   "cell_type": "markdown",
   "metadata": {},
   "source": [
    "\n",
    "To get back your results\n",
    "If you have already run all the Notebook but stop it (doesn't appear in the running panel), you have to regenerate links like this :\n",
    "* open the Notebook\n",
    "* execute cells in this order :\n",
    " 1. 0.1 Import libraries to 0.5 Variables settings\n",
    "\n",
    " 2. 2.0 Settings\n",
    "\n",
    " 3. Jump to 5.6.1 Load Mapping file\n",
    "\n",
    " 4. 5.6.3 The alpha plots link\n",
    "\n",
    " 5. 5.9.1 Generate 3 links : the unweighted unifrac plots, the weighted unifrac plots and the bray-curtis plots\n",
    "\n",
    "* click on the generate links above"
   ]
  },
  {
   "cell_type": "markdown",
   "metadata": {
    "collapsed": true
   },
   "source": [
    "# Initialisation\n"
   ]
  },
  {
   "cell_type": "markdown",
   "metadata": {},
   "source": [
    "## Import libraries"
   ]
  },
  {
   "cell_type": "code",
   "execution_count": 1,
   "metadata": {},
   "outputs": [],
   "source": [
    "import matplotlib.pyplot as plt\n",
    "plt.rcdefaults()\n",
    "import numpy as np\n",
    "import matplotlib.pyplot as plt\n",
    "%matplotlib inline\n",
    "import os\n",
    "import subprocess\n",
    "import re\n",
    "import shutil\n",
    "from natsort import natsorted\n",
    "from fnmatch import fnmatch\n",
    "import flatdict\n",
    "from IPython.display import display, Markdown\n",
    "import pandas as pd\n",
    "from Bio import SeqIO\n",
    "from Bio import Seq"
   ]
  },
  {
   "cell_type": "markdown",
   "metadata": {},
   "source": [
    "### Set new  PATH and matplotlibrc file"
   ]
  },
  {
   "cell_type": "code",
   "execution_count": 2,
   "metadata": {},
   "outputs": [],
   "source": [
    "os.environ['PATH'] = \"{0:s}:/opt/anaconda3/bin:/opt/anaconda3/envs/python2/bin\".format(os.environ['PATH']) "
   ]
  },
  {
   "cell_type": "code",
   "execution_count": 3,
   "metadata": {},
   "outputs": [],
   "source": [
    "# DISPLAY Settings need for make_rarefaction_plots\n",
    "fileOfMatplibrc = os.path.join(os.getcwd(),\"matplotlibrc\")\n",
    "if not os.path.exists(fileOfMatplibrc):\n",
    "    with open(fileOfMatplibrc,\"w\") as fh:\n",
    "        fh.write(\"backend      : Cairo\\n\")\n",
    "    fh.close()"
   ]
  },
  {
   "cell_type": "markdown",
   "metadata": {},
   "source": [
    "## Set binaries"
   ]
  },
  {
   "cell_type": "code",
   "execution_count": 4,
   "metadata": {},
   "outputs": [],
   "source": [
    "rm = '/bin/rm'\n",
    "gzip = '/bin/gzip'\n",
    "trimmomaticPE = '/opt/anaconda3/bin/trimmomatic PE'\n",
    "bunzip2 = '/bin/bunzip2'\n",
    "pear = '/opt/anaconda3/bin/pear'\n",
    "sed = '/bin/sed'\n",
    "cat = '/bin/cat'\n",
    "grep = '/bin/grep'\n",
    "sed = '/bin/sed'\n",
    "vsearch = '/opt/anaconda3/bin/vsearch'\n",
    "snake = '/opt/anaconda3/envs/python2/bin/python2.7'\n",
    "split_libraries_fastq = '/opt/anaconda3/envs/python2/bin/split_libraries_fastq.py'\n",
    "assign_taxo = '/opt/anaconda3/envs/python2/bin/assign_taxonomy.py'\n",
    "make_otu_table = '/opt/anaconda3/envs/python2/bin/make_otu_table.py'\n",
    "biom_convert = '/opt/anaconda3/envs/python2/bin/biom'"
   ]
  },
  {
   "cell_type": "markdown",
   "metadata": {},
   "source": [
    "## Set directories and files"
   ]
  },
  {
   "cell_type": "markdown",
   "metadata": {},
   "source": [
    "### Set global references and taxonomy databases"
   ]
  },
  {
   "cell_type": "code",
   "execution_count": 5,
   "metadata": {},
   "outputs": [],
   "source": [
    "dGlobalDataBases = os.path.abspath(\"/vol/databases\")\n",
    "dGlobalDataReferences = os.path.join(dGlobalDataBases,\"collections/references\")\n",
    "dGlobalDataTaxonomy = os.path.join(dGlobalDataBases,\"collections/taxonomy\")\n",
    "dGlobalDataSilvaQiime = os.path.join(dGlobalDataBases,\"collections/SILVA_128_QIIME_release\")\n",
    "dGlobalDataSilva132 = os.path.join(dGlobalDataBases,\"collections/SILVA_132_QIIME_release\")"
   ]
  },
  {
   "cell_type": "markdown",
   "metadata": {},
   "source": [
    "### Set local directories and files"
   ]
  },
  {
   "cell_type": "code",
   "execution_count": 6,
   "metadata": {},
   "outputs": [],
   "source": [
    "if os.path.basename(os.getcwd()) == 'Notebooks':\n",
    "    dDataExt = os.path.abspath(\"../data/ext/\")\n",
    "    dDataInt = os.path.abspath(\"../data/int/\")\n",
    "    dDataLog = os.path.join(dDataInt,\"log\")\n",
    "    dDataOut = os.path.abspath(\"../data/out/\")\n",
    "    dDataRun = os.path.abspath(\"../data/run/\")\n",
    "    dDataTmp = os.path.abspath(\"../data/tmp/\")\n",
    "    dBinExt = os.path.abspath(\"../bin/ext/\")"
   ]
  },
  {
   "cell_type": "code",
   "execution_count": 7,
   "metadata": {},
   "outputs": [],
   "source": [
    "if not os.path.exists(dDataExt):\n",
    "    os.makedirs(dDataExt)    \n",
    "if not os.path.exists(dDataRun):\n",
    "    os.makedirs(dDataRun)\n",
    "if not os.path.exists(dDataInt):\n",
    "    os.makedirs(dDataInt)\n",
    "if not os.path.exists(dDataLog):\n",
    "    os.makedirs(dDataLog)    \n",
    "if not os.path.exists(dDataOut):\n",
    "    os.makedirs(dDataOut)\n",
    "if not os.path.exists(dDataTmp):\n",
    "    os.makedirs(dDataTmp) "
   ]
  },
  {
   "cell_type": "markdown",
   "metadata": {},
   "source": [
    "### Variable settings"
   ]
  },
  {
   "cell_type": "code",
   "execution_count": 8,
   "metadata": {},
   "outputs": [],
   "source": [
    "nameOfBatch = \"16S\""
   ]
  },
  {
   "cell_type": "code",
   "execution_count": 9,
   "metadata": {},
   "outputs": [],
   "source": [
    "R1 = \"R1\"\n",
    "R2 = \"R2\"\n",
    "phred_quality_threshold = \"19\""
   ]
  },
  {
   "cell_type": "code",
   "execution_count": 10,
   "metadata": {},
   "outputs": [],
   "source": [
    "dirOfAssembly = os.path.join(dDataInt,\"assembly_{pqt:s}\".format(pqt=phred_quality_threshold))\n",
    "dirOfBatch = os.path.join(dirOfAssembly,nameOfBatch)\n",
    "if not os.path.exists(dirOfAssembly):\n",
    "    os.makedirs(dirOfAssembly)\n",
    "if not os.path.exists(dirOfBatch):\n",
    "    os.makedirs(dirOfBatch) "
   ]
  },
  {
   "cell_type": "markdown",
   "metadata": {},
   "source": [
    "**NB : READS (fastq.gz files) must be in the [Project Name]/data/ext/raw/[name of the BATCH]/ dir**"
   ]
  },
  {
   "cell_type": "code",
   "execution_count": 11,
   "metadata": {},
   "outputs": [],
   "source": [
    "extOfFastqFiles = \"*.fastq\"\n",
    "extOfFastqGZFiles = \"*.fastq.gz\"\n",
    "dirOfFastqFiles = os.path.join(dDataTmp,\"fastq.d\")\n",
    "dirOfPairedFiles = os.path.join(dDataTmp,\"paired.d\")\n",
    "dirOfPearFiles = os.path.join(dirOfBatch,\"pear.d\")\n",
    "dirOfSplitLibFiles = os.path.join(dirOfBatch,\"split_lib.d\")\n",
    "fileOfPearOutputDFXls = os.path.join(dDataOut,\"{0:s}-PearOutputDataFrame.xls\".format(nameOfBatch))\n",
    "fileOfPearDescribeDFXls = os.path.join(dDataOut,\"{0:s}-PearDescribeDataFrame.xls\".format(nameOfBatch))\n",
    "fileOfSplitLibOutputDFXls = os.path.join(dDataOut,\"{0:s}-SplitLibOutputDataFrame.xls\".format(nameOfBatch))\n",
    "fileOfSplitLibDescribeDFXls = os.path.join(dDataOut,\"{0:s}-SplitLibDescribeDataFrame.xls\".format(nameOfBatch))\n",
    "fileOfMFIdsOutput = os.path.join(dDataOut,\"{0:s}-MF_ids.csv\".format(nameOfBatch))\n",
    "nameOfSampleIdTxtFile = \"MF_sampleid.txt\"\n",
    "nameOfSampleIdTmpFile = \"MF_id.txt\"\n",
    "fileOfSampleIdTxt = os.path.join(dDataExt,nameOfSampleIdTxtFile)\n",
    "fileOfSampleIdTmp = os.path.join(dDataTmp,nameOfSampleIdTmpFile)\n",
    "nameOfSeqsFile = \"seqs.fna\"\n",
    "nameOfAllSeqsFile = \"{0:s}-all_sequences.fna\".format(nameOfBatch)"
   ]
  },
  {
   "cell_type": "code",
   "execution_count": 12,
   "metadata": {},
   "outputs": [],
   "source": [
    "dirOfFastqGZFiles_SHH_R1 = os.path.join(dDataExt,\"raw/{0:s}/SHH_R1\".format(nameOfBatch))\n",
    "dirOfFastqGZFiles_SHH_R2 = os.path.join(dDataExt,\"raw/{0:s}/SHH_R2\".format(nameOfBatch))\n",
    "dirOfFastqGZFiles = os.path.join(dDataExt,\"raw/samples\")"
   ]
  },
  {
   "cell_type": "code",
   "execution_count": 13,
   "metadata": {},
   "outputs": [],
   "source": [
    "if not os.path.exists(dirOfPairedFiles):\n",
    "    os.makedirs(dirOfPairedFiles)\n",
    "if not os.path.exists(dirOfFastqFiles):\n",
    "    os.makedirs(dirOfFastqFiles)\n",
    "if not os.path.exists(dirOfPearFiles):\n",
    "    os.makedirs(dirOfPearFiles)\n",
    "if not os.path.exists(dirOfSplitLibFiles):\n",
    "    os.makedirs(dirOfSplitLibFiles)"
   ]
  },
  {
   "cell_type": "markdown",
   "metadata": {},
   "source": [
    "# Assembly and clean up "
   ]
  },
  {
   "cell_type": "markdown",
   "metadata": {},
   "source": [
    "## Define functions"
   ]
  },
  {
   "cell_type": "code",
   "execution_count": 14,
   "metadata": {
    "code_folding": []
   },
   "outputs": [],
   "source": [
    "def getDataFromPearOutputFile(nameOfPearOutputFile):\n",
    "    '''Read the PEAR out file get :        \n",
    "        - assembled reads (size and percent)\n",
    "        - discarded reads (size and percent)\n",
    "        - not assembled reads (size and percent)\n",
    "        and return a dict : \n",
    "          {Assembled_reads: {total_size: %d, size: %d, percent: %f},\n",
    "           Discarded_reads: {total_size: %d, size: %d, percent: %f},\n",
    "           Not_assembled_reads: {total_size: %s, size: %s, percent: %s}}'''\n",
    "    dictOfPearOutpouts = {}\n",
    "    pattern = re.compile(r\"^(?P<key>[a-zA-Z0-9_\\s]+)\\s\\.*: (?P<size>[0-9,]+)\\s/\\s(?P<total>[0-9,]+)\\s\\((?P<percent>[0-9.]+)%\\).*\", re.IGNORECASE)\n",
    "    with open(nameOfPearOutputFile,\"r\") as fh:\n",
    "        for line in fh.readlines():\n",
    "            m = re.match(pattern,line)\n",
    "            if m:\n",
    "                key = m.group('key')\n",
    "                key = key.replace(\" \",\"_\")\n",
    "                dictOfPearOutpouts[key] = {}\n",
    "                dictOfPearOutpouts[key][\"total_size\"] = int(m.group('total').replace(\",\",\"\"))\n",
    "                dictOfPearOutpouts[key][\"size\"] = int(m.group('size').replace(\",\",\"\"))\n",
    "                dictOfPearOutpouts[key][\"percent\"] = float(m.group('percent'))\n",
    "    fh.close()\n",
    "    return dictOfPearOutpouts"
   ]
  },
  {
   "cell_type": "code",
   "execution_count": 15,
   "metadata": {
    "code_folding": [
     0
    ]
   },
   "outputs": [],
   "source": [
    "def getDataFromSplitLibraryOutputFile(nameOfSplitLibraryOutputFile):\n",
    "    '''Read the PEAR out file get :        \n",
    "        - Total number of input sequences : %d\n",
    "        - Read too short after quality truncation : %d\n",
    "        - Median sequence length: %d\n",
    "        - Total number seqs written : %d\n",
    "        and return a dict : \n",
    "          {Total_number_of_input_sequences: %d,\n",
    "           Read_too_short_after_quality_truncation: %d,\n",
    "           Median_sequence_length: %d,\n",
    "           Total_number_seqs_written: %d}'''\n",
    "    dictOfSplitLibraryOutputs = {}\n",
    "    pattern = re.compile(r\"^(?P<key>[a-zA-Z0-9_\\s]+):\\s(?P<value>[0-9,.]+).*\", re.IGNORECASE)\n",
    "    with open(nameOfSplitLibraryOutputFile,\"r\") as fh:\n",
    "        for line in fh.readlines():\n",
    "            m = re.match(pattern,line)\n",
    "            if m:\n",
    "                key = m.group('key')\n",
    "                if key == \"Total number of input sequences\" or key == \"Read too short after quality truncation\" or key == \"Total number seqs written\":\n",
    "                    key = key.replace(\" \",\"_\")\n",
    "                    dictOfSplitLibraryOutputs[key] = int(m.group('value'))\n",
    "                elif key == \"Median sequence length\":\n",
    "                    key = key.replace(\" \",\"_\")\n",
    "                    dictOfSplitLibraryOutputs[key] = float(m.group('value'))\n",
    "    fh.close()\n",
    "    return dictOfSplitLibraryOutputs"
   ]
  },
  {
   "cell_type": "markdown",
   "metadata": {},
   "source": [
    "## Get  fastq files"
   ]
  },
  {
   "cell_type": "code",
   "execution_count": 16,
   "metadata": {},
   "outputs": [],
   "source": [
    "listOfFastqGZFilesIn = sorted([file for file in os.listdir(dirOfFastqGZFiles) if fnmatch(file,extOfFastqGZFiles)])"
   ]
  },
  {
   "cell_type": "code",
   "execution_count": 17,
   "metadata": {},
   "outputs": [],
   "source": [
    "dictOfFastqGZFiles = {}\n",
    "setOfIds = set()"
   ]
  },
  {
   "cell_type": "code",
   "execution_count": 18,
   "metadata": {},
   "outputs": [],
   "source": [
    "# MOCK Pattern ID\n",
    "mockid = re.compile(r\"(?P<Id>[1234567890B]+)_.*_(?P<R>R[12])[_01]*\\.fastq\\.gz\")"
   ]
  },
  {
   "cell_type": "code",
   "execution_count": 19,
   "metadata": {},
   "outputs": [
    {
     "name": "stdout",
     "output_type": "stream",
     "text": [
      "Size of Ids set : 155, size of dict keys : 310\n"
     ]
    }
   ],
   "source": [
    "for file in listOfFastqGZFilesIn:\n",
    "    match_file = mockid.match(file)\n",
    "    if match_file:\n",
    "        dictOfFastqGZFiles[(match_file.group('Id'), match_file.group('R'))] = file\n",
    "        setOfIds.add(match_file.group('Id'))\n",
    "    else:\n",
    "        print(\"Error on file : {0:s}\".format(file))\n",
    "print(\"Size of Ids set : {0:d}, size of dict keys : {1:d}\".format(len(setOfIds),len(list(dictOfFastqGZFiles.keys()))))"
   ]
  },
  {
   "cell_type": "markdown",
   "metadata": {},
   "source": [
    "## Controls and corrections"
   ]
  },
  {
   "cell_type": "code",
   "execution_count": 20,
   "metadata": {},
   "outputs": [],
   "source": [
    "dictOfTestId = {}\n",
    "for (Id,R) in dictOfFastqGZFiles:\n",
    "    try:\n",
    "        dictOfTestId[Id].add(R)\n",
    "    except KeyError:\n",
    "        dictOfTestId[Id] = set()\n",
    "        dictOfTestId[Id].add(R)"
   ]
  },
  {
   "cell_type": "code",
   "execution_count": 21,
   "metadata": {},
   "outputs": [],
   "source": [
    "setOfMismatchId = set()\n",
    "for Id in dictOfTestId:\n",
    "    IdToPop = False\n",
    "    if len(dictOfTestId[Id]) != 2:\n",
    "        print(\"Length error for Id {0:s} :\".format(Id))\n",
    "        print(dictOfTestId[Id])\n",
    "        IdToPop = True\n",
    "    if R1 not in dictOfTestId[Id] or R2 not in dictOfTestId[Id]:\n",
    "        print(\"Mismatch reads for Id {0:s} :\".format(Id))\n",
    "        print(dictOfTestId[Id])\n",
    "        IdToPop = True\n",
    "    if IdToPop:\n",
    "        setOfMismatchId.add((Id,dictOfTestId[Id].pop()))"
   ]
  },
  {
   "cell_type": "code",
   "execution_count": 22,
   "metadata": {},
   "outputs": [],
   "source": [
    "# remove wrong ids\n",
    "for wId,R in setOfMismatchId: \n",
    "    try:\n",
    "        dictOfFastqGZFiles.pop((wId,R), None)\n",
    "        if wId in setOfIds: \n",
    "            setOfIds.remove(wId)\n",
    "    except KeyError:\n",
    "        print(\"Error, key not found.\")"
   ]
  },
  {
   "cell_type": "code",
   "execution_count": 23,
   "metadata": {},
   "outputs": [
    {
     "name": "stdout",
     "output_type": "stream",
     "text": [
      "Size of Ids set : 155 (x2 = 310), size of dict keys : 310\n"
     ]
    }
   ],
   "source": [
    "print(\"Size of Ids set : {0:d} (x2 = {1:d}), size of dict keys : {2:d}\".format(len(setOfIds),2*len(setOfIds),len(list(dictOfFastqGZFiles.keys()))))"
   ]
  },
  {
   "cell_type": "markdown",
   "metadata": {},
   "source": [
    "## Trimm, Assembly (PEAR) and clean up (qiime::split_library)"
   ]
  },
  {
   "cell_type": "code",
   "execution_count": 24,
   "metadata": {},
   "outputs": [],
   "source": [
    "print_output = False\n",
    "run = True"
   ]
  },
  {
   "cell_type": "code",
   "execution_count": 25,
   "metadata": {},
   "outputs": [],
   "source": [
    "setOfIds = natsorted(setOfIds)"
   ]
  },
  {
   "cell_type": "code",
   "execution_count": 26,
   "metadata": {
    "scrolled": true
   },
   "outputs": [
    {
     "name": "stdout",
     "output_type": "stream",
     "text": [
      "TrimmomaticPE: Started with arguments:\n",
      " /home/srhuet/projets/Biscal_xp2_coal/data/ext/raw/samples/1_S1_R1_001.fastq.gz /home/srhuet/projets/Biscal_xp2_coal/data/ext/raw/samples/1_S1_R2_001.fastq.gz /home/srhuet/projets/Biscal_xp2_coal/data/tmp/paired.d/1_S1_R1_001.paired.fastq.gz /home/srhuet/projets/Biscal_xp2_coal/data/tmp/paired.d/1_S1_R1_001.unpaired.fastq.gz /home/srhuet/projets/Biscal_xp2_coal/data/tmp/paired.d/1_S1_R2_001.paired.fastq.gz /home/srhuet/projets/Biscal_xp2_coal/data/tmp/paired.d/1_S1_R2_001.unpaired.fastq.gz MINLEN:36\n",
      "Quality encoding detected as phred33\n",
      "Input Read Pairs: 15407 Both Surviving: 11258 (73,07%) Forward Only Surviving: 49 (0,32%) Reverse Only Surviving: 81 (0,53%) Dropped: 4019 (26,09%)\n",
      "TrimmomaticPE: Completed successfully\n",
      "\n",
      "/bin/cat: /home/srhuet/projets/Biscal_xp2_coal/data/ext/MF_sampleid.txt: Aucun fichier ou dossier de ce type\n",
      "\n",
      "/bin/cat: /home/srhuet/projets/Biscal_xp2_coal/data/ext/MF_sampleid.txt: Aucun fichier ou dossier de ce type\n",
      "\n",
      "TrimmomaticPE: Started with arguments:\n",
      " /home/srhuet/projets/Biscal_xp2_coal/data/ext/raw/samples/2_S2_R1_001.fastq.gz /home/srhuet/projets/Biscal_xp2_coal/data/ext/raw/samples/2_S2_R2_001.fastq.gz /home/srhuet/projets/Biscal_xp2_coal/data/tmp/paired.d/2_S2_R1_001.paired.fastq.gz /home/srhuet/projets/Biscal_xp2_coal/data/tmp/paired.d/2_S2_R1_001.unpaired.fastq.gz /home/srhuet/projets/Biscal_xp2_coal/data/tmp/paired.d/2_S2_R2_001.paired.fastq.gz /home/srhuet/projets/Biscal_xp2_coal/data/tmp/paired.d/2_S2_R2_001.unpaired.fastq.gz MINLEN:36\n",
      "Quality encoding detected as phred33\n",
      "Input Read Pairs: 22685 Both Surviving: 17041 (75,12%) Forward Only Surviving: 71 (0,31%) Reverse Only Surviving: 125 (0,55%) Dropped: 5448 (24,02%)\n",
      "TrimmomaticPE: Completed successfully\n",
      "\n",
      "/bin/cat: /home/srhuet/projets/Biscal_xp2_coal/data/ext/MF_sampleid.txt: Aucun fichier ou dossier de ce type\n",
      "\n",
      "/bin/grep: /home/srhuet/projets/Biscal_xp2_coal/data/ext/MF_sampleid.txt: Aucun fichier ou dossier de ce type\n",
      "\n",
      "TrimmomaticPE: Started with arguments:\n",
      " /home/srhuet/projets/Biscal_xp2_coal/data/ext/raw/samples/3_S3_R1_001.fastq.gz /home/srhuet/projets/Biscal_xp2_coal/data/ext/raw/samples/3_S3_R2_001.fastq.gz /home/srhuet/projets/Biscal_xp2_coal/data/tmp/paired.d/3_S3_R1_001.paired.fastq.gz /home/srhuet/projets/Biscal_xp2_coal/data/tmp/paired.d/3_S3_R1_001.unpaired.fastq.gz /home/srhuet/projets/Biscal_xp2_coal/data/tmp/paired.d/3_S3_R2_001.paired.fastq.gz /home/srhuet/projets/Biscal_xp2_coal/data/tmp/paired.d/3_S3_R2_001.unpaired.fastq.gz MINLEN:36\n",
      "Quality encoding detected as phred33\n",
      "Input Read Pairs: 22304 Both Surviving: 16667 (74,73%) Forward Only Surviving: 44 (0,20%) Reverse Only Surviving: 114 (0,51%) Dropped: 5479 (24,57%)\n",
      "TrimmomaticPE: Completed successfully\n",
      "\n",
      "/bin/cat: /home/srhuet/projets/Biscal_xp2_coal/data/ext/MF_sampleid.txt: Aucun fichier ou dossier de ce type\n",
      "\n",
      "/bin/grep: /home/srhuet/projets/Biscal_xp2_coal/data/ext/MF_sampleid.txt: Aucun fichier ou dossier de ce type\n",
      "\n",
      "TrimmomaticPE: Started with arguments:\n",
      " /home/srhuet/projets/Biscal_xp2_coal/data/ext/raw/samples/4_S4_R1_001.fastq.gz /home/srhuet/projets/Biscal_xp2_coal/data/ext/raw/samples/4_S4_R2_001.fastq.gz /home/srhuet/projets/Biscal_xp2_coal/data/tmp/paired.d/4_S4_R1_001.paired.fastq.gz /home/srhuet/projets/Biscal_xp2_coal/data/tmp/paired.d/4_S4_R1_001.unpaired.fastq.gz /home/srhuet/projets/Biscal_xp2_coal/data/tmp/paired.d/4_S4_R2_001.paired.fastq.gz /home/srhuet/projets/Biscal_xp2_coal/data/tmp/paired.d/4_S4_R2_001.unpaired.fastq.gz MINLEN:36\n",
      "Quality encoding detected as phred33\n",
      "Input Read Pairs: 20949 Both Surviving: 15891 (75,86%) Forward Only Surviving: 54 (0,26%) Reverse Only Surviving: 113 (0,54%) Dropped: 4891 (23,35%)\n",
      "TrimmomaticPE: Completed successfully\n",
      "\n",
      "/bin/cat: /home/srhuet/projets/Biscal_xp2_coal/data/ext/MF_sampleid.txt: Aucun fichier ou dossier de ce type\n",
      "\n",
      "/bin/grep: /home/srhuet/projets/Biscal_xp2_coal/data/ext/MF_sampleid.txt: Aucun fichier ou dossier de ce type\n",
      "\n",
      "TrimmomaticPE: Started with arguments:\n",
      " /home/srhuet/projets/Biscal_xp2_coal/data/ext/raw/samples/5_S5_R1_001.fastq.gz /home/srhuet/projets/Biscal_xp2_coal/data/ext/raw/samples/5_S5_R2_001.fastq.gz /home/srhuet/projets/Biscal_xp2_coal/data/tmp/paired.d/5_S5_R1_001.paired.fastq.gz /home/srhuet/projets/Biscal_xp2_coal/data/tmp/paired.d/5_S5_R1_001.unpaired.fastq.gz /home/srhuet/projets/Biscal_xp2_coal/data/tmp/paired.d/5_S5_R2_001.paired.fastq.gz /home/srhuet/projets/Biscal_xp2_coal/data/tmp/paired.d/5_S5_R2_001.unpaired.fastq.gz MINLEN:36\n",
      "Quality encoding detected as phred33\n",
      "Input Read Pairs: 23597 Both Surviving: 17789 (75,39%) Forward Only Surviving: 62 (0,26%) Reverse Only Surviving: 111 (0,47%) Dropped: 5635 (23,88%)\n",
      "TrimmomaticPE: Completed successfully\n",
      "\n",
      "/bin/cat: /home/srhuet/projets/Biscal_xp2_coal/data/ext/MF_sampleid.txt: Aucun fichier ou dossier de ce type\n",
      "\n",
      "/bin/grep: /home/srhuet/projets/Biscal_xp2_coal/data/ext/MF_sampleid.txt: Aucun fichier ou dossier de ce type\n",
      "\n",
      "TrimmomaticPE: Started with arguments:\n",
      " /home/srhuet/projets/Biscal_xp2_coal/data/ext/raw/samples/6_S6_R1_001.fastq.gz /home/srhuet/projets/Biscal_xp2_coal/data/ext/raw/samples/6_S6_R2_001.fastq.gz /home/srhuet/projets/Biscal_xp2_coal/data/tmp/paired.d/6_S6_R1_001.paired.fastq.gz /home/srhuet/projets/Biscal_xp2_coal/data/tmp/paired.d/6_S6_R1_001.unpaired.fastq.gz /home/srhuet/projets/Biscal_xp2_coal/data/tmp/paired.d/6_S6_R2_001.paired.fastq.gz /home/srhuet/projets/Biscal_xp2_coal/data/tmp/paired.d/6_S6_R2_001.unpaired.fastq.gz MINLEN:36\n",
      "Quality encoding detected as phred33\n",
      "Input Read Pairs: 15131 Both Surviving: 10204 (67,44%) Forward Only Surviving: 49 (0,32%) Reverse Only Surviving: 91 (0,60%) Dropped: 4787 (31,64%)\n",
      "TrimmomaticPE: Completed successfully\n",
      "\n",
      "/bin/cat: /home/srhuet/projets/Biscal_xp2_coal/data/ext/MF_sampleid.txt: Aucun fichier ou dossier de ce type\n",
      "\n",
      "/bin/grep: /home/srhuet/projets/Biscal_xp2_coal/data/ext/MF_sampleid.txt: Aucun fichier ou dossier de ce type\n",
      "\n",
      "TrimmomaticPE: Started with arguments:\n",
      " /home/srhuet/projets/Biscal_xp2_coal/data/ext/raw/samples/7_S49_R1_001.fastq.gz /home/srhuet/projets/Biscal_xp2_coal/data/ext/raw/samples/7_S49_R2_001.fastq.gz /home/srhuet/projets/Biscal_xp2_coal/data/tmp/paired.d/7_S49_R1_001.paired.fastq.gz /home/srhuet/projets/Biscal_xp2_coal/data/tmp/paired.d/7_S49_R1_001.unpaired.fastq.gz /home/srhuet/projets/Biscal_xp2_coal/data/tmp/paired.d/7_S49_R2_001.paired.fastq.gz /home/srhuet/projets/Biscal_xp2_coal/data/tmp/paired.d/7_S49_R2_001.unpaired.fastq.gz MINLEN:36\n",
      "Quality encoding detected as phred33\n",
      "Input Read Pairs: 20622 Both Surviving: 14122 (68,48%) Forward Only Surviving: 79 (0,38%) Reverse Only Surviving: 126 (0,61%) Dropped: 6295 (30,53%)\n",
      "TrimmomaticPE: Completed successfully\n",
      "\n",
      "/bin/cat: /home/srhuet/projets/Biscal_xp2_coal/data/ext/MF_sampleid.txt: Aucun fichier ou dossier de ce type\n",
      "\n",
      "/bin/grep: /home/srhuet/projets/Biscal_xp2_coal/data/ext/MF_sampleid.txt: Aucun fichier ou dossier de ce type\n",
      "\n",
      "TrimmomaticPE: Started with arguments:\n",
      " /home/srhuet/projets/Biscal_xp2_coal/data/ext/raw/samples/8_S50_R1_001.fastq.gz /home/srhuet/projets/Biscal_xp2_coal/data/ext/raw/samples/8_S50_R2_001.fastq.gz /home/srhuet/projets/Biscal_xp2_coal/data/tmp/paired.d/8_S50_R1_001.paired.fastq.gz /home/srhuet/projets/Biscal_xp2_coal/data/tmp/paired.d/8_S50_R1_001.unpaired.fastq.gz /home/srhuet/projets/Biscal_xp2_coal/data/tmp/paired.d/8_S50_R2_001.paired.fastq.gz /home/srhuet/projets/Biscal_xp2_coal/data/tmp/paired.d/8_S50_R2_001.unpaired.fastq.gz MINLEN:36\n",
      "Quality encoding detected as phred33\n",
      "Input Read Pairs: 15249 Both Surviving: 10581 (69,39%) Forward Only Surviving: 48 (0,31%) Reverse Only Surviving: 104 (0,68%) Dropped: 4516 (29,62%)\n",
      "TrimmomaticPE: Completed successfully\n",
      "\n",
      "/bin/cat: /home/srhuet/projets/Biscal_xp2_coal/data/ext/MF_sampleid.txt: Aucun fichier ou dossier de ce type\n",
      "\n",
      "/bin/grep: /home/srhuet/projets/Biscal_xp2_coal/data/ext/MF_sampleid.txt: Aucun fichier ou dossier de ce type\n",
      "\n",
      "TrimmomaticPE: Started with arguments:\n",
      " /home/srhuet/projets/Biscal_xp2_coal/data/ext/raw/samples/9_S51_R1_001.fastq.gz /home/srhuet/projets/Biscal_xp2_coal/data/ext/raw/samples/9_S51_R2_001.fastq.gz /home/srhuet/projets/Biscal_xp2_coal/data/tmp/paired.d/9_S51_R1_001.paired.fastq.gz /home/srhuet/projets/Biscal_xp2_coal/data/tmp/paired.d/9_S51_R1_001.unpaired.fastq.gz /home/srhuet/projets/Biscal_xp2_coal/data/tmp/paired.d/9_S51_R2_001.paired.fastq.gz /home/srhuet/projets/Biscal_xp2_coal/data/tmp/paired.d/9_S51_R2_001.unpaired.fastq.gz MINLEN:36\n",
      "Quality encoding detected as phred33\n",
      "Input Read Pairs: 14789 Both Surviving: 10063 (68,04%) Forward Only Surviving: 34 (0,23%) Reverse Only Surviving: 88 (0,60%) Dropped: 4604 (31,13%)\n",
      "TrimmomaticPE: Completed successfully\n",
      "\n"
     ]
    },
    {
     "name": "stdout",
     "output_type": "stream",
     "text": [
      "/bin/cat: /home/srhuet/projets/Biscal_xp2_coal/data/ext/MF_sampleid.txt: Aucun fichier ou dossier de ce type\n",
      "\n",
      "/bin/grep: /home/srhuet/projets/Biscal_xp2_coal/data/ext/MF_sampleid.txt: Aucun fichier ou dossier de ce type\n",
      "\n",
      "TrimmomaticPE: Started with arguments:\n",
      " /home/srhuet/projets/Biscal_xp2_coal/data/ext/raw/samples/10_S52_R1_001.fastq.gz /home/srhuet/projets/Biscal_xp2_coal/data/ext/raw/samples/10_S52_R2_001.fastq.gz /home/srhuet/projets/Biscal_xp2_coal/data/tmp/paired.d/10_S52_R1_001.paired.fastq.gz /home/srhuet/projets/Biscal_xp2_coal/data/tmp/paired.d/10_S52_R1_001.unpaired.fastq.gz /home/srhuet/projets/Biscal_xp2_coal/data/tmp/paired.d/10_S52_R2_001.paired.fastq.gz /home/srhuet/projets/Biscal_xp2_coal/data/tmp/paired.d/10_S52_R2_001.unpaired.fastq.gz MINLEN:36\n",
      "Quality encoding detected as phred33\n",
      "Input Read Pairs: 20424 Both Surviving: 14919 (73,05%) Forward Only Surviving: 41 (0,20%) Reverse Only Surviving: 114 (0,56%) Dropped: 5350 (26,19%)\n",
      "TrimmomaticPE: Completed successfully\n",
      "\n",
      "/bin/cat: /home/srhuet/projets/Biscal_xp2_coal/data/ext/MF_sampleid.txt: Aucun fichier ou dossier de ce type\n",
      "\n",
      "/bin/grep: /home/srhuet/projets/Biscal_xp2_coal/data/ext/MF_sampleid.txt: Aucun fichier ou dossier de ce type\n",
      "\n",
      "TrimmomaticPE: Started with arguments:\n",
      " /home/srhuet/projets/Biscal_xp2_coal/data/ext/raw/samples/11_S7_R1_001.fastq.gz /home/srhuet/projets/Biscal_xp2_coal/data/ext/raw/samples/11_S7_R2_001.fastq.gz /home/srhuet/projets/Biscal_xp2_coal/data/tmp/paired.d/11_S7_R1_001.paired.fastq.gz /home/srhuet/projets/Biscal_xp2_coal/data/tmp/paired.d/11_S7_R1_001.unpaired.fastq.gz /home/srhuet/projets/Biscal_xp2_coal/data/tmp/paired.d/11_S7_R2_001.paired.fastq.gz /home/srhuet/projets/Biscal_xp2_coal/data/tmp/paired.d/11_S7_R2_001.unpaired.fastq.gz MINLEN:36\n",
      "Quality encoding detected as phred33\n",
      "Input Read Pairs: 15172 Both Surviving: 11584 (76,35%) Forward Only Surviving: 32 (0,21%) Reverse Only Surviving: 77 (0,51%) Dropped: 3479 (22,93%)\n",
      "TrimmomaticPE: Completed successfully\n",
      "\n",
      "/bin/cat: /home/srhuet/projets/Biscal_xp2_coal/data/ext/MF_sampleid.txt: Aucun fichier ou dossier de ce type\n",
      "\n",
      "/bin/grep: /home/srhuet/projets/Biscal_xp2_coal/data/ext/MF_sampleid.txt: Aucun fichier ou dossier de ce type\n",
      "\n",
      "TrimmomaticPE: Started with arguments:\n",
      " /home/srhuet/projets/Biscal_xp2_coal/data/ext/raw/samples/12_S8_R1_001.fastq.gz /home/srhuet/projets/Biscal_xp2_coal/data/ext/raw/samples/12_S8_R2_001.fastq.gz /home/srhuet/projets/Biscal_xp2_coal/data/tmp/paired.d/12_S8_R1_001.paired.fastq.gz /home/srhuet/projets/Biscal_xp2_coal/data/tmp/paired.d/12_S8_R1_001.unpaired.fastq.gz /home/srhuet/projets/Biscal_xp2_coal/data/tmp/paired.d/12_S8_R2_001.paired.fastq.gz /home/srhuet/projets/Biscal_xp2_coal/data/tmp/paired.d/12_S8_R2_001.unpaired.fastq.gz MINLEN:36\n",
      "Quality encoding detected as phred33\n",
      "Input Read Pairs: 19910 Both Surviving: 15243 (76,56%) Forward Only Surviving: 34 (0,17%) Reverse Only Surviving: 69 (0,35%) Dropped: 4564 (22,92%)\n",
      "TrimmomaticPE: Completed successfully\n",
      "\n",
      "/bin/cat: /home/srhuet/projets/Biscal_xp2_coal/data/ext/MF_sampleid.txt: Aucun fichier ou dossier de ce type\n",
      "\n",
      "/bin/grep: /home/srhuet/projets/Biscal_xp2_coal/data/ext/MF_sampleid.txt: Aucun fichier ou dossier de ce type\n",
      "\n",
      "TrimmomaticPE: Started with arguments:\n",
      " /home/srhuet/projets/Biscal_xp2_coal/data/ext/raw/samples/13_S9_R1_001.fastq.gz /home/srhuet/projets/Biscal_xp2_coal/data/ext/raw/samples/13_S9_R2_001.fastq.gz /home/srhuet/projets/Biscal_xp2_coal/data/tmp/paired.d/13_S9_R1_001.paired.fastq.gz /home/srhuet/projets/Biscal_xp2_coal/data/tmp/paired.d/13_S9_R1_001.unpaired.fastq.gz /home/srhuet/projets/Biscal_xp2_coal/data/tmp/paired.d/13_S9_R2_001.paired.fastq.gz /home/srhuet/projets/Biscal_xp2_coal/data/tmp/paired.d/13_S9_R2_001.unpaired.fastq.gz MINLEN:36\n",
      "Quality encoding detected as phred33\n",
      "Input Read Pairs: 17157 Both Surviving: 13174 (76,78%) Forward Only Surviving: 43 (0,25%) Reverse Only Surviving: 95 (0,55%) Dropped: 3845 (22,41%)\n",
      "TrimmomaticPE: Completed successfully\n",
      "\n",
      "/bin/cat: /home/srhuet/projets/Biscal_xp2_coal/data/ext/MF_sampleid.txt: Aucun fichier ou dossier de ce type\n",
      "\n",
      "/bin/grep: /home/srhuet/projets/Biscal_xp2_coal/data/ext/MF_sampleid.txt: Aucun fichier ou dossier de ce type\n",
      "\n",
      "TrimmomaticPE: Started with arguments:\n",
      " /home/srhuet/projets/Biscal_xp2_coal/data/ext/raw/samples/14_S10_R1_001.fastq.gz /home/srhuet/projets/Biscal_xp2_coal/data/ext/raw/samples/14_S10_R2_001.fastq.gz /home/srhuet/projets/Biscal_xp2_coal/data/tmp/paired.d/14_S10_R1_001.paired.fastq.gz /home/srhuet/projets/Biscal_xp2_coal/data/tmp/paired.d/14_S10_R1_001.unpaired.fastq.gz /home/srhuet/projets/Biscal_xp2_coal/data/tmp/paired.d/14_S10_R2_001.paired.fastq.gz /home/srhuet/projets/Biscal_xp2_coal/data/tmp/paired.d/14_S10_R2_001.unpaired.fastq.gz MINLEN:36\n",
      "Quality encoding detected as phred33\n",
      "Input Read Pairs: 18319 Both Surviving: 14197 (77,50%) Forward Only Surviving: 40 (0,22%) Reverse Only Surviving: 72 (0,39%) Dropped: 4010 (21,89%)\n",
      "TrimmomaticPE: Completed successfully\n",
      "\n",
      "/bin/cat: /home/srhuet/projets/Biscal_xp2_coal/data/ext/MF_sampleid.txt: Aucun fichier ou dossier de ce type\n",
      "\n",
      "/bin/grep: /home/srhuet/projets/Biscal_xp2_coal/data/ext/MF_sampleid.txt: Aucun fichier ou dossier de ce type\n",
      "\n",
      "TrimmomaticPE: Started with arguments:\n",
      " /home/srhuet/projets/Biscal_xp2_coal/data/ext/raw/samples/15_S11_R1_001.fastq.gz /home/srhuet/projets/Biscal_xp2_coal/data/ext/raw/samples/15_S11_R2_001.fastq.gz /home/srhuet/projets/Biscal_xp2_coal/data/tmp/paired.d/15_S11_R1_001.paired.fastq.gz /home/srhuet/projets/Biscal_xp2_coal/data/tmp/paired.d/15_S11_R1_001.unpaired.fastq.gz /home/srhuet/projets/Biscal_xp2_coal/data/tmp/paired.d/15_S11_R2_001.paired.fastq.gz /home/srhuet/projets/Biscal_xp2_coal/data/tmp/paired.d/15_S11_R2_001.unpaired.fastq.gz MINLEN:36\n",
      "Quality encoding detected as phred33\n",
      "Input Read Pairs: 15656 Both Surviving: 11704 (74,76%) Forward Only Surviving: 34 (0,22%) Reverse Only Surviving: 77 (0,49%) Dropped: 3841 (24,53%)\n",
      "TrimmomaticPE: Completed successfully\n",
      "\n",
      "/bin/cat: /home/srhuet/projets/Biscal_xp2_coal/data/ext/MF_sampleid.txt: Aucun fichier ou dossier de ce type\n",
      "\n",
      "/bin/grep: /home/srhuet/projets/Biscal_xp2_coal/data/ext/MF_sampleid.txt: Aucun fichier ou dossier de ce type\n",
      "\n",
      "TrimmomaticPE: Started with arguments:\n",
      " /home/srhuet/projets/Biscal_xp2_coal/data/ext/raw/samples/16_S12_R1_001.fastq.gz /home/srhuet/projets/Biscal_xp2_coal/data/ext/raw/samples/16_S12_R2_001.fastq.gz /home/srhuet/projets/Biscal_xp2_coal/data/tmp/paired.d/16_S12_R1_001.paired.fastq.gz /home/srhuet/projets/Biscal_xp2_coal/data/tmp/paired.d/16_S12_R1_001.unpaired.fastq.gz /home/srhuet/projets/Biscal_xp2_coal/data/tmp/paired.d/16_S12_R2_001.paired.fastq.gz /home/srhuet/projets/Biscal_xp2_coal/data/tmp/paired.d/16_S12_R2_001.unpaired.fastq.gz MINLEN:36\n",
      "Quality encoding detected as phred33\n",
      "Input Read Pairs: 16501 Both Surviving: 12113 (73,41%) Forward Only Surviving: 60 (0,36%) Reverse Only Surviving: 100 (0,61%) Dropped: 4228 (25,62%)\n",
      "TrimmomaticPE: Completed successfully\n",
      "\n",
      "/bin/cat: /home/srhuet/projets/Biscal_xp2_coal/data/ext/MF_sampleid.txt: Aucun fichier ou dossier de ce type\n",
      "\n",
      "/bin/grep: /home/srhuet/projets/Biscal_xp2_coal/data/ext/MF_sampleid.txt: Aucun fichier ou dossier de ce type\n",
      "\n",
      "TrimmomaticPE: Started with arguments:\n",
      " /home/srhuet/projets/Biscal_xp2_coal/data/ext/raw/samples/17_S53_R1_001.fastq.gz /home/srhuet/projets/Biscal_xp2_coal/data/ext/raw/samples/17_S53_R2_001.fastq.gz /home/srhuet/projets/Biscal_xp2_coal/data/tmp/paired.d/17_S53_R1_001.paired.fastq.gz /home/srhuet/projets/Biscal_xp2_coal/data/tmp/paired.d/17_S53_R1_001.unpaired.fastq.gz /home/srhuet/projets/Biscal_xp2_coal/data/tmp/paired.d/17_S53_R2_001.paired.fastq.gz /home/srhuet/projets/Biscal_xp2_coal/data/tmp/paired.d/17_S53_R2_001.unpaired.fastq.gz MINLEN:36\n",
      "Quality encoding detected as phred33\n",
      "Input Read Pairs: 16263 Both Surviving: 11275 (69,33%) Forward Only Surviving: 40 (0,25%) Reverse Only Surviving: 73 (0,45%) Dropped: 4875 (29,98%)\n",
      "TrimmomaticPE: Completed successfully\n",
      "\n",
      "/bin/cat: /home/srhuet/projets/Biscal_xp2_coal/data/ext/MF_sampleid.txt: Aucun fichier ou dossier de ce type\n",
      "\n",
      "/bin/grep: /home/srhuet/projets/Biscal_xp2_coal/data/ext/MF_sampleid.txt: Aucun fichier ou dossier de ce type\n",
      "\n"
     ]
    },
    {
     "name": "stdout",
     "output_type": "stream",
     "text": [
      "TrimmomaticPE: Started with arguments:\n",
      " /home/srhuet/projets/Biscal_xp2_coal/data/ext/raw/samples/18_S54_R1_001.fastq.gz /home/srhuet/projets/Biscal_xp2_coal/data/ext/raw/samples/18_S54_R2_001.fastq.gz /home/srhuet/projets/Biscal_xp2_coal/data/tmp/paired.d/18_S54_R1_001.paired.fastq.gz /home/srhuet/projets/Biscal_xp2_coal/data/tmp/paired.d/18_S54_R1_001.unpaired.fastq.gz /home/srhuet/projets/Biscal_xp2_coal/data/tmp/paired.d/18_S54_R2_001.paired.fastq.gz /home/srhuet/projets/Biscal_xp2_coal/data/tmp/paired.d/18_S54_R2_001.unpaired.fastq.gz MINLEN:36\n",
      "Quality encoding detected as phred33\n",
      "Input Read Pairs: 13280 Both Surviving: 9842 (74,11%) Forward Only Surviving: 40 (0,30%) Reverse Only Surviving: 71 (0,53%) Dropped: 3327 (25,05%)\n",
      "TrimmomaticPE: Completed successfully\n",
      "\n",
      "/bin/cat: /home/srhuet/projets/Biscal_xp2_coal/data/ext/MF_sampleid.txt: Aucun fichier ou dossier de ce type\n",
      "\n",
      "/bin/grep: /home/srhuet/projets/Biscal_xp2_coal/data/ext/MF_sampleid.txt: Aucun fichier ou dossier de ce type\n",
      "\n",
      "TrimmomaticPE: Started with arguments:\n",
      " /home/srhuet/projets/Biscal_xp2_coal/data/ext/raw/samples/19_S55_R1_001.fastq.gz /home/srhuet/projets/Biscal_xp2_coal/data/ext/raw/samples/19_S55_R2_001.fastq.gz /home/srhuet/projets/Biscal_xp2_coal/data/tmp/paired.d/19_S55_R1_001.paired.fastq.gz /home/srhuet/projets/Biscal_xp2_coal/data/tmp/paired.d/19_S55_R1_001.unpaired.fastq.gz /home/srhuet/projets/Biscal_xp2_coal/data/tmp/paired.d/19_S55_R2_001.paired.fastq.gz /home/srhuet/projets/Biscal_xp2_coal/data/tmp/paired.d/19_S55_R2_001.unpaired.fastq.gz MINLEN:36\n",
      "Quality encoding detected as phred33\n",
      "Input Read Pairs: 18294 Both Surviving: 13760 (75,22%) Forward Only Surviving: 34 (0,19%) Reverse Only Surviving: 107 (0,58%) Dropped: 4393 (24,01%)\n",
      "TrimmomaticPE: Completed successfully\n",
      "\n",
      "/bin/cat: /home/srhuet/projets/Biscal_xp2_coal/data/ext/MF_sampleid.txt: Aucun fichier ou dossier de ce type\n",
      "\n",
      "/bin/grep: /home/srhuet/projets/Biscal_xp2_coal/data/ext/MF_sampleid.txt: Aucun fichier ou dossier de ce type\n",
      "\n",
      "TrimmomaticPE: Started with arguments:\n",
      " /home/srhuet/projets/Biscal_xp2_coal/data/ext/raw/samples/20_S56_R1_001.fastq.gz /home/srhuet/projets/Biscal_xp2_coal/data/ext/raw/samples/20_S56_R2_001.fastq.gz /home/srhuet/projets/Biscal_xp2_coal/data/tmp/paired.d/20_S56_R1_001.paired.fastq.gz /home/srhuet/projets/Biscal_xp2_coal/data/tmp/paired.d/20_S56_R1_001.unpaired.fastq.gz /home/srhuet/projets/Biscal_xp2_coal/data/tmp/paired.d/20_S56_R2_001.paired.fastq.gz /home/srhuet/projets/Biscal_xp2_coal/data/tmp/paired.d/20_S56_R2_001.unpaired.fastq.gz MINLEN:36\n",
      "Quality encoding detected as phred33\n",
      "Input Read Pairs: 20985 Both Surviving: 16108 (76,76%) Forward Only Surviving: 50 (0,24%) Reverse Only Surviving: 85 (0,41%) Dropped: 4742 (22,60%)\n",
      "TrimmomaticPE: Completed successfully\n",
      "\n",
      "/bin/cat: /home/srhuet/projets/Biscal_xp2_coal/data/ext/MF_sampleid.txt: Aucun fichier ou dossier de ce type\n",
      "\n",
      "/bin/grep: /home/srhuet/projets/Biscal_xp2_coal/data/ext/MF_sampleid.txt: Aucun fichier ou dossier de ce type\n",
      "\n",
      "TrimmomaticPE: Started with arguments:\n",
      " /home/srhuet/projets/Biscal_xp2_coal/data/ext/raw/samples/21_S13_R1_001.fastq.gz /home/srhuet/projets/Biscal_xp2_coal/data/ext/raw/samples/21_S13_R2_001.fastq.gz /home/srhuet/projets/Biscal_xp2_coal/data/tmp/paired.d/21_S13_R1_001.paired.fastq.gz /home/srhuet/projets/Biscal_xp2_coal/data/tmp/paired.d/21_S13_R1_001.unpaired.fastq.gz /home/srhuet/projets/Biscal_xp2_coal/data/tmp/paired.d/21_S13_R2_001.paired.fastq.gz /home/srhuet/projets/Biscal_xp2_coal/data/tmp/paired.d/21_S13_R2_001.unpaired.fastq.gz MINLEN:36\n",
      "Quality encoding detected as phred33\n",
      "Input Read Pairs: 16899 Both Surviving: 13010 (76,99%) Forward Only Surviving: 43 (0,25%) Reverse Only Surviving: 102 (0,60%) Dropped: 3744 (22,16%)\n",
      "TrimmomaticPE: Completed successfully\n",
      "\n",
      "/bin/cat: /home/srhuet/projets/Biscal_xp2_coal/data/ext/MF_sampleid.txt: Aucun fichier ou dossier de ce type\n",
      "\n",
      "/bin/grep: /home/srhuet/projets/Biscal_xp2_coal/data/ext/MF_sampleid.txt: Aucun fichier ou dossier de ce type\n",
      "\n",
      "TrimmomaticPE: Started with arguments:\n",
      " /home/srhuet/projets/Biscal_xp2_coal/data/ext/raw/samples/22_S14_R1_001.fastq.gz /home/srhuet/projets/Biscal_xp2_coal/data/ext/raw/samples/22_S14_R2_001.fastq.gz /home/srhuet/projets/Biscal_xp2_coal/data/tmp/paired.d/22_S14_R1_001.paired.fastq.gz /home/srhuet/projets/Biscal_xp2_coal/data/tmp/paired.d/22_S14_R1_001.unpaired.fastq.gz /home/srhuet/projets/Biscal_xp2_coal/data/tmp/paired.d/22_S14_R2_001.paired.fastq.gz /home/srhuet/projets/Biscal_xp2_coal/data/tmp/paired.d/22_S14_R2_001.unpaired.fastq.gz MINLEN:36\n",
      "Quality encoding detected as phred33\n",
      "Input Read Pairs: 15698 Both Surviving: 11834 (75,39%) Forward Only Surviving: 42 (0,27%) Reverse Only Surviving: 78 (0,50%) Dropped: 3744 (23,85%)\n",
      "TrimmomaticPE: Completed successfully\n",
      "\n",
      "/bin/cat: /home/srhuet/projets/Biscal_xp2_coal/data/ext/MF_sampleid.txt: Aucun fichier ou dossier de ce type\n",
      "\n",
      "/bin/grep: /home/srhuet/projets/Biscal_xp2_coal/data/ext/MF_sampleid.txt: Aucun fichier ou dossier de ce type\n",
      "\n",
      "TrimmomaticPE: Started with arguments:\n",
      " /home/srhuet/projets/Biscal_xp2_coal/data/ext/raw/samples/23_S15_R1_001.fastq.gz /home/srhuet/projets/Biscal_xp2_coal/data/ext/raw/samples/23_S15_R2_001.fastq.gz /home/srhuet/projets/Biscal_xp2_coal/data/tmp/paired.d/23_S15_R1_001.paired.fastq.gz /home/srhuet/projets/Biscal_xp2_coal/data/tmp/paired.d/23_S15_R1_001.unpaired.fastq.gz /home/srhuet/projets/Biscal_xp2_coal/data/tmp/paired.d/23_S15_R2_001.paired.fastq.gz /home/srhuet/projets/Biscal_xp2_coal/data/tmp/paired.d/23_S15_R2_001.unpaired.fastq.gz MINLEN:36\n",
      "Quality encoding detected as phred33\n",
      "Input Read Pairs: 19560 Both Surviving: 15296 (78,20%) Forward Only Surviving: 41 (0,21%) Reverse Only Surviving: 114 (0,58%) Dropped: 4109 (21,01%)\n",
      "TrimmomaticPE: Completed successfully\n",
      "\n",
      "/bin/cat: /home/srhuet/projets/Biscal_xp2_coal/data/ext/MF_sampleid.txt: Aucun fichier ou dossier de ce type\n",
      "\n",
      "/bin/grep: /home/srhuet/projets/Biscal_xp2_coal/data/ext/MF_sampleid.txt: Aucun fichier ou dossier de ce type\n",
      "\n",
      "TrimmomaticPE: Started with arguments:\n",
      " /home/srhuet/projets/Biscal_xp2_coal/data/ext/raw/samples/24_S16_R1_001.fastq.gz /home/srhuet/projets/Biscal_xp2_coal/data/ext/raw/samples/24_S16_R2_001.fastq.gz /home/srhuet/projets/Biscal_xp2_coal/data/tmp/paired.d/24_S16_R1_001.paired.fastq.gz /home/srhuet/projets/Biscal_xp2_coal/data/tmp/paired.d/24_S16_R1_001.unpaired.fastq.gz /home/srhuet/projets/Biscal_xp2_coal/data/tmp/paired.d/24_S16_R2_001.paired.fastq.gz /home/srhuet/projets/Biscal_xp2_coal/data/tmp/paired.d/24_S16_R2_001.unpaired.fastq.gz MINLEN:36\n",
      "Quality encoding detected as phred33\n",
      "Input Read Pairs: 16738 Both Surviving: 14461 (86,40%) Forward Only Surviving: 24 (0,14%) Reverse Only Surviving: 71 (0,42%) Dropped: 2182 (13,04%)\n",
      "TrimmomaticPE: Completed successfully\n",
      "\n",
      "/bin/cat: /home/srhuet/projets/Biscal_xp2_coal/data/ext/MF_sampleid.txt: Aucun fichier ou dossier de ce type\n",
      "\n",
      "/bin/grep: /home/srhuet/projets/Biscal_xp2_coal/data/ext/MF_sampleid.txt: Aucun fichier ou dossier de ce type\n",
      "\n",
      "TrimmomaticPE: Started with arguments:\n",
      " /home/srhuet/projets/Biscal_xp2_coal/data/ext/raw/samples/25_S17_R1_001.fastq.gz /home/srhuet/projets/Biscal_xp2_coal/data/ext/raw/samples/25_S17_R2_001.fastq.gz /home/srhuet/projets/Biscal_xp2_coal/data/tmp/paired.d/25_S17_R1_001.paired.fastq.gz /home/srhuet/projets/Biscal_xp2_coal/data/tmp/paired.d/25_S17_R1_001.unpaired.fastq.gz /home/srhuet/projets/Biscal_xp2_coal/data/tmp/paired.d/25_S17_R2_001.paired.fastq.gz /home/srhuet/projets/Biscal_xp2_coal/data/tmp/paired.d/25_S17_R2_001.unpaired.fastq.gz MINLEN:36\n",
      "Quality encoding detected as phred33\n",
      "Input Read Pairs: 19025 Both Surviving: 13935 (73,25%) Forward Only Surviving: 55 (0,29%) Reverse Only Surviving: 109 (0,57%) Dropped: 4926 (25,89%)\n",
      "TrimmomaticPE: Completed successfully\n",
      "\n",
      "/bin/cat: /home/srhuet/projets/Biscal_xp2_coal/data/ext/MF_sampleid.txt: Aucun fichier ou dossier de ce type\n",
      "\n",
      "/bin/grep: /home/srhuet/projets/Biscal_xp2_coal/data/ext/MF_sampleid.txt: Aucun fichier ou dossier de ce type\n",
      "\n",
      "TrimmomaticPE: Started with arguments:\n",
      " /home/srhuet/projets/Biscal_xp2_coal/data/ext/raw/samples/26_S18_R1_001.fastq.gz /home/srhuet/projets/Biscal_xp2_coal/data/ext/raw/samples/26_S18_R2_001.fastq.gz /home/srhuet/projets/Biscal_xp2_coal/data/tmp/paired.d/26_S18_R1_001.paired.fastq.gz /home/srhuet/projets/Biscal_xp2_coal/data/tmp/paired.d/26_S18_R1_001.unpaired.fastq.gz /home/srhuet/projets/Biscal_xp2_coal/data/tmp/paired.d/26_S18_R2_001.paired.fastq.gz /home/srhuet/projets/Biscal_xp2_coal/data/tmp/paired.d/26_S18_R2_001.unpaired.fastq.gz MINLEN:36\n",
      "Quality encoding detected as phred33\n",
      "Input Read Pairs: 13777 Both Surviving: 10041 (72,88%) Forward Only Surviving: 37 (0,27%) Reverse Only Surviving: 81 (0,59%) Dropped: 3618 (26,26%)\n",
      "TrimmomaticPE: Completed successfully\n",
      "\n"
     ]
    },
    {
     "name": "stdout",
     "output_type": "stream",
     "text": [
      "/bin/cat: /home/srhuet/projets/Biscal_xp2_coal/data/ext/MF_sampleid.txt: Aucun fichier ou dossier de ce type\n",
      "\n",
      "/bin/grep: /home/srhuet/projets/Biscal_xp2_coal/data/ext/MF_sampleid.txt: Aucun fichier ou dossier de ce type\n",
      "\n",
      "TrimmomaticPE: Started with arguments:\n",
      " /home/srhuet/projets/Biscal_xp2_coal/data/ext/raw/samples/27_S57_R1_001.fastq.gz /home/srhuet/projets/Biscal_xp2_coal/data/ext/raw/samples/27_S57_R2_001.fastq.gz /home/srhuet/projets/Biscal_xp2_coal/data/tmp/paired.d/27_S57_R1_001.paired.fastq.gz /home/srhuet/projets/Biscal_xp2_coal/data/tmp/paired.d/27_S57_R1_001.unpaired.fastq.gz /home/srhuet/projets/Biscal_xp2_coal/data/tmp/paired.d/27_S57_R2_001.paired.fastq.gz /home/srhuet/projets/Biscal_xp2_coal/data/tmp/paired.d/27_S57_R2_001.unpaired.fastq.gz MINLEN:36\n",
      "Quality encoding detected as phred33\n",
      "Input Read Pairs: 17243 Both Surviving: 12226 (70,90%) Forward Only Surviving: 44 (0,26%) Reverse Only Surviving: 108 (0,63%) Dropped: 4865 (28,21%)\n",
      "TrimmomaticPE: Completed successfully\n",
      "\n",
      "/bin/cat: /home/srhuet/projets/Biscal_xp2_coal/data/ext/MF_sampleid.txt: Aucun fichier ou dossier de ce type\n",
      "\n",
      "/bin/grep: /home/srhuet/projets/Biscal_xp2_coal/data/ext/MF_sampleid.txt: Aucun fichier ou dossier de ce type\n",
      "\n",
      "TrimmomaticPE: Started with arguments:\n",
      " /home/srhuet/projets/Biscal_xp2_coal/data/ext/raw/samples/28_S58_R1_001.fastq.gz /home/srhuet/projets/Biscal_xp2_coal/data/ext/raw/samples/28_S58_R2_001.fastq.gz /home/srhuet/projets/Biscal_xp2_coal/data/tmp/paired.d/28_S58_R1_001.paired.fastq.gz /home/srhuet/projets/Biscal_xp2_coal/data/tmp/paired.d/28_S58_R1_001.unpaired.fastq.gz /home/srhuet/projets/Biscal_xp2_coal/data/tmp/paired.d/28_S58_R2_001.paired.fastq.gz /home/srhuet/projets/Biscal_xp2_coal/data/tmp/paired.d/28_S58_R2_001.unpaired.fastq.gz MINLEN:36\n",
      "Quality encoding detected as phred33\n",
      "Input Read Pairs: 23187 Both Surviving: 18214 (78,55%) Forward Only Surviving: 62 (0,27%) Reverse Only Surviving: 98 (0,42%) Dropped: 4813 (20,76%)\n",
      "TrimmomaticPE: Completed successfully\n",
      "\n",
      "/bin/cat: /home/srhuet/projets/Biscal_xp2_coal/data/ext/MF_sampleid.txt: Aucun fichier ou dossier de ce type\n",
      "\n",
      "/bin/grep: /home/srhuet/projets/Biscal_xp2_coal/data/ext/MF_sampleid.txt: Aucun fichier ou dossier de ce type\n",
      "\n",
      "TrimmomaticPE: Started with arguments:\n",
      " /home/srhuet/projets/Biscal_xp2_coal/data/ext/raw/samples/29_S59_R1_001.fastq.gz /home/srhuet/projets/Biscal_xp2_coal/data/ext/raw/samples/29_S59_R2_001.fastq.gz /home/srhuet/projets/Biscal_xp2_coal/data/tmp/paired.d/29_S59_R1_001.paired.fastq.gz /home/srhuet/projets/Biscal_xp2_coal/data/tmp/paired.d/29_S59_R1_001.unpaired.fastq.gz /home/srhuet/projets/Biscal_xp2_coal/data/tmp/paired.d/29_S59_R2_001.paired.fastq.gz /home/srhuet/projets/Biscal_xp2_coal/data/tmp/paired.d/29_S59_R2_001.unpaired.fastq.gz MINLEN:36\n",
      "Quality encoding detected as phred33\n",
      "Input Read Pairs: 14190 Both Surviving: 11051 (77,88%) Forward Only Surviving: 28 (0,20%) Reverse Only Surviving: 55 (0,39%) Dropped: 3056 (21,54%)\n",
      "TrimmomaticPE: Completed successfully\n",
      "\n",
      "/bin/cat: /home/srhuet/projets/Biscal_xp2_coal/data/ext/MF_sampleid.txt: Aucun fichier ou dossier de ce type\n",
      "\n",
      "/bin/grep: /home/srhuet/projets/Biscal_xp2_coal/data/ext/MF_sampleid.txt: Aucun fichier ou dossier de ce type\n",
      "\n",
      "TrimmomaticPE: Started with arguments:\n",
      " /home/srhuet/projets/Biscal_xp2_coal/data/ext/raw/samples/30_S60_R1_001.fastq.gz /home/srhuet/projets/Biscal_xp2_coal/data/ext/raw/samples/30_S60_R2_001.fastq.gz /home/srhuet/projets/Biscal_xp2_coal/data/tmp/paired.d/30_S60_R1_001.paired.fastq.gz /home/srhuet/projets/Biscal_xp2_coal/data/tmp/paired.d/30_S60_R1_001.unpaired.fastq.gz /home/srhuet/projets/Biscal_xp2_coal/data/tmp/paired.d/30_S60_R2_001.paired.fastq.gz /home/srhuet/projets/Biscal_xp2_coal/data/tmp/paired.d/30_S60_R2_001.unpaired.fastq.gz MINLEN:36\n",
      "Quality encoding detected as phred33\n",
      "Input Read Pairs: 18516 Both Surviving: 14370 (77,61%) Forward Only Surviving: 43 (0,23%) Reverse Only Surviving: 65 (0,35%) Dropped: 4038 (21,81%)\n",
      "TrimmomaticPE: Completed successfully\n",
      "\n",
      "/bin/cat: /home/srhuet/projets/Biscal_xp2_coal/data/ext/MF_sampleid.txt: Aucun fichier ou dossier de ce type\n",
      "\n",
      "/bin/grep: /home/srhuet/projets/Biscal_xp2_coal/data/ext/MF_sampleid.txt: Aucun fichier ou dossier de ce type\n",
      "\n",
      "TrimmomaticPE: Started with arguments:\n",
      " /home/srhuet/projets/Biscal_xp2_coal/data/ext/raw/samples/31_S19_R1_001.fastq.gz /home/srhuet/projets/Biscal_xp2_coal/data/ext/raw/samples/31_S19_R2_001.fastq.gz /home/srhuet/projets/Biscal_xp2_coal/data/tmp/paired.d/31_S19_R1_001.paired.fastq.gz /home/srhuet/projets/Biscal_xp2_coal/data/tmp/paired.d/31_S19_R1_001.unpaired.fastq.gz /home/srhuet/projets/Biscal_xp2_coal/data/tmp/paired.d/31_S19_R2_001.paired.fastq.gz /home/srhuet/projets/Biscal_xp2_coal/data/tmp/paired.d/31_S19_R2_001.unpaired.fastq.gz MINLEN:36\n",
      "Quality encoding detected as phred33\n",
      "Input Read Pairs: 19194 Both Surviving: 13904 (72,44%) Forward Only Surviving: 48 (0,25%) Reverse Only Surviving: 110 (0,57%) Dropped: 5132 (26,74%)\n",
      "TrimmomaticPE: Completed successfully\n",
      "\n",
      "/bin/cat: /home/srhuet/projets/Biscal_xp2_coal/data/ext/MF_sampleid.txt: Aucun fichier ou dossier de ce type\n",
      "\n",
      "/bin/grep: /home/srhuet/projets/Biscal_xp2_coal/data/ext/MF_sampleid.txt: Aucun fichier ou dossier de ce type\n",
      "\n",
      "TrimmomaticPE: Started with arguments:\n",
      " /home/srhuet/projets/Biscal_xp2_coal/data/ext/raw/samples/32_S20_R1_001.fastq.gz /home/srhuet/projets/Biscal_xp2_coal/data/ext/raw/samples/32_S20_R2_001.fastq.gz /home/srhuet/projets/Biscal_xp2_coal/data/tmp/paired.d/32_S20_R1_001.paired.fastq.gz /home/srhuet/projets/Biscal_xp2_coal/data/tmp/paired.d/32_S20_R1_001.unpaired.fastq.gz /home/srhuet/projets/Biscal_xp2_coal/data/tmp/paired.d/32_S20_R2_001.paired.fastq.gz /home/srhuet/projets/Biscal_xp2_coal/data/tmp/paired.d/32_S20_R2_001.unpaired.fastq.gz MINLEN:36\n",
      "Quality encoding detected as phred33\n",
      "Input Read Pairs: 15835 Both Surviving: 11492 (72,57%) Forward Only Surviving: 43 (0,27%) Reverse Only Surviving: 99 (0,63%) Dropped: 4201 (26,53%)\n",
      "TrimmomaticPE: Completed successfully\n",
      "\n",
      "/bin/cat: /home/srhuet/projets/Biscal_xp2_coal/data/ext/MF_sampleid.txt: Aucun fichier ou dossier de ce type\n",
      "\n",
      "/bin/grep: /home/srhuet/projets/Biscal_xp2_coal/data/ext/MF_sampleid.txt: Aucun fichier ou dossier de ce type\n",
      "\n",
      "TrimmomaticPE: Started with arguments:\n",
      " /home/srhuet/projets/Biscal_xp2_coal/data/ext/raw/samples/33_S21_R1_001.fastq.gz /home/srhuet/projets/Biscal_xp2_coal/data/ext/raw/samples/33_S21_R2_001.fastq.gz /home/srhuet/projets/Biscal_xp2_coal/data/tmp/paired.d/33_S21_R1_001.paired.fastq.gz /home/srhuet/projets/Biscal_xp2_coal/data/tmp/paired.d/33_S21_R1_001.unpaired.fastq.gz /home/srhuet/projets/Biscal_xp2_coal/data/tmp/paired.d/33_S21_R2_001.paired.fastq.gz /home/srhuet/projets/Biscal_xp2_coal/data/tmp/paired.d/33_S21_R2_001.unpaired.fastq.gz MINLEN:36\n",
      "Quality encoding detected as phred33\n",
      "Input Read Pairs: 15872 Both Surviving: 11700 (73,71%) Forward Only Surviving: 46 (0,29%) Reverse Only Surviving: 100 (0,63%) Dropped: 4026 (25,37%)\n",
      "TrimmomaticPE: Completed successfully\n",
      "\n",
      "/bin/cat: /home/srhuet/projets/Biscal_xp2_coal/data/ext/MF_sampleid.txt: Aucun fichier ou dossier de ce type\n",
      "\n",
      "/bin/grep: /home/srhuet/projets/Biscal_xp2_coal/data/ext/MF_sampleid.txt: Aucun fichier ou dossier de ce type\n",
      "\n",
      "TrimmomaticPE: Started with arguments:\n",
      " /home/srhuet/projets/Biscal_xp2_coal/data/ext/raw/samples/34_S22_R1_001.fastq.gz /home/srhuet/projets/Biscal_xp2_coal/data/ext/raw/samples/34_S22_R2_001.fastq.gz /home/srhuet/projets/Biscal_xp2_coal/data/tmp/paired.d/34_S22_R1_001.paired.fastq.gz /home/srhuet/projets/Biscal_xp2_coal/data/tmp/paired.d/34_S22_R1_001.unpaired.fastq.gz /home/srhuet/projets/Biscal_xp2_coal/data/tmp/paired.d/34_S22_R2_001.paired.fastq.gz /home/srhuet/projets/Biscal_xp2_coal/data/tmp/paired.d/34_S22_R2_001.unpaired.fastq.gz MINLEN:36\n",
      "Quality encoding detected as phred33\n",
      "Input Read Pairs: 25959 Both Surviving: 19114 (73,63%) Forward Only Surviving: 65 (0,25%) Reverse Only Surviving: 130 (0,50%) Dropped: 6650 (25,62%)\n",
      "TrimmomaticPE: Completed successfully\n",
      "\n",
      "/bin/cat: /home/srhuet/projets/Biscal_xp2_coal/data/ext/MF_sampleid.txt: Aucun fichier ou dossier de ce type\n",
      "\n",
      "/bin/grep: /home/srhuet/projets/Biscal_xp2_coal/data/ext/MF_sampleid.txt: Aucun fichier ou dossier de ce type\n",
      "\n"
     ]
    },
    {
     "name": "stdout",
     "output_type": "stream",
     "text": [
      "TrimmomaticPE: Started with arguments:\n",
      " /home/srhuet/projets/Biscal_xp2_coal/data/ext/raw/samples/35_S23_R1_001.fastq.gz /home/srhuet/projets/Biscal_xp2_coal/data/ext/raw/samples/35_S23_R2_001.fastq.gz /home/srhuet/projets/Biscal_xp2_coal/data/tmp/paired.d/35_S23_R1_001.paired.fastq.gz /home/srhuet/projets/Biscal_xp2_coal/data/tmp/paired.d/35_S23_R1_001.unpaired.fastq.gz /home/srhuet/projets/Biscal_xp2_coal/data/tmp/paired.d/35_S23_R2_001.paired.fastq.gz /home/srhuet/projets/Biscal_xp2_coal/data/tmp/paired.d/35_S23_R2_001.unpaired.fastq.gz MINLEN:36\n",
      "Quality encoding detected as phred33\n",
      "Input Read Pairs: 20745 Both Surviving: 15313 (73,82%) Forward Only Surviving: 50 (0,24%) Reverse Only Surviving: 103 (0,50%) Dropped: 5279 (25,45%)\n",
      "TrimmomaticPE: Completed successfully\n",
      "\n",
      "/bin/cat: /home/srhuet/projets/Biscal_xp2_coal/data/ext/MF_sampleid.txt: Aucun fichier ou dossier de ce type\n",
      "\n",
      "/bin/grep: /home/srhuet/projets/Biscal_xp2_coal/data/ext/MF_sampleid.txt: Aucun fichier ou dossier de ce type\n",
      "\n",
      "TrimmomaticPE: Started with arguments:\n",
      " /home/srhuet/projets/Biscal_xp2_coal/data/ext/raw/samples/36_S24_R1_001.fastq.gz /home/srhuet/projets/Biscal_xp2_coal/data/ext/raw/samples/36_S24_R2_001.fastq.gz /home/srhuet/projets/Biscal_xp2_coal/data/tmp/paired.d/36_S24_R1_001.paired.fastq.gz /home/srhuet/projets/Biscal_xp2_coal/data/tmp/paired.d/36_S24_R1_001.unpaired.fastq.gz /home/srhuet/projets/Biscal_xp2_coal/data/tmp/paired.d/36_S24_R2_001.paired.fastq.gz /home/srhuet/projets/Biscal_xp2_coal/data/tmp/paired.d/36_S24_R2_001.unpaired.fastq.gz MINLEN:36\n",
      "Quality encoding detected as phred33\n",
      "Input Read Pairs: 15350 Both Surviving: 10825 (70,52%) Forward Only Surviving: 43 (0,28%) Reverse Only Surviving: 103 (0,67%) Dropped: 4379 (28,53%)\n",
      "TrimmomaticPE: Completed successfully\n",
      "\n",
      "/bin/cat: /home/srhuet/projets/Biscal_xp2_coal/data/ext/MF_sampleid.txt: Aucun fichier ou dossier de ce type\n",
      "\n",
      "/bin/grep: /home/srhuet/projets/Biscal_xp2_coal/data/ext/MF_sampleid.txt: Aucun fichier ou dossier de ce type\n",
      "\n",
      "TrimmomaticPE: Started with arguments:\n",
      " /home/srhuet/projets/Biscal_xp2_coal/data/ext/raw/samples/37_S61_R1_001.fastq.gz /home/srhuet/projets/Biscal_xp2_coal/data/ext/raw/samples/37_S61_R2_001.fastq.gz /home/srhuet/projets/Biscal_xp2_coal/data/tmp/paired.d/37_S61_R1_001.paired.fastq.gz /home/srhuet/projets/Biscal_xp2_coal/data/tmp/paired.d/37_S61_R1_001.unpaired.fastq.gz /home/srhuet/projets/Biscal_xp2_coal/data/tmp/paired.d/37_S61_R2_001.paired.fastq.gz /home/srhuet/projets/Biscal_xp2_coal/data/tmp/paired.d/37_S61_R2_001.unpaired.fastq.gz MINLEN:36\n",
      "Quality encoding detected as phred33\n",
      "Input Read Pairs: 16854 Both Surviving: 11438 (67,87%) Forward Only Surviving: 53 (0,31%) Reverse Only Surviving: 100 (0,59%) Dropped: 5263 (31,23%)\n",
      "TrimmomaticPE: Completed successfully\n",
      "\n",
      "/bin/cat: /home/srhuet/projets/Biscal_xp2_coal/data/ext/MF_sampleid.txt: Aucun fichier ou dossier de ce type\n",
      "\n",
      "/bin/grep: /home/srhuet/projets/Biscal_xp2_coal/data/ext/MF_sampleid.txt: Aucun fichier ou dossier de ce type\n",
      "\n",
      "TrimmomaticPE: Started with arguments:\n",
      " /home/srhuet/projets/Biscal_xp2_coal/data/ext/raw/samples/38_S62_R1_001.fastq.gz /home/srhuet/projets/Biscal_xp2_coal/data/ext/raw/samples/38_S62_R2_001.fastq.gz /home/srhuet/projets/Biscal_xp2_coal/data/tmp/paired.d/38_S62_R1_001.paired.fastq.gz /home/srhuet/projets/Biscal_xp2_coal/data/tmp/paired.d/38_S62_R1_001.unpaired.fastq.gz /home/srhuet/projets/Biscal_xp2_coal/data/tmp/paired.d/38_S62_R2_001.paired.fastq.gz /home/srhuet/projets/Biscal_xp2_coal/data/tmp/paired.d/38_S62_R2_001.unpaired.fastq.gz MINLEN:36\n",
      "Quality encoding detected as phred33\n",
      "Input Read Pairs: 14993 Both Surviving: 10295 (68,67%) Forward Only Surviving: 42 (0,28%) Reverse Only Surviving: 103 (0,69%) Dropped: 4553 (30,37%)\n",
      "TrimmomaticPE: Completed successfully\n",
      "\n",
      "/bin/cat: /home/srhuet/projets/Biscal_xp2_coal/data/ext/MF_sampleid.txt: Aucun fichier ou dossier de ce type\n",
      "\n",
      "/bin/grep: /home/srhuet/projets/Biscal_xp2_coal/data/ext/MF_sampleid.txt: Aucun fichier ou dossier de ce type\n",
      "\n",
      "TrimmomaticPE: Started with arguments:\n",
      " /home/srhuet/projets/Biscal_xp2_coal/data/ext/raw/samples/39_S63_R1_001.fastq.gz /home/srhuet/projets/Biscal_xp2_coal/data/ext/raw/samples/39_S63_R2_001.fastq.gz /home/srhuet/projets/Biscal_xp2_coal/data/tmp/paired.d/39_S63_R1_001.paired.fastq.gz /home/srhuet/projets/Biscal_xp2_coal/data/tmp/paired.d/39_S63_R1_001.unpaired.fastq.gz /home/srhuet/projets/Biscal_xp2_coal/data/tmp/paired.d/39_S63_R2_001.paired.fastq.gz /home/srhuet/projets/Biscal_xp2_coal/data/tmp/paired.d/39_S63_R2_001.unpaired.fastq.gz MINLEN:36\n",
      "Quality encoding detected as phred33\n",
      "Input Read Pairs: 12160 Both Surviving: 8467 (69,63%) Forward Only Surviving: 31 (0,25%) Reverse Only Surviving: 85 (0,70%) Dropped: 3577 (29,42%)\n",
      "TrimmomaticPE: Completed successfully\n",
      "\n",
      "/bin/cat: /home/srhuet/projets/Biscal_xp2_coal/data/ext/MF_sampleid.txt: Aucun fichier ou dossier de ce type\n",
      "\n",
      "/bin/grep: /home/srhuet/projets/Biscal_xp2_coal/data/ext/MF_sampleid.txt: Aucun fichier ou dossier de ce type\n",
      "\n",
      "TrimmomaticPE: Started with arguments:\n",
      " /home/srhuet/projets/Biscal_xp2_coal/data/ext/raw/samples/40_S64_R1_001.fastq.gz /home/srhuet/projets/Biscal_xp2_coal/data/ext/raw/samples/40_S64_R2_001.fastq.gz /home/srhuet/projets/Biscal_xp2_coal/data/tmp/paired.d/40_S64_R1_001.paired.fastq.gz /home/srhuet/projets/Biscal_xp2_coal/data/tmp/paired.d/40_S64_R1_001.unpaired.fastq.gz /home/srhuet/projets/Biscal_xp2_coal/data/tmp/paired.d/40_S64_R2_001.paired.fastq.gz /home/srhuet/projets/Biscal_xp2_coal/data/tmp/paired.d/40_S64_R2_001.unpaired.fastq.gz MINLEN:36\n",
      "Quality encoding detected as phred33\n",
      "Input Read Pairs: 22880 Both Surviving: 15831 (69,19%) Forward Only Surviving: 70 (0,31%) Reverse Only Surviving: 151 (0,66%) Dropped: 6828 (29,84%)\n",
      "TrimmomaticPE: Completed successfully\n",
      "\n",
      "/bin/cat: /home/srhuet/projets/Biscal_xp2_coal/data/ext/MF_sampleid.txt: Aucun fichier ou dossier de ce type\n",
      "\n",
      "/bin/grep: /home/srhuet/projets/Biscal_xp2_coal/data/ext/MF_sampleid.txt: Aucun fichier ou dossier de ce type\n",
      "\n",
      "TrimmomaticPE: Started with arguments:\n",
      " /home/srhuet/projets/Biscal_xp2_coal/data/ext/raw/samples/41_S25_R1_001.fastq.gz /home/srhuet/projets/Biscal_xp2_coal/data/ext/raw/samples/41_S25_R2_001.fastq.gz /home/srhuet/projets/Biscal_xp2_coal/data/tmp/paired.d/41_S25_R1_001.paired.fastq.gz /home/srhuet/projets/Biscal_xp2_coal/data/tmp/paired.d/41_S25_R1_001.unpaired.fastq.gz /home/srhuet/projets/Biscal_xp2_coal/data/tmp/paired.d/41_S25_R2_001.paired.fastq.gz /home/srhuet/projets/Biscal_xp2_coal/data/tmp/paired.d/41_S25_R2_001.unpaired.fastq.gz MINLEN:36\n",
      "Quality encoding detected as phred33\n",
      "Input Read Pairs: 16080 Both Surviving: 12361 (76,87%) Forward Only Surviving: 41 (0,25%) Reverse Only Surviving: 90 (0,56%) Dropped: 3588 (22,31%)\n",
      "TrimmomaticPE: Completed successfully\n",
      "\n",
      "/bin/cat: /home/srhuet/projets/Biscal_xp2_coal/data/ext/MF_sampleid.txt: Aucun fichier ou dossier de ce type\n",
      "\n",
      "/bin/grep: /home/srhuet/projets/Biscal_xp2_coal/data/ext/MF_sampleid.txt: Aucun fichier ou dossier de ce type\n",
      "\n",
      "TrimmomaticPE: Started with arguments:\n",
      " /home/srhuet/projets/Biscal_xp2_coal/data/ext/raw/samples/42_S26_R1_001.fastq.gz /home/srhuet/projets/Biscal_xp2_coal/data/ext/raw/samples/42_S26_R2_001.fastq.gz /home/srhuet/projets/Biscal_xp2_coal/data/tmp/paired.d/42_S26_R1_001.paired.fastq.gz /home/srhuet/projets/Biscal_xp2_coal/data/tmp/paired.d/42_S26_R1_001.unpaired.fastq.gz /home/srhuet/projets/Biscal_xp2_coal/data/tmp/paired.d/42_S26_R2_001.paired.fastq.gz /home/srhuet/projets/Biscal_xp2_coal/data/tmp/paired.d/42_S26_R2_001.unpaired.fastq.gz MINLEN:36\n",
      "Quality encoding detected as phred33\n",
      "Input Read Pairs: 19651 Both Surviving: 15898 (80,90%) Forward Only Surviving: 36 (0,18%) Reverse Only Surviving: 83 (0,42%) Dropped: 3634 (18,49%)\n",
      "TrimmomaticPE: Completed successfully\n",
      "\n",
      "/bin/cat: /home/srhuet/projets/Biscal_xp2_coal/data/ext/MF_sampleid.txt: Aucun fichier ou dossier de ce type\n",
      "\n",
      "/bin/grep: /home/srhuet/projets/Biscal_xp2_coal/data/ext/MF_sampleid.txt: Aucun fichier ou dossier de ce type\n",
      "\n",
      "TrimmomaticPE: Started with arguments:\n",
      " /home/srhuet/projets/Biscal_xp2_coal/data/ext/raw/samples/43_S27_R1_001.fastq.gz /home/srhuet/projets/Biscal_xp2_coal/data/ext/raw/samples/43_S27_R2_001.fastq.gz /home/srhuet/projets/Biscal_xp2_coal/data/tmp/paired.d/43_S27_R1_001.paired.fastq.gz /home/srhuet/projets/Biscal_xp2_coal/data/tmp/paired.d/43_S27_R1_001.unpaired.fastq.gz /home/srhuet/projets/Biscal_xp2_coal/data/tmp/paired.d/43_S27_R2_001.paired.fastq.gz /home/srhuet/projets/Biscal_xp2_coal/data/tmp/paired.d/43_S27_R2_001.unpaired.fastq.gz MINLEN:36\n",
      "Quality encoding detected as phred33\n",
      "Input Read Pairs: 18469 Both Surviving: 14050 (76,07%) Forward Only Surviving: 48 (0,26%) Reverse Only Surviving: 119 (0,64%) Dropped: 4252 (23,02%)\n",
      "TrimmomaticPE: Completed successfully\n",
      "\n"
     ]
    },
    {
     "name": "stdout",
     "output_type": "stream",
     "text": [
      "/bin/cat: /home/srhuet/projets/Biscal_xp2_coal/data/ext/MF_sampleid.txt: Aucun fichier ou dossier de ce type\n",
      "\n",
      "/bin/grep: /home/srhuet/projets/Biscal_xp2_coal/data/ext/MF_sampleid.txt: Aucun fichier ou dossier de ce type\n",
      "\n",
      "TrimmomaticPE: Started with arguments:\n",
      " /home/srhuet/projets/Biscal_xp2_coal/data/ext/raw/samples/44_S28_R1_001.fastq.gz /home/srhuet/projets/Biscal_xp2_coal/data/ext/raw/samples/44_S28_R2_001.fastq.gz /home/srhuet/projets/Biscal_xp2_coal/data/tmp/paired.d/44_S28_R1_001.paired.fastq.gz /home/srhuet/projets/Biscal_xp2_coal/data/tmp/paired.d/44_S28_R1_001.unpaired.fastq.gz /home/srhuet/projets/Biscal_xp2_coal/data/tmp/paired.d/44_S28_R2_001.paired.fastq.gz /home/srhuet/projets/Biscal_xp2_coal/data/tmp/paired.d/44_S28_R2_001.unpaired.fastq.gz MINLEN:36\n",
      "Quality encoding detected as phred33\n",
      "Input Read Pairs: 9371 Both Surviving: 8831 (94,24%) Forward Only Surviving: 15 (0,16%) Reverse Only Surviving: 56 (0,60%) Dropped: 469 (5,00%)\n",
      "TrimmomaticPE: Completed successfully\n",
      "\n",
      "/bin/cat: /home/srhuet/projets/Biscal_xp2_coal/data/ext/MF_sampleid.txt: Aucun fichier ou dossier de ce type\n",
      "\n",
      "/bin/grep: /home/srhuet/projets/Biscal_xp2_coal/data/ext/MF_sampleid.txt: Aucun fichier ou dossier de ce type\n",
      "\n",
      "TrimmomaticPE: Started with arguments:\n",
      " /home/srhuet/projets/Biscal_xp2_coal/data/ext/raw/samples/45_S29_R1_001.fastq.gz /home/srhuet/projets/Biscal_xp2_coal/data/ext/raw/samples/45_S29_R2_001.fastq.gz /home/srhuet/projets/Biscal_xp2_coal/data/tmp/paired.d/45_S29_R1_001.paired.fastq.gz /home/srhuet/projets/Biscal_xp2_coal/data/tmp/paired.d/45_S29_R1_001.unpaired.fastq.gz /home/srhuet/projets/Biscal_xp2_coal/data/tmp/paired.d/45_S29_R2_001.paired.fastq.gz /home/srhuet/projets/Biscal_xp2_coal/data/tmp/paired.d/45_S29_R2_001.unpaired.fastq.gz MINLEN:36\n",
      "Quality encoding detected as phred33\n",
      "Input Read Pairs: 19134 Both Surviving: 14425 (75,39%) Forward Only Surviving: 55 (0,29%) Reverse Only Surviving: 109 (0,57%) Dropped: 4545 (23,75%)\n",
      "TrimmomaticPE: Completed successfully\n",
      "\n",
      "/bin/cat: /home/srhuet/projets/Biscal_xp2_coal/data/ext/MF_sampleid.txt: Aucun fichier ou dossier de ce type\n",
      "\n",
      "/bin/grep: /home/srhuet/projets/Biscal_xp2_coal/data/ext/MF_sampleid.txt: Aucun fichier ou dossier de ce type\n",
      "\n",
      "TrimmomaticPE: Started with arguments:\n",
      " /home/srhuet/projets/Biscal_xp2_coal/data/ext/raw/samples/46_S30_R1_001.fastq.gz /home/srhuet/projets/Biscal_xp2_coal/data/ext/raw/samples/46_S30_R2_001.fastq.gz /home/srhuet/projets/Biscal_xp2_coal/data/tmp/paired.d/46_S30_R1_001.paired.fastq.gz /home/srhuet/projets/Biscal_xp2_coal/data/tmp/paired.d/46_S30_R1_001.unpaired.fastq.gz /home/srhuet/projets/Biscal_xp2_coal/data/tmp/paired.d/46_S30_R2_001.paired.fastq.gz /home/srhuet/projets/Biscal_xp2_coal/data/tmp/paired.d/46_S30_R2_001.unpaired.fastq.gz MINLEN:36\n",
      "Quality encoding detected as phred33\n",
      "Input Read Pairs: 13419 Both Surviving: 9752 (72,67%) Forward Only Surviving: 31 (0,23%) Reverse Only Surviving: 85 (0,63%) Dropped: 3551 (26,46%)\n",
      "TrimmomaticPE: Completed successfully\n",
      "\n",
      "/bin/cat: /home/srhuet/projets/Biscal_xp2_coal/data/ext/MF_sampleid.txt: Aucun fichier ou dossier de ce type\n",
      "\n",
      "/bin/grep: /home/srhuet/projets/Biscal_xp2_coal/data/ext/MF_sampleid.txt: Aucun fichier ou dossier de ce type\n",
      "\n",
      "TrimmomaticPE: Started with arguments:\n",
      " /home/srhuet/projets/Biscal_xp2_coal/data/ext/raw/samples/47_S65_R1_001.fastq.gz /home/srhuet/projets/Biscal_xp2_coal/data/ext/raw/samples/47_S65_R2_001.fastq.gz /home/srhuet/projets/Biscal_xp2_coal/data/tmp/paired.d/47_S65_R1_001.paired.fastq.gz /home/srhuet/projets/Biscal_xp2_coal/data/tmp/paired.d/47_S65_R1_001.unpaired.fastq.gz /home/srhuet/projets/Biscal_xp2_coal/data/tmp/paired.d/47_S65_R2_001.paired.fastq.gz /home/srhuet/projets/Biscal_xp2_coal/data/tmp/paired.d/47_S65_R2_001.unpaired.fastq.gz MINLEN:36\n",
      "Quality encoding detected as phred33\n",
      "Input Read Pairs: 19095 Both Surviving: 14012 (73,38%) Forward Only Surviving: 54 (0,28%) Reverse Only Surviving: 92 (0,48%) Dropped: 4937 (25,85%)\n",
      "TrimmomaticPE: Completed successfully\n",
      "\n",
      "/bin/cat: /home/srhuet/projets/Biscal_xp2_coal/data/ext/MF_sampleid.txt: Aucun fichier ou dossier de ce type\n",
      "\n",
      "/bin/grep: /home/srhuet/projets/Biscal_xp2_coal/data/ext/MF_sampleid.txt: Aucun fichier ou dossier de ce type\n",
      "\n",
      "TrimmomaticPE: Started with arguments:\n",
      " /home/srhuet/projets/Biscal_xp2_coal/data/ext/raw/samples/48_S66_R1_001.fastq.gz /home/srhuet/projets/Biscal_xp2_coal/data/ext/raw/samples/48_S66_R2_001.fastq.gz /home/srhuet/projets/Biscal_xp2_coal/data/tmp/paired.d/48_S66_R1_001.paired.fastq.gz /home/srhuet/projets/Biscal_xp2_coal/data/tmp/paired.d/48_S66_R1_001.unpaired.fastq.gz /home/srhuet/projets/Biscal_xp2_coal/data/tmp/paired.d/48_S66_R2_001.paired.fastq.gz /home/srhuet/projets/Biscal_xp2_coal/data/tmp/paired.d/48_S66_R2_001.unpaired.fastq.gz MINLEN:36\n",
      "Quality encoding detected as phred33\n",
      "Input Read Pairs: 17891 Both Surviving: 13338 (74,55%) Forward Only Surviving: 45 (0,25%) Reverse Only Surviving: 100 (0,56%) Dropped: 4408 (24,64%)\n",
      "TrimmomaticPE: Completed successfully\n",
      "\n",
      "/bin/cat: /home/srhuet/projets/Biscal_xp2_coal/data/ext/MF_sampleid.txt: Aucun fichier ou dossier de ce type\n",
      "\n",
      "/bin/grep: /home/srhuet/projets/Biscal_xp2_coal/data/ext/MF_sampleid.txt: Aucun fichier ou dossier de ce type\n",
      "\n",
      "TrimmomaticPE: Started with arguments:\n",
      " /home/srhuet/projets/Biscal_xp2_coal/data/ext/raw/samples/49_S67_R1_001.fastq.gz /home/srhuet/projets/Biscal_xp2_coal/data/ext/raw/samples/49_S67_R2_001.fastq.gz /home/srhuet/projets/Biscal_xp2_coal/data/tmp/paired.d/49_S67_R1_001.paired.fastq.gz /home/srhuet/projets/Biscal_xp2_coal/data/tmp/paired.d/49_S67_R1_001.unpaired.fastq.gz /home/srhuet/projets/Biscal_xp2_coal/data/tmp/paired.d/49_S67_R2_001.paired.fastq.gz /home/srhuet/projets/Biscal_xp2_coal/data/tmp/paired.d/49_S67_R2_001.unpaired.fastq.gz MINLEN:36\n",
      "Quality encoding detected as phred33\n",
      "Input Read Pairs: 20518 Both Surviving: 15987 (77,92%) Forward Only Surviving: 50 (0,24%) Reverse Only Surviving: 98 (0,48%) Dropped: 4383 (21,36%)\n",
      "TrimmomaticPE: Completed successfully\n",
      "\n",
      "/bin/cat: /home/srhuet/projets/Biscal_xp2_coal/data/ext/MF_sampleid.txt: Aucun fichier ou dossier de ce type\n",
      "\n",
      "/bin/grep: /home/srhuet/projets/Biscal_xp2_coal/data/ext/MF_sampleid.txt: Aucun fichier ou dossier de ce type\n",
      "\n",
      "TrimmomaticPE: Started with arguments:\n",
      " /home/srhuet/projets/Biscal_xp2_coal/data/ext/raw/samples/50_S68_R1_001.fastq.gz /home/srhuet/projets/Biscal_xp2_coal/data/ext/raw/samples/50_S68_R2_001.fastq.gz /home/srhuet/projets/Biscal_xp2_coal/data/tmp/paired.d/50_S68_R1_001.paired.fastq.gz /home/srhuet/projets/Biscal_xp2_coal/data/tmp/paired.d/50_S68_R1_001.unpaired.fastq.gz /home/srhuet/projets/Biscal_xp2_coal/data/tmp/paired.d/50_S68_R2_001.paired.fastq.gz /home/srhuet/projets/Biscal_xp2_coal/data/tmp/paired.d/50_S68_R2_001.unpaired.fastq.gz MINLEN:36\n",
      "Quality encoding detected as phred33\n",
      "Input Read Pairs: 19856 Both Surviving: 14934 (75,21%) Forward Only Surviving: 60 (0,30%) Reverse Only Surviving: 97 (0,49%) Dropped: 4765 (24,00%)\n",
      "TrimmomaticPE: Completed successfully\n",
      "\n",
      "/bin/cat: /home/srhuet/projets/Biscal_xp2_coal/data/ext/MF_sampleid.txt: Aucun fichier ou dossier de ce type\n",
      "\n",
      "/bin/grep: /home/srhuet/projets/Biscal_xp2_coal/data/ext/MF_sampleid.txt: Aucun fichier ou dossier de ce type\n",
      "\n",
      "TrimmomaticPE: Started with arguments:\n",
      " /home/srhuet/projets/Biscal_xp2_coal/data/ext/raw/samples/51_S31_R1_001.fastq.gz /home/srhuet/projets/Biscal_xp2_coal/data/ext/raw/samples/51_S31_R2_001.fastq.gz /home/srhuet/projets/Biscal_xp2_coal/data/tmp/paired.d/51_S31_R1_001.paired.fastq.gz /home/srhuet/projets/Biscal_xp2_coal/data/tmp/paired.d/51_S31_R1_001.unpaired.fastq.gz /home/srhuet/projets/Biscal_xp2_coal/data/tmp/paired.d/51_S31_R2_001.paired.fastq.gz /home/srhuet/projets/Biscal_xp2_coal/data/tmp/paired.d/51_S31_R2_001.unpaired.fastq.gz MINLEN:36\n",
      "Quality encoding detected as phred33\n",
      "Input Read Pairs: 14592 Both Surviving: 11017 (75,50%) Forward Only Surviving: 54 (0,37%) Reverse Only Surviving: 90 (0,62%) Dropped: 3431 (23,51%)\n",
      "TrimmomaticPE: Completed successfully\n",
      "\n",
      "/bin/cat: /home/srhuet/projets/Biscal_xp2_coal/data/ext/MF_sampleid.txt: Aucun fichier ou dossier de ce type\n",
      "\n",
      "/bin/grep: /home/srhuet/projets/Biscal_xp2_coal/data/ext/MF_sampleid.txt: Aucun fichier ou dossier de ce type\n",
      "\n"
     ]
    },
    {
     "name": "stdout",
     "output_type": "stream",
     "text": [
      "TrimmomaticPE: Started with arguments:\n",
      " /home/srhuet/projets/Biscal_xp2_coal/data/ext/raw/samples/52_S32_R1_001.fastq.gz /home/srhuet/projets/Biscal_xp2_coal/data/ext/raw/samples/52_S32_R2_001.fastq.gz /home/srhuet/projets/Biscal_xp2_coal/data/tmp/paired.d/52_S32_R1_001.paired.fastq.gz /home/srhuet/projets/Biscal_xp2_coal/data/tmp/paired.d/52_S32_R1_001.unpaired.fastq.gz /home/srhuet/projets/Biscal_xp2_coal/data/tmp/paired.d/52_S32_R2_001.paired.fastq.gz /home/srhuet/projets/Biscal_xp2_coal/data/tmp/paired.d/52_S32_R2_001.unpaired.fastq.gz MINLEN:36\n",
      "Quality encoding detected as phred33\n",
      "Input Read Pairs: 13802 Both Surviving: 9612 (69,64%) Forward Only Surviving: 40 (0,29%) Reverse Only Surviving: 92 (0,67%) Dropped: 4058 (29,40%)\n",
      "TrimmomaticPE: Completed successfully\n",
      "\n",
      "/bin/cat: /home/srhuet/projets/Biscal_xp2_coal/data/ext/MF_sampleid.txt: Aucun fichier ou dossier de ce type\n",
      "\n",
      "/bin/grep: /home/srhuet/projets/Biscal_xp2_coal/data/ext/MF_sampleid.txt: Aucun fichier ou dossier de ce type\n",
      "\n",
      "TrimmomaticPE: Started with arguments:\n",
      " /home/srhuet/projets/Biscal_xp2_coal/data/ext/raw/samples/53_S33_R1_001.fastq.gz /home/srhuet/projets/Biscal_xp2_coal/data/ext/raw/samples/53_S33_R2_001.fastq.gz /home/srhuet/projets/Biscal_xp2_coal/data/tmp/paired.d/53_S33_R1_001.paired.fastq.gz /home/srhuet/projets/Biscal_xp2_coal/data/tmp/paired.d/53_S33_R1_001.unpaired.fastq.gz /home/srhuet/projets/Biscal_xp2_coal/data/tmp/paired.d/53_S33_R2_001.paired.fastq.gz /home/srhuet/projets/Biscal_xp2_coal/data/tmp/paired.d/53_S33_R2_001.unpaired.fastq.gz MINLEN:36\n",
      "Quality encoding detected as phred33\n",
      "Input Read Pairs: 21205 Both Surviving: 15397 (72,61%) Forward Only Surviving: 50 (0,24%) Reverse Only Surviving: 115 (0,54%) Dropped: 5643 (26,61%)\n",
      "TrimmomaticPE: Completed successfully\n",
      "\n",
      "/bin/cat: /home/srhuet/projets/Biscal_xp2_coal/data/ext/MF_sampleid.txt: Aucun fichier ou dossier de ce type\n",
      "\n",
      "/bin/grep: /home/srhuet/projets/Biscal_xp2_coal/data/ext/MF_sampleid.txt: Aucun fichier ou dossier de ce type\n",
      "\n",
      "TrimmomaticPE: Started with arguments:\n",
      " /home/srhuet/projets/Biscal_xp2_coal/data/ext/raw/samples/54_S34_R1_001.fastq.gz /home/srhuet/projets/Biscal_xp2_coal/data/ext/raw/samples/54_S34_R2_001.fastq.gz /home/srhuet/projets/Biscal_xp2_coal/data/tmp/paired.d/54_S34_R1_001.paired.fastq.gz /home/srhuet/projets/Biscal_xp2_coal/data/tmp/paired.d/54_S34_R1_001.unpaired.fastq.gz /home/srhuet/projets/Biscal_xp2_coal/data/tmp/paired.d/54_S34_R2_001.paired.fastq.gz /home/srhuet/projets/Biscal_xp2_coal/data/tmp/paired.d/54_S34_R2_001.unpaired.fastq.gz MINLEN:36\n",
      "Quality encoding detected as phred33\n",
      "Input Read Pairs: 21157 Both Surviving: 15075 (71,25%) Forward Only Surviving: 73 (0,35%) Reverse Only Surviving: 121 (0,57%) Dropped: 5888 (27,83%)\n",
      "TrimmomaticPE: Completed successfully\n",
      "\n",
      "/bin/cat: /home/srhuet/projets/Biscal_xp2_coal/data/ext/MF_sampleid.txt: Aucun fichier ou dossier de ce type\n",
      "\n",
      "/bin/grep: /home/srhuet/projets/Biscal_xp2_coal/data/ext/MF_sampleid.txt: Aucun fichier ou dossier de ce type\n",
      "\n",
      "TrimmomaticPE: Started with arguments:\n",
      " /home/srhuet/projets/Biscal_xp2_coal/data/ext/raw/samples/55_S35_R1_001.fastq.gz /home/srhuet/projets/Biscal_xp2_coal/data/ext/raw/samples/55_S35_R2_001.fastq.gz /home/srhuet/projets/Biscal_xp2_coal/data/tmp/paired.d/55_S35_R1_001.paired.fastq.gz /home/srhuet/projets/Biscal_xp2_coal/data/tmp/paired.d/55_S35_R1_001.unpaired.fastq.gz /home/srhuet/projets/Biscal_xp2_coal/data/tmp/paired.d/55_S35_R2_001.paired.fastq.gz /home/srhuet/projets/Biscal_xp2_coal/data/tmp/paired.d/55_S35_R2_001.unpaired.fastq.gz MINLEN:36\n",
      "Quality encoding detected as phred33\n",
      "Input Read Pairs: 18486 Both Surviving: 12455 (67,38%) Forward Only Surviving: 74 (0,40%) Reverse Only Surviving: 132 (0,71%) Dropped: 5825 (31,51%)\n",
      "TrimmomaticPE: Completed successfully\n",
      "\n",
      "/bin/cat: /home/srhuet/projets/Biscal_xp2_coal/data/ext/MF_sampleid.txt: Aucun fichier ou dossier de ce type\n",
      "\n",
      "/bin/grep: /home/srhuet/projets/Biscal_xp2_coal/data/ext/MF_sampleid.txt: Aucun fichier ou dossier de ce type\n",
      "\n",
      "TrimmomaticPE: Started with arguments:\n",
      " /home/srhuet/projets/Biscal_xp2_coal/data/ext/raw/samples/56_S36_R1_001.fastq.gz /home/srhuet/projets/Biscal_xp2_coal/data/ext/raw/samples/56_S36_R2_001.fastq.gz /home/srhuet/projets/Biscal_xp2_coal/data/tmp/paired.d/56_S36_R1_001.paired.fastq.gz /home/srhuet/projets/Biscal_xp2_coal/data/tmp/paired.d/56_S36_R1_001.unpaired.fastq.gz /home/srhuet/projets/Biscal_xp2_coal/data/tmp/paired.d/56_S36_R2_001.paired.fastq.gz /home/srhuet/projets/Biscal_xp2_coal/data/tmp/paired.d/56_S36_R2_001.unpaired.fastq.gz MINLEN:36\n",
      "Quality encoding detected as phred33\n",
      "Input Read Pairs: 22358 Both Surviving: 14272 (63,83%) Forward Only Surviving: 78 (0,35%) Reverse Only Surviving: 141 (0,63%) Dropped: 7867 (35,19%)\n",
      "TrimmomaticPE: Completed successfully\n",
      "\n",
      "/bin/cat: /home/srhuet/projets/Biscal_xp2_coal/data/ext/MF_sampleid.txt: Aucun fichier ou dossier de ce type\n",
      "\n",
      "/bin/grep: /home/srhuet/projets/Biscal_xp2_coal/data/ext/MF_sampleid.txt: Aucun fichier ou dossier de ce type\n",
      "\n",
      "TrimmomaticPE: Started with arguments:\n",
      " /home/srhuet/projets/Biscal_xp2_coal/data/ext/raw/samples/57_S69_R1_001.fastq.gz /home/srhuet/projets/Biscal_xp2_coal/data/ext/raw/samples/57_S69_R2_001.fastq.gz /home/srhuet/projets/Biscal_xp2_coal/data/tmp/paired.d/57_S69_R1_001.paired.fastq.gz /home/srhuet/projets/Biscal_xp2_coal/data/tmp/paired.d/57_S69_R1_001.unpaired.fastq.gz /home/srhuet/projets/Biscal_xp2_coal/data/tmp/paired.d/57_S69_R2_001.paired.fastq.gz /home/srhuet/projets/Biscal_xp2_coal/data/tmp/paired.d/57_S69_R2_001.unpaired.fastq.gz MINLEN:36\n",
      "Quality encoding detected as phred33\n",
      "Input Read Pairs: 20887 Both Surviving: 14594 (69,87%) Forward Only Surviving: 61 (0,29%) Reverse Only Surviving: 122 (0,58%) Dropped: 6110 (29,25%)\n",
      "TrimmomaticPE: Completed successfully\n",
      "\n",
      "/bin/cat: /home/srhuet/projets/Biscal_xp2_coal/data/ext/MF_sampleid.txt: Aucun fichier ou dossier de ce type\n",
      "\n",
      "/bin/grep: /home/srhuet/projets/Biscal_xp2_coal/data/ext/MF_sampleid.txt: Aucun fichier ou dossier de ce type\n",
      "\n",
      "TrimmomaticPE: Started with arguments:\n",
      " /home/srhuet/projets/Biscal_xp2_coal/data/ext/raw/samples/58_S70_R1_001.fastq.gz /home/srhuet/projets/Biscal_xp2_coal/data/ext/raw/samples/58_S70_R2_001.fastq.gz /home/srhuet/projets/Biscal_xp2_coal/data/tmp/paired.d/58_S70_R1_001.paired.fastq.gz /home/srhuet/projets/Biscal_xp2_coal/data/tmp/paired.d/58_S70_R1_001.unpaired.fastq.gz /home/srhuet/projets/Biscal_xp2_coal/data/tmp/paired.d/58_S70_R2_001.paired.fastq.gz /home/srhuet/projets/Biscal_xp2_coal/data/tmp/paired.d/58_S70_R2_001.unpaired.fastq.gz MINLEN:36\n",
      "Quality encoding detected as phred33\n",
      "Input Read Pairs: 25257 Both Surviving: 17472 (69,18%) Forward Only Surviving: 100 (0,40%) Reverse Only Surviving: 126 (0,50%) Dropped: 7559 (29,93%)\n",
      "TrimmomaticPE: Completed successfully\n",
      "\n",
      "/bin/cat: /home/srhuet/projets/Biscal_xp2_coal/data/ext/MF_sampleid.txt: Aucun fichier ou dossier de ce type\n",
      "\n",
      "/bin/grep: /home/srhuet/projets/Biscal_xp2_coal/data/ext/MF_sampleid.txt: Aucun fichier ou dossier de ce type\n",
      "\n",
      "TrimmomaticPE: Started with arguments:\n",
      " /home/srhuet/projets/Biscal_xp2_coal/data/ext/raw/samples/59_S71_R1_001.fastq.gz /home/srhuet/projets/Biscal_xp2_coal/data/ext/raw/samples/59_S71_R2_001.fastq.gz /home/srhuet/projets/Biscal_xp2_coal/data/tmp/paired.d/59_S71_R1_001.paired.fastq.gz /home/srhuet/projets/Biscal_xp2_coal/data/tmp/paired.d/59_S71_R1_001.unpaired.fastq.gz /home/srhuet/projets/Biscal_xp2_coal/data/tmp/paired.d/59_S71_R2_001.paired.fastq.gz /home/srhuet/projets/Biscal_xp2_coal/data/tmp/paired.d/59_S71_R2_001.unpaired.fastq.gz MINLEN:36\n",
      "Quality encoding detected as phred33\n",
      "Input Read Pairs: 16659 Both Surviving: 11162 (67,00%) Forward Only Surviving: 52 (0,31%) Reverse Only Surviving: 122 (0,73%) Dropped: 5323 (31,95%)\n",
      "TrimmomaticPE: Completed successfully\n",
      "\n",
      "/bin/cat: /home/srhuet/projets/Biscal_xp2_coal/data/ext/MF_sampleid.txt: Aucun fichier ou dossier de ce type\n",
      "\n",
      "/bin/grep: /home/srhuet/projets/Biscal_xp2_coal/data/ext/MF_sampleid.txt: Aucun fichier ou dossier de ce type\n",
      "\n",
      "TrimmomaticPE: Started with arguments:\n",
      " /home/srhuet/projets/Biscal_xp2_coal/data/ext/raw/samples/60_S72_R1_001.fastq.gz /home/srhuet/projets/Biscal_xp2_coal/data/ext/raw/samples/60_S72_R2_001.fastq.gz /home/srhuet/projets/Biscal_xp2_coal/data/tmp/paired.d/60_S72_R1_001.paired.fastq.gz /home/srhuet/projets/Biscal_xp2_coal/data/tmp/paired.d/60_S72_R1_001.unpaired.fastq.gz /home/srhuet/projets/Biscal_xp2_coal/data/tmp/paired.d/60_S72_R2_001.paired.fastq.gz /home/srhuet/projets/Biscal_xp2_coal/data/tmp/paired.d/60_S72_R2_001.unpaired.fastq.gz MINLEN:36\n",
      "Quality encoding detected as phred33\n",
      "Input Read Pairs: 17328 Both Surviving: 11850 (68,39%) Forward Only Surviving: 66 (0,38%) Reverse Only Surviving: 106 (0,61%) Dropped: 5306 (30,62%)\n",
      "TrimmomaticPE: Completed successfully\n",
      "\n"
     ]
    },
    {
     "name": "stdout",
     "output_type": "stream",
     "text": [
      "/bin/cat: /home/srhuet/projets/Biscal_xp2_coal/data/ext/MF_sampleid.txt: Aucun fichier ou dossier de ce type\n",
      "\n",
      "/bin/grep: /home/srhuet/projets/Biscal_xp2_coal/data/ext/MF_sampleid.txt: Aucun fichier ou dossier de ce type\n",
      "\n",
      "TrimmomaticPE: Started with arguments:\n",
      " /home/srhuet/projets/Biscal_xp2_coal/data/ext/raw/samples/61_S37_R1_001.fastq.gz /home/srhuet/projets/Biscal_xp2_coal/data/ext/raw/samples/61_S37_R2_001.fastq.gz /home/srhuet/projets/Biscal_xp2_coal/data/tmp/paired.d/61_S37_R1_001.paired.fastq.gz /home/srhuet/projets/Biscal_xp2_coal/data/tmp/paired.d/61_S37_R1_001.unpaired.fastq.gz /home/srhuet/projets/Biscal_xp2_coal/data/tmp/paired.d/61_S37_R2_001.paired.fastq.gz /home/srhuet/projets/Biscal_xp2_coal/data/tmp/paired.d/61_S37_R2_001.unpaired.fastq.gz MINLEN:36\n",
      "Quality encoding detected as phred33\n",
      "Input Read Pairs: 15365 Both Surviving: 10382 (67,57%) Forward Only Surviving: 49 (0,32%) Reverse Only Surviving: 111 (0,72%) Dropped: 4823 (31,39%)\n",
      "TrimmomaticPE: Completed successfully\n",
      "\n",
      "/bin/cat: /home/srhuet/projets/Biscal_xp2_coal/data/ext/MF_sampleid.txt: Aucun fichier ou dossier de ce type\n",
      "\n",
      "/bin/grep: /home/srhuet/projets/Biscal_xp2_coal/data/ext/MF_sampleid.txt: Aucun fichier ou dossier de ce type\n",
      "\n",
      "TrimmomaticPE: Started with arguments:\n",
      " /home/srhuet/projets/Biscal_xp2_coal/data/ext/raw/samples/62_S38_R1_001.fastq.gz /home/srhuet/projets/Biscal_xp2_coal/data/ext/raw/samples/62_S38_R2_001.fastq.gz /home/srhuet/projets/Biscal_xp2_coal/data/tmp/paired.d/62_S38_R1_001.paired.fastq.gz /home/srhuet/projets/Biscal_xp2_coal/data/tmp/paired.d/62_S38_R1_001.unpaired.fastq.gz /home/srhuet/projets/Biscal_xp2_coal/data/tmp/paired.d/62_S38_R2_001.paired.fastq.gz /home/srhuet/projets/Biscal_xp2_coal/data/tmp/paired.d/62_S38_R2_001.unpaired.fastq.gz MINLEN:36\n",
      "Quality encoding detected as phred33\n",
      "Input Read Pairs: 16530 Both Surviving: 12103 (73,22%) Forward Only Surviving: 43 (0,26%) Reverse Only Surviving: 83 (0,50%) Dropped: 4301 (26,02%)\n",
      "TrimmomaticPE: Completed successfully\n",
      "\n",
      "/bin/cat: /home/srhuet/projets/Biscal_xp2_coal/data/ext/MF_sampleid.txt: Aucun fichier ou dossier de ce type\n",
      "\n",
      "/bin/grep: /home/srhuet/projets/Biscal_xp2_coal/data/ext/MF_sampleid.txt: Aucun fichier ou dossier de ce type\n",
      "\n",
      "TrimmomaticPE: Started with arguments:\n",
      " /home/srhuet/projets/Biscal_xp2_coal/data/ext/raw/samples/63_S39_R1_001.fastq.gz /home/srhuet/projets/Biscal_xp2_coal/data/ext/raw/samples/63_S39_R2_001.fastq.gz /home/srhuet/projets/Biscal_xp2_coal/data/tmp/paired.d/63_S39_R1_001.paired.fastq.gz /home/srhuet/projets/Biscal_xp2_coal/data/tmp/paired.d/63_S39_R1_001.unpaired.fastq.gz /home/srhuet/projets/Biscal_xp2_coal/data/tmp/paired.d/63_S39_R2_001.paired.fastq.gz /home/srhuet/projets/Biscal_xp2_coal/data/tmp/paired.d/63_S39_R2_001.unpaired.fastq.gz MINLEN:36\n",
      "Quality encoding detected as phred33\n",
      "Input Read Pairs: 15699 Both Surviving: 11454 (72,96%) Forward Only Surviving: 43 (0,27%) Reverse Only Surviving: 79 (0,50%) Dropped: 4123 (26,26%)\n",
      "TrimmomaticPE: Completed successfully\n",
      "\n",
      "/bin/cat: /home/srhuet/projets/Biscal_xp2_coal/data/ext/MF_sampleid.txt: Aucun fichier ou dossier de ce type\n",
      "\n",
      "/bin/grep: /home/srhuet/projets/Biscal_xp2_coal/data/ext/MF_sampleid.txt: Aucun fichier ou dossier de ce type\n",
      "\n",
      "TrimmomaticPE: Started with arguments:\n",
      " /home/srhuet/projets/Biscal_xp2_coal/data/ext/raw/samples/64_S40_R1_001.fastq.gz /home/srhuet/projets/Biscal_xp2_coal/data/ext/raw/samples/64_S40_R2_001.fastq.gz /home/srhuet/projets/Biscal_xp2_coal/data/tmp/paired.d/64_S40_R1_001.paired.fastq.gz /home/srhuet/projets/Biscal_xp2_coal/data/tmp/paired.d/64_S40_R1_001.unpaired.fastq.gz /home/srhuet/projets/Biscal_xp2_coal/data/tmp/paired.d/64_S40_R2_001.paired.fastq.gz /home/srhuet/projets/Biscal_xp2_coal/data/tmp/paired.d/64_S40_R2_001.unpaired.fastq.gz MINLEN:36\n",
      "Quality encoding detected as phred33\n",
      "Input Read Pairs: 17236 Both Surviving: 12200 (70,78%) Forward Only Surviving: 63 (0,37%) Reverse Only Surviving: 87 (0,50%) Dropped: 4886 (28,35%)\n",
      "TrimmomaticPE: Completed successfully\n",
      "\n",
      "/bin/cat: /home/srhuet/projets/Biscal_xp2_coal/data/ext/MF_sampleid.txt: Aucun fichier ou dossier de ce type\n",
      "\n",
      "/bin/grep: /home/srhuet/projets/Biscal_xp2_coal/data/ext/MF_sampleid.txt: Aucun fichier ou dossier de ce type\n",
      "\n",
      "TrimmomaticPE: Started with arguments:\n",
      " /home/srhuet/projets/Biscal_xp2_coal/data/ext/raw/samples/65_S41_R1_001.fastq.gz /home/srhuet/projets/Biscal_xp2_coal/data/ext/raw/samples/65_S41_R2_001.fastq.gz /home/srhuet/projets/Biscal_xp2_coal/data/tmp/paired.d/65_S41_R1_001.paired.fastq.gz /home/srhuet/projets/Biscal_xp2_coal/data/tmp/paired.d/65_S41_R1_001.unpaired.fastq.gz /home/srhuet/projets/Biscal_xp2_coal/data/tmp/paired.d/65_S41_R2_001.paired.fastq.gz /home/srhuet/projets/Biscal_xp2_coal/data/tmp/paired.d/65_S41_R2_001.unpaired.fastq.gz MINLEN:36\n",
      "Quality encoding detected as phred33\n",
      "Input Read Pairs: 18309 Both Surviving: 13226 (72,24%) Forward Only Surviving: 60 (0,33%) Reverse Only Surviving: 101 (0,55%) Dropped: 4922 (26,88%)\n",
      "TrimmomaticPE: Completed successfully\n",
      "\n",
      "/bin/cat: /home/srhuet/projets/Biscal_xp2_coal/data/ext/MF_sampleid.txt: Aucun fichier ou dossier de ce type\n",
      "\n",
      "/bin/grep: /home/srhuet/projets/Biscal_xp2_coal/data/ext/MF_sampleid.txt: Aucun fichier ou dossier de ce type\n",
      "\n",
      "TrimmomaticPE: Started with arguments:\n",
      " /home/srhuet/projets/Biscal_xp2_coal/data/ext/raw/samples/66_S42_R1_001.fastq.gz /home/srhuet/projets/Biscal_xp2_coal/data/ext/raw/samples/66_S42_R2_001.fastq.gz /home/srhuet/projets/Biscal_xp2_coal/data/tmp/paired.d/66_S42_R1_001.paired.fastq.gz /home/srhuet/projets/Biscal_xp2_coal/data/tmp/paired.d/66_S42_R1_001.unpaired.fastq.gz /home/srhuet/projets/Biscal_xp2_coal/data/tmp/paired.d/66_S42_R2_001.paired.fastq.gz /home/srhuet/projets/Biscal_xp2_coal/data/tmp/paired.d/66_S42_R2_001.unpaired.fastq.gz MINLEN:36\n",
      "Quality encoding detected as phred33\n",
      "Input Read Pairs: 16310 Both Surviving: 10896 (66,81%) Forward Only Surviving: 49 (0,30%) Reverse Only Surviving: 119 (0,73%) Dropped: 5246 (32,16%)\n",
      "TrimmomaticPE: Completed successfully\n",
      "\n",
      "/bin/cat: /home/srhuet/projets/Biscal_xp2_coal/data/ext/MF_sampleid.txt: Aucun fichier ou dossier de ce type\n",
      "\n",
      "/bin/grep: /home/srhuet/projets/Biscal_xp2_coal/data/ext/MF_sampleid.txt: Aucun fichier ou dossier de ce type\n",
      "\n",
      "TrimmomaticPE: Started with arguments:\n",
      " /home/srhuet/projets/Biscal_xp2_coal/data/ext/raw/samples/67_S73_R1_001.fastq.gz /home/srhuet/projets/Biscal_xp2_coal/data/ext/raw/samples/67_S73_R2_001.fastq.gz /home/srhuet/projets/Biscal_xp2_coal/data/tmp/paired.d/67_S73_R1_001.paired.fastq.gz /home/srhuet/projets/Biscal_xp2_coal/data/tmp/paired.d/67_S73_R1_001.unpaired.fastq.gz /home/srhuet/projets/Biscal_xp2_coal/data/tmp/paired.d/67_S73_R2_001.paired.fastq.gz /home/srhuet/projets/Biscal_xp2_coal/data/tmp/paired.d/67_S73_R2_001.unpaired.fastq.gz MINLEN:36\n",
      "Quality encoding detected as phred33\n",
      "Input Read Pairs: 14705 Both Surviving: 9994 (67,96%) Forward Only Surviving: 50 (0,34%) Reverse Only Surviving: 99 (0,67%) Dropped: 4562 (31,02%)\n",
      "TrimmomaticPE: Completed successfully\n",
      "\n",
      "/bin/cat: /home/srhuet/projets/Biscal_xp2_coal/data/ext/MF_sampleid.txt: Aucun fichier ou dossier de ce type\n",
      "\n",
      "/bin/grep: /home/srhuet/projets/Biscal_xp2_coal/data/ext/MF_sampleid.txt: Aucun fichier ou dossier de ce type\n",
      "\n",
      "TrimmomaticPE: Started with arguments:\n",
      " /home/srhuet/projets/Biscal_xp2_coal/data/ext/raw/samples/68_S74_R1_001.fastq.gz /home/srhuet/projets/Biscal_xp2_coal/data/ext/raw/samples/68_S74_R2_001.fastq.gz /home/srhuet/projets/Biscal_xp2_coal/data/tmp/paired.d/68_S74_R1_001.paired.fastq.gz /home/srhuet/projets/Biscal_xp2_coal/data/tmp/paired.d/68_S74_R1_001.unpaired.fastq.gz /home/srhuet/projets/Biscal_xp2_coal/data/tmp/paired.d/68_S74_R2_001.paired.fastq.gz /home/srhuet/projets/Biscal_xp2_coal/data/tmp/paired.d/68_S74_R2_001.unpaired.fastq.gz MINLEN:36\n",
      "Quality encoding detected as phred33\n",
      "Input Read Pairs: 11478 Both Surviving: 8363 (72,86%) Forward Only Surviving: 40 (0,35%) Reverse Only Surviving: 58 (0,51%) Dropped: 3017 (26,29%)\n",
      "TrimmomaticPE: Completed successfully\n",
      "\n",
      "/bin/cat: /home/srhuet/projets/Biscal_xp2_coal/data/ext/MF_sampleid.txt: Aucun fichier ou dossier de ce type\n",
      "\n",
      "/bin/grep: /home/srhuet/projets/Biscal_xp2_coal/data/ext/MF_sampleid.txt: Aucun fichier ou dossier de ce type\n",
      "\n"
     ]
    },
    {
     "name": "stdout",
     "output_type": "stream",
     "text": [
      "TrimmomaticPE: Started with arguments:\n",
      " /home/srhuet/projets/Biscal_xp2_coal/data/ext/raw/samples/69_S75_R1_001.fastq.gz /home/srhuet/projets/Biscal_xp2_coal/data/ext/raw/samples/69_S75_R2_001.fastq.gz /home/srhuet/projets/Biscal_xp2_coal/data/tmp/paired.d/69_S75_R1_001.paired.fastq.gz /home/srhuet/projets/Biscal_xp2_coal/data/tmp/paired.d/69_S75_R1_001.unpaired.fastq.gz /home/srhuet/projets/Biscal_xp2_coal/data/tmp/paired.d/69_S75_R2_001.paired.fastq.gz /home/srhuet/projets/Biscal_xp2_coal/data/tmp/paired.d/69_S75_R2_001.unpaired.fastq.gz MINLEN:36\n",
      "Quality encoding detected as phred33\n",
      "Input Read Pairs: 16724 Both Surviving: 12637 (75,56%) Forward Only Surviving: 45 (0,27%) Reverse Only Surviving: 73 (0,44%) Dropped: 3969 (23,73%)\n",
      "TrimmomaticPE: Completed successfully\n",
      "\n",
      "/bin/cat: /home/srhuet/projets/Biscal_xp2_coal/data/ext/MF_sampleid.txt: Aucun fichier ou dossier de ce type\n",
      "\n",
      "/bin/grep: /home/srhuet/projets/Biscal_xp2_coal/data/ext/MF_sampleid.txt: Aucun fichier ou dossier de ce type\n",
      "\n",
      "TrimmomaticPE: Started with arguments:\n",
      " /home/srhuet/projets/Biscal_xp2_coal/data/ext/raw/samples/70_S76_R1_001.fastq.gz /home/srhuet/projets/Biscal_xp2_coal/data/ext/raw/samples/70_S76_R2_001.fastq.gz /home/srhuet/projets/Biscal_xp2_coal/data/tmp/paired.d/70_S76_R1_001.paired.fastq.gz /home/srhuet/projets/Biscal_xp2_coal/data/tmp/paired.d/70_S76_R1_001.unpaired.fastq.gz /home/srhuet/projets/Biscal_xp2_coal/data/tmp/paired.d/70_S76_R2_001.paired.fastq.gz /home/srhuet/projets/Biscal_xp2_coal/data/tmp/paired.d/70_S76_R2_001.unpaired.fastq.gz MINLEN:36\n",
      "Quality encoding detected as phred33\n",
      "Input Read Pairs: 393 Both Surviving: 51 (12,98%) Forward Only Surviving: 0 (0,00%) Reverse Only Surviving: 5 (1,27%) Dropped: 337 (85,75%)\n",
      "TrimmomaticPE: Completed successfully\n",
      "\n",
      "/bin/cat: /home/srhuet/projets/Biscal_xp2_coal/data/ext/MF_sampleid.txt: Aucun fichier ou dossier de ce type\n",
      "\n",
      "/bin/grep: /home/srhuet/projets/Biscal_xp2_coal/data/ext/MF_sampleid.txt: Aucun fichier ou dossier de ce type\n",
      "\n",
      "TrimmomaticPE: Started with arguments:\n",
      " /home/srhuet/projets/Biscal_xp2_coal/data/ext/raw/samples/71_S80_R1_001.fastq.gz /home/srhuet/projets/Biscal_xp2_coal/data/ext/raw/samples/71_S80_R2_001.fastq.gz /home/srhuet/projets/Biscal_xp2_coal/data/tmp/paired.d/71_S80_R1_001.paired.fastq.gz /home/srhuet/projets/Biscal_xp2_coal/data/tmp/paired.d/71_S80_R1_001.unpaired.fastq.gz /home/srhuet/projets/Biscal_xp2_coal/data/tmp/paired.d/71_S80_R2_001.paired.fastq.gz /home/srhuet/projets/Biscal_xp2_coal/data/tmp/paired.d/71_S80_R2_001.unpaired.fastq.gz MINLEN:36\n",
      "Quality encoding detected as phred33\n",
      "Input Read Pairs: 16903 Both Surviving: 13272 (78,52%) Forward Only Surviving: 34 (0,20%) Reverse Only Surviving: 129 (0,76%) Dropped: 3468 (20,52%)\n",
      "TrimmomaticPE: Completed successfully\n",
      "\n",
      "/bin/cat: /home/srhuet/projets/Biscal_xp2_coal/data/ext/MF_sampleid.txt: Aucun fichier ou dossier de ce type\n",
      "\n",
      "/bin/grep: /home/srhuet/projets/Biscal_xp2_coal/data/ext/MF_sampleid.txt: Aucun fichier ou dossier de ce type\n",
      "\n",
      "TrimmomaticPE: Started with arguments:\n",
      " /home/srhuet/projets/Biscal_xp2_coal/data/ext/raw/samples/72_S81_R1_001.fastq.gz /home/srhuet/projets/Biscal_xp2_coal/data/ext/raw/samples/72_S81_R2_001.fastq.gz /home/srhuet/projets/Biscal_xp2_coal/data/tmp/paired.d/72_S81_R1_001.paired.fastq.gz /home/srhuet/projets/Biscal_xp2_coal/data/tmp/paired.d/72_S81_R1_001.unpaired.fastq.gz /home/srhuet/projets/Biscal_xp2_coal/data/tmp/paired.d/72_S81_R2_001.paired.fastq.gz /home/srhuet/projets/Biscal_xp2_coal/data/tmp/paired.d/72_S81_R2_001.unpaired.fastq.gz MINLEN:36\n",
      "Quality encoding detected as phred33\n",
      "Input Read Pairs: 18264 Both Surviving: 14668 (80,31%) Forward Only Surviving: 31 (0,17%) Reverse Only Surviving: 91 (0,50%) Dropped: 3474 (19,02%)\n",
      "TrimmomaticPE: Completed successfully\n",
      "\n",
      "/bin/cat: /home/srhuet/projets/Biscal_xp2_coal/data/ext/MF_sampleid.txt: Aucun fichier ou dossier de ce type\n",
      "\n",
      "/bin/grep: /home/srhuet/projets/Biscal_xp2_coal/data/ext/MF_sampleid.txt: Aucun fichier ou dossier de ce type\n",
      "\n",
      "TrimmomaticPE: Started with arguments:\n",
      " /home/srhuet/projets/Biscal_xp2_coal/data/ext/raw/samples/73_S82_R1_001.fastq.gz /home/srhuet/projets/Biscal_xp2_coal/data/ext/raw/samples/73_S82_R2_001.fastq.gz /home/srhuet/projets/Biscal_xp2_coal/data/tmp/paired.d/73_S82_R1_001.paired.fastq.gz /home/srhuet/projets/Biscal_xp2_coal/data/tmp/paired.d/73_S82_R1_001.unpaired.fastq.gz /home/srhuet/projets/Biscal_xp2_coal/data/tmp/paired.d/73_S82_R2_001.paired.fastq.gz /home/srhuet/projets/Biscal_xp2_coal/data/tmp/paired.d/73_S82_R2_001.unpaired.fastq.gz MINLEN:36\n",
      "Quality encoding detected as phred33\n",
      "Input Read Pairs: 19367 Both Surviving: 15327 (79,14%) Forward Only Surviving: 40 (0,21%) Reverse Only Surviving: 110 (0,57%) Dropped: 3890 (20,09%)\n",
      "TrimmomaticPE: Completed successfully\n",
      "\n",
      "/bin/cat: /home/srhuet/projets/Biscal_xp2_coal/data/ext/MF_sampleid.txt: Aucun fichier ou dossier de ce type\n",
      "\n",
      "/bin/grep: /home/srhuet/projets/Biscal_xp2_coal/data/ext/MF_sampleid.txt: Aucun fichier ou dossier de ce type\n",
      "\n",
      "TrimmomaticPE: Started with arguments:\n",
      " /home/srhuet/projets/Biscal_xp2_coal/data/ext/raw/samples/74_S83_R1_001.fastq.gz /home/srhuet/projets/Biscal_xp2_coal/data/ext/raw/samples/74_S83_R2_001.fastq.gz /home/srhuet/projets/Biscal_xp2_coal/data/tmp/paired.d/74_S83_R1_001.paired.fastq.gz /home/srhuet/projets/Biscal_xp2_coal/data/tmp/paired.d/74_S83_R1_001.unpaired.fastq.gz /home/srhuet/projets/Biscal_xp2_coal/data/tmp/paired.d/74_S83_R2_001.paired.fastq.gz /home/srhuet/projets/Biscal_xp2_coal/data/tmp/paired.d/74_S83_R2_001.unpaired.fastq.gz MINLEN:36\n",
      "Quality encoding detected as phred33\n",
      "Input Read Pairs: 20056 Both Surviving: 16582 (82,68%) Forward Only Surviving: 40 (0,20%) Reverse Only Surviving: 75 (0,37%) Dropped: 3359 (16,75%)\n",
      "TrimmomaticPE: Completed successfully\n",
      "\n",
      "/bin/cat: /home/srhuet/projets/Biscal_xp2_coal/data/ext/MF_sampleid.txt: Aucun fichier ou dossier de ce type\n",
      "\n",
      "/bin/grep: /home/srhuet/projets/Biscal_xp2_coal/data/ext/MF_sampleid.txt: Aucun fichier ou dossier de ce type\n",
      "\n",
      "TrimmomaticPE: Started with arguments:\n",
      " /home/srhuet/projets/Biscal_xp2_coal/data/ext/raw/samples/75_S84_R1_001.fastq.gz /home/srhuet/projets/Biscal_xp2_coal/data/ext/raw/samples/75_S84_R2_001.fastq.gz /home/srhuet/projets/Biscal_xp2_coal/data/tmp/paired.d/75_S84_R1_001.paired.fastq.gz /home/srhuet/projets/Biscal_xp2_coal/data/tmp/paired.d/75_S84_R1_001.unpaired.fastq.gz /home/srhuet/projets/Biscal_xp2_coal/data/tmp/paired.d/75_S84_R2_001.paired.fastq.gz /home/srhuet/projets/Biscal_xp2_coal/data/tmp/paired.d/75_S84_R2_001.unpaired.fastq.gz MINLEN:36\n",
      "Quality encoding detected as phred33\n",
      "Input Read Pairs: 15640 Both Surviving: 12350 (78,96%) Forward Only Surviving: 45 (0,29%) Reverse Only Surviving: 93 (0,59%) Dropped: 3152 (20,15%)\n",
      "TrimmomaticPE: Completed successfully\n",
      "\n",
      "/bin/cat: /home/srhuet/projets/Biscal_xp2_coal/data/ext/MF_sampleid.txt: Aucun fichier ou dossier de ce type\n",
      "\n",
      "/bin/grep: /home/srhuet/projets/Biscal_xp2_coal/data/ext/MF_sampleid.txt: Aucun fichier ou dossier de ce type\n",
      "\n",
      "TrimmomaticPE: Started with arguments:\n",
      " /home/srhuet/projets/Biscal_xp2_coal/data/ext/raw/samples/76_S85_R1_001.fastq.gz /home/srhuet/projets/Biscal_xp2_coal/data/ext/raw/samples/76_S85_R2_001.fastq.gz /home/srhuet/projets/Biscal_xp2_coal/data/tmp/paired.d/76_S85_R1_001.paired.fastq.gz /home/srhuet/projets/Biscal_xp2_coal/data/tmp/paired.d/76_S85_R1_001.unpaired.fastq.gz /home/srhuet/projets/Biscal_xp2_coal/data/tmp/paired.d/76_S85_R2_001.paired.fastq.gz /home/srhuet/projets/Biscal_xp2_coal/data/tmp/paired.d/76_S85_R2_001.unpaired.fastq.gz MINLEN:36\n",
      "Quality encoding detected as phred33\n",
      "Input Read Pairs: 15928 Both Surviving: 12292 (77,17%) Forward Only Surviving: 44 (0,28%) Reverse Only Surviving: 87 (0,55%) Dropped: 3505 (22,01%)\n",
      "TrimmomaticPE: Completed successfully\n",
      "\n",
      "/bin/cat: /home/srhuet/projets/Biscal_xp2_coal/data/ext/MF_sampleid.txt: Aucun fichier ou dossier de ce type\n",
      "\n",
      "/bin/grep: /home/srhuet/projets/Biscal_xp2_coal/data/ext/MF_sampleid.txt: Aucun fichier ou dossier de ce type\n",
      "\n",
      "TrimmomaticPE: Started with arguments:\n",
      " /home/srhuet/projets/Biscal_xp2_coal/data/ext/raw/samples/77_S128_R1_001.fastq.gz /home/srhuet/projets/Biscal_xp2_coal/data/ext/raw/samples/77_S128_R2_001.fastq.gz /home/srhuet/projets/Biscal_xp2_coal/data/tmp/paired.d/77_S128_R1_001.paired.fastq.gz /home/srhuet/projets/Biscal_xp2_coal/data/tmp/paired.d/77_S128_R1_001.unpaired.fastq.gz /home/srhuet/projets/Biscal_xp2_coal/data/tmp/paired.d/77_S128_R2_001.paired.fastq.gz /home/srhuet/projets/Biscal_xp2_coal/data/tmp/paired.d/77_S128_R2_001.unpaired.fastq.gz MINLEN:36\n",
      "Quality encoding detected as phred33\n",
      "Input Read Pairs: 17556 Both Surviving: 13806 (78,64%) Forward Only Surviving: 38 (0,22%) Reverse Only Surviving: 97 (0,55%) Dropped: 3615 (20,59%)\n",
      "TrimmomaticPE: Completed successfully\n",
      "\n"
     ]
    },
    {
     "name": "stdout",
     "output_type": "stream",
     "text": [
      "/bin/cat: /home/srhuet/projets/Biscal_xp2_coal/data/ext/MF_sampleid.txt: Aucun fichier ou dossier de ce type\n",
      "\n",
      "/bin/grep: /home/srhuet/projets/Biscal_xp2_coal/data/ext/MF_sampleid.txt: Aucun fichier ou dossier de ce type\n",
      "\n",
      "TrimmomaticPE: Started with arguments:\n",
      " /home/srhuet/projets/Biscal_xp2_coal/data/ext/raw/samples/78_S129_R1_001.fastq.gz /home/srhuet/projets/Biscal_xp2_coal/data/ext/raw/samples/78_S129_R2_001.fastq.gz /home/srhuet/projets/Biscal_xp2_coal/data/tmp/paired.d/78_S129_R1_001.paired.fastq.gz /home/srhuet/projets/Biscal_xp2_coal/data/tmp/paired.d/78_S129_R1_001.unpaired.fastq.gz /home/srhuet/projets/Biscal_xp2_coal/data/tmp/paired.d/78_S129_R2_001.paired.fastq.gz /home/srhuet/projets/Biscal_xp2_coal/data/tmp/paired.d/78_S129_R2_001.unpaired.fastq.gz MINLEN:36\n",
      "Quality encoding detected as phred33\n",
      "Input Read Pairs: 13348 Both Surviving: 10363 (77,64%) Forward Only Surviving: 41 (0,31%) Reverse Only Surviving: 88 (0,66%) Dropped: 2856 (21,40%)\n",
      "TrimmomaticPE: Completed successfully\n",
      "\n",
      "/bin/cat: /home/srhuet/projets/Biscal_xp2_coal/data/ext/MF_sampleid.txt: Aucun fichier ou dossier de ce type\n",
      "\n",
      "/bin/grep: /home/srhuet/projets/Biscal_xp2_coal/data/ext/MF_sampleid.txt: Aucun fichier ou dossier de ce type\n",
      "\n",
      "TrimmomaticPE: Started with arguments:\n",
      " /home/srhuet/projets/Biscal_xp2_coal/data/ext/raw/samples/79_S130_R1_001.fastq.gz /home/srhuet/projets/Biscal_xp2_coal/data/ext/raw/samples/79_S130_R2_001.fastq.gz /home/srhuet/projets/Biscal_xp2_coal/data/tmp/paired.d/79_S130_R1_001.paired.fastq.gz /home/srhuet/projets/Biscal_xp2_coal/data/tmp/paired.d/79_S130_R1_001.unpaired.fastq.gz /home/srhuet/projets/Biscal_xp2_coal/data/tmp/paired.d/79_S130_R2_001.paired.fastq.gz /home/srhuet/projets/Biscal_xp2_coal/data/tmp/paired.d/79_S130_R2_001.unpaired.fastq.gz MINLEN:36\n",
      "Quality encoding detected as phred33\n",
      "Input Read Pairs: 17043 Both Surviving: 13478 (79,08%) Forward Only Surviving: 36 (0,21%) Reverse Only Surviving: 83 (0,49%) Dropped: 3446 (20,22%)\n",
      "TrimmomaticPE: Completed successfully\n",
      "\n",
      "/bin/cat: /home/srhuet/projets/Biscal_xp2_coal/data/ext/MF_sampleid.txt: Aucun fichier ou dossier de ce type\n",
      "\n",
      "/bin/grep: /home/srhuet/projets/Biscal_xp2_coal/data/ext/MF_sampleid.txt: Aucun fichier ou dossier de ce type\n",
      "\n",
      "TrimmomaticPE: Started with arguments:\n",
      " /home/srhuet/projets/Biscal_xp2_coal/data/ext/raw/samples/80_S131_R1_001.fastq.gz /home/srhuet/projets/Biscal_xp2_coal/data/ext/raw/samples/80_S131_R2_001.fastq.gz /home/srhuet/projets/Biscal_xp2_coal/data/tmp/paired.d/80_S131_R1_001.paired.fastq.gz /home/srhuet/projets/Biscal_xp2_coal/data/tmp/paired.d/80_S131_R1_001.unpaired.fastq.gz /home/srhuet/projets/Biscal_xp2_coal/data/tmp/paired.d/80_S131_R2_001.paired.fastq.gz /home/srhuet/projets/Biscal_xp2_coal/data/tmp/paired.d/80_S131_R2_001.unpaired.fastq.gz MINLEN:36\n",
      "Quality encoding detected as phred33\n",
      "Input Read Pairs: 23388 Both Surviving: 18283 (78,17%) Forward Only Surviving: 49 (0,21%) Reverse Only Surviving: 102 (0,44%) Dropped: 4954 (21,18%)\n",
      "TrimmomaticPE: Completed successfully\n",
      "\n",
      "/bin/cat: /home/srhuet/projets/Biscal_xp2_coal/data/ext/MF_sampleid.txt: Aucun fichier ou dossier de ce type\n",
      "\n",
      "/bin/grep: /home/srhuet/projets/Biscal_xp2_coal/data/ext/MF_sampleid.txt: Aucun fichier ou dossier de ce type\n",
      "\n",
      "TrimmomaticPE: Started with arguments:\n",
      " /home/srhuet/projets/Biscal_xp2_coal/data/ext/raw/samples/81_S86_R1_001.fastq.gz /home/srhuet/projets/Biscal_xp2_coal/data/ext/raw/samples/81_S86_R2_001.fastq.gz /home/srhuet/projets/Biscal_xp2_coal/data/tmp/paired.d/81_S86_R1_001.paired.fastq.gz /home/srhuet/projets/Biscal_xp2_coal/data/tmp/paired.d/81_S86_R1_001.unpaired.fastq.gz /home/srhuet/projets/Biscal_xp2_coal/data/tmp/paired.d/81_S86_R2_001.paired.fastq.gz /home/srhuet/projets/Biscal_xp2_coal/data/tmp/paired.d/81_S86_R2_001.unpaired.fastq.gz MINLEN:36\n",
      "Quality encoding detected as phred33\n",
      "Input Read Pairs: 14414 Both Surviving: 11083 (76,89%) Forward Only Surviving: 30 (0,21%) Reverse Only Surviving: 59 (0,41%) Dropped: 3242 (22,49%)\n",
      "TrimmomaticPE: Completed successfully\n",
      "\n",
      "/bin/cat: /home/srhuet/projets/Biscal_xp2_coal/data/ext/MF_sampleid.txt: Aucun fichier ou dossier de ce type\n",
      "\n",
      "/bin/grep: /home/srhuet/projets/Biscal_xp2_coal/data/ext/MF_sampleid.txt: Aucun fichier ou dossier de ce type\n",
      "\n",
      "TrimmomaticPE: Started with arguments:\n",
      " /home/srhuet/projets/Biscal_xp2_coal/data/ext/raw/samples/82_S87_R1_001.fastq.gz /home/srhuet/projets/Biscal_xp2_coal/data/ext/raw/samples/82_S87_R2_001.fastq.gz /home/srhuet/projets/Biscal_xp2_coal/data/tmp/paired.d/82_S87_R1_001.paired.fastq.gz /home/srhuet/projets/Biscal_xp2_coal/data/tmp/paired.d/82_S87_R1_001.unpaired.fastq.gz /home/srhuet/projets/Biscal_xp2_coal/data/tmp/paired.d/82_S87_R2_001.paired.fastq.gz /home/srhuet/projets/Biscal_xp2_coal/data/tmp/paired.d/82_S87_R2_001.unpaired.fastq.gz MINLEN:36\n",
      "Quality encoding detected as phred33\n",
      "Input Read Pairs: 15839 Both Surviving: 12136 (76,62%) Forward Only Surviving: 30 (0,19%) Reverse Only Surviving: 77 (0,49%) Dropped: 3596 (22,70%)\n",
      "TrimmomaticPE: Completed successfully\n",
      "\n",
      "/bin/cat: /home/srhuet/projets/Biscal_xp2_coal/data/ext/MF_sampleid.txt: Aucun fichier ou dossier de ce type\n",
      "\n",
      "/bin/grep: /home/srhuet/projets/Biscal_xp2_coal/data/ext/MF_sampleid.txt: Aucun fichier ou dossier de ce type\n",
      "\n",
      "TrimmomaticPE: Started with arguments:\n",
      " /home/srhuet/projets/Biscal_xp2_coal/data/ext/raw/samples/83_S88_R1_001.fastq.gz /home/srhuet/projets/Biscal_xp2_coal/data/ext/raw/samples/83_S88_R2_001.fastq.gz /home/srhuet/projets/Biscal_xp2_coal/data/tmp/paired.d/83_S88_R1_001.paired.fastq.gz /home/srhuet/projets/Biscal_xp2_coal/data/tmp/paired.d/83_S88_R1_001.unpaired.fastq.gz /home/srhuet/projets/Biscal_xp2_coal/data/tmp/paired.d/83_S88_R2_001.paired.fastq.gz /home/srhuet/projets/Biscal_xp2_coal/data/tmp/paired.d/83_S88_R2_001.unpaired.fastq.gz MINLEN:36\n",
      "Quality encoding detected as phred33\n",
      "Input Read Pairs: 17244 Both Surviving: 13690 (79,39%) Forward Only Surviving: 37 (0,21%) Reverse Only Surviving: 76 (0,44%) Dropped: 3441 (19,95%)\n",
      "TrimmomaticPE: Completed successfully\n",
      "\n",
      "/bin/cat: /home/srhuet/projets/Biscal_xp2_coal/data/ext/MF_sampleid.txt: Aucun fichier ou dossier de ce type\n",
      "\n",
      "/bin/grep: /home/srhuet/projets/Biscal_xp2_coal/data/ext/MF_sampleid.txt: Aucun fichier ou dossier de ce type\n",
      "\n",
      "TrimmomaticPE: Started with arguments:\n",
      " /home/srhuet/projets/Biscal_xp2_coal/data/ext/raw/samples/84_S89_R1_001.fastq.gz /home/srhuet/projets/Biscal_xp2_coal/data/ext/raw/samples/84_S89_R2_001.fastq.gz /home/srhuet/projets/Biscal_xp2_coal/data/tmp/paired.d/84_S89_R1_001.paired.fastq.gz /home/srhuet/projets/Biscal_xp2_coal/data/tmp/paired.d/84_S89_R1_001.unpaired.fastq.gz /home/srhuet/projets/Biscal_xp2_coal/data/tmp/paired.d/84_S89_R2_001.paired.fastq.gz /home/srhuet/projets/Biscal_xp2_coal/data/tmp/paired.d/84_S89_R2_001.unpaired.fastq.gz MINLEN:36\n",
      "Quality encoding detected as phred33\n",
      "Input Read Pairs: 27781 Both Surviving: 22941 (82,58%) Forward Only Surviving: 53 (0,19%) Reverse Only Surviving: 107 (0,39%) Dropped: 4680 (16,85%)\n",
      "TrimmomaticPE: Completed successfully\n",
      "\n",
      "/bin/cat: /home/srhuet/projets/Biscal_xp2_coal/data/ext/MF_sampleid.txt: Aucun fichier ou dossier de ce type\n",
      "\n",
      "/bin/grep: /home/srhuet/projets/Biscal_xp2_coal/data/ext/MF_sampleid.txt: Aucun fichier ou dossier de ce type\n",
      "\n",
      "TrimmomaticPE: Started with arguments:\n",
      " /home/srhuet/projets/Biscal_xp2_coal/data/ext/raw/samples/85_S90_R1_001.fastq.gz /home/srhuet/projets/Biscal_xp2_coal/data/ext/raw/samples/85_S90_R2_001.fastq.gz /home/srhuet/projets/Biscal_xp2_coal/data/tmp/paired.d/85_S90_R1_001.paired.fastq.gz /home/srhuet/projets/Biscal_xp2_coal/data/tmp/paired.d/85_S90_R1_001.unpaired.fastq.gz /home/srhuet/projets/Biscal_xp2_coal/data/tmp/paired.d/85_S90_R2_001.paired.fastq.gz /home/srhuet/projets/Biscal_xp2_coal/data/tmp/paired.d/85_S90_R2_001.unpaired.fastq.gz MINLEN:36\n",
      "Quality encoding detected as phred33\n",
      "Input Read Pairs: 17941 Both Surviving: 14303 (79,72%) Forward Only Surviving: 51 (0,28%) Reverse Only Surviving: 83 (0,46%) Dropped: 3504 (19,53%)\n",
      "TrimmomaticPE: Completed successfully\n",
      "\n",
      "/bin/cat: /home/srhuet/projets/Biscal_xp2_coal/data/ext/MF_sampleid.txt: Aucun fichier ou dossier de ce type\n",
      "\n",
      "/bin/grep: /home/srhuet/projets/Biscal_xp2_coal/data/ext/MF_sampleid.txt: Aucun fichier ou dossier de ce type\n",
      "\n"
     ]
    },
    {
     "name": "stdout",
     "output_type": "stream",
     "text": [
      "TrimmomaticPE: Started with arguments:\n",
      " /home/srhuet/projets/Biscal_xp2_coal/data/ext/raw/samples/86_S91_R1_001.fastq.gz /home/srhuet/projets/Biscal_xp2_coal/data/ext/raw/samples/86_S91_R2_001.fastq.gz /home/srhuet/projets/Biscal_xp2_coal/data/tmp/paired.d/86_S91_R1_001.paired.fastq.gz /home/srhuet/projets/Biscal_xp2_coal/data/tmp/paired.d/86_S91_R1_001.unpaired.fastq.gz /home/srhuet/projets/Biscal_xp2_coal/data/tmp/paired.d/86_S91_R2_001.paired.fastq.gz /home/srhuet/projets/Biscal_xp2_coal/data/tmp/paired.d/86_S91_R2_001.unpaired.fastq.gz MINLEN:36\n",
      "Quality encoding detected as phred33\n",
      "Input Read Pairs: 19064 Both Surviving: 14913 (78,23%) Forward Only Surviving: 25 (0,13%) Reverse Only Surviving: 79 (0,41%) Dropped: 4047 (21,23%)\n",
      "TrimmomaticPE: Completed successfully\n",
      "\n",
      "/bin/cat: /home/srhuet/projets/Biscal_xp2_coal/data/ext/MF_sampleid.txt: Aucun fichier ou dossier de ce type\n",
      "\n",
      "/bin/grep: /home/srhuet/projets/Biscal_xp2_coal/data/ext/MF_sampleid.txt: Aucun fichier ou dossier de ce type\n",
      "\n",
      "TrimmomaticPE: Started with arguments:\n",
      " /home/srhuet/projets/Biscal_xp2_coal/data/ext/raw/samples/87_S132_R1_001.fastq.gz /home/srhuet/projets/Biscal_xp2_coal/data/ext/raw/samples/87_S132_R2_001.fastq.gz /home/srhuet/projets/Biscal_xp2_coal/data/tmp/paired.d/87_S132_R1_001.paired.fastq.gz /home/srhuet/projets/Biscal_xp2_coal/data/tmp/paired.d/87_S132_R1_001.unpaired.fastq.gz /home/srhuet/projets/Biscal_xp2_coal/data/tmp/paired.d/87_S132_R2_001.paired.fastq.gz /home/srhuet/projets/Biscal_xp2_coal/data/tmp/paired.d/87_S132_R2_001.unpaired.fastq.gz MINLEN:36\n",
      "Quality encoding detected as phred33\n",
      "Input Read Pairs: 18879 Both Surviving: 14577 (77,21%) Forward Only Surviving: 49 (0,26%) Reverse Only Surviving: 81 (0,43%) Dropped: 4172 (22,10%)\n",
      "TrimmomaticPE: Completed successfully\n",
      "\n",
      "/bin/cat: /home/srhuet/projets/Biscal_xp2_coal/data/ext/MF_sampleid.txt: Aucun fichier ou dossier de ce type\n",
      "\n",
      "/bin/grep: /home/srhuet/projets/Biscal_xp2_coal/data/ext/MF_sampleid.txt: Aucun fichier ou dossier de ce type\n",
      "\n",
      "TrimmomaticPE: Started with arguments:\n",
      " /home/srhuet/projets/Biscal_xp2_coal/data/ext/raw/samples/88_S133_R1_001.fastq.gz /home/srhuet/projets/Biscal_xp2_coal/data/ext/raw/samples/88_S133_R2_001.fastq.gz /home/srhuet/projets/Biscal_xp2_coal/data/tmp/paired.d/88_S133_R1_001.paired.fastq.gz /home/srhuet/projets/Biscal_xp2_coal/data/tmp/paired.d/88_S133_R1_001.unpaired.fastq.gz /home/srhuet/projets/Biscal_xp2_coal/data/tmp/paired.d/88_S133_R2_001.paired.fastq.gz /home/srhuet/projets/Biscal_xp2_coal/data/tmp/paired.d/88_S133_R2_001.unpaired.fastq.gz MINLEN:36\n",
      "Quality encoding detected as phred33\n",
      "Input Read Pairs: 18654 Both Surviving: 15068 (80,78%) Forward Only Surviving: 35 (0,19%) Reverse Only Surviving: 108 (0,58%) Dropped: 3443 (18,46%)\n",
      "TrimmomaticPE: Completed successfully\n",
      "\n",
      "/bin/cat: /home/srhuet/projets/Biscal_xp2_coal/data/ext/MF_sampleid.txt: Aucun fichier ou dossier de ce type\n",
      "\n",
      "/bin/grep: /home/srhuet/projets/Biscal_xp2_coal/data/ext/MF_sampleid.txt: Aucun fichier ou dossier de ce type\n",
      "\n",
      "TrimmomaticPE: Started with arguments:\n",
      " /home/srhuet/projets/Biscal_xp2_coal/data/ext/raw/samples/89_S134_R1_001.fastq.gz /home/srhuet/projets/Biscal_xp2_coal/data/ext/raw/samples/89_S134_R2_001.fastq.gz /home/srhuet/projets/Biscal_xp2_coal/data/tmp/paired.d/89_S134_R1_001.paired.fastq.gz /home/srhuet/projets/Biscal_xp2_coal/data/tmp/paired.d/89_S134_R1_001.unpaired.fastq.gz /home/srhuet/projets/Biscal_xp2_coal/data/tmp/paired.d/89_S134_R2_001.paired.fastq.gz /home/srhuet/projets/Biscal_xp2_coal/data/tmp/paired.d/89_S134_R2_001.unpaired.fastq.gz MINLEN:36\n",
      "Quality encoding detected as phred33\n",
      "Input Read Pairs: 15980 Both Surviving: 12392 (77,55%) Forward Only Surviving: 35 (0,22%) Reverse Only Surviving: 73 (0,46%) Dropped: 3480 (21,78%)\n",
      "TrimmomaticPE: Completed successfully\n",
      "\n",
      "/bin/cat: /home/srhuet/projets/Biscal_xp2_coal/data/ext/MF_sampleid.txt: Aucun fichier ou dossier de ce type\n",
      "\n",
      "/bin/grep: /home/srhuet/projets/Biscal_xp2_coal/data/ext/MF_sampleid.txt: Aucun fichier ou dossier de ce type\n",
      "\n",
      "TrimmomaticPE: Started with arguments:\n",
      " /home/srhuet/projets/Biscal_xp2_coal/data/ext/raw/samples/90_S135_R1_001.fastq.gz /home/srhuet/projets/Biscal_xp2_coal/data/ext/raw/samples/90_S135_R2_001.fastq.gz /home/srhuet/projets/Biscal_xp2_coal/data/tmp/paired.d/90_S135_R1_001.paired.fastq.gz /home/srhuet/projets/Biscal_xp2_coal/data/tmp/paired.d/90_S135_R1_001.unpaired.fastq.gz /home/srhuet/projets/Biscal_xp2_coal/data/tmp/paired.d/90_S135_R2_001.paired.fastq.gz /home/srhuet/projets/Biscal_xp2_coal/data/tmp/paired.d/90_S135_R2_001.unpaired.fastq.gz MINLEN:36\n",
      "Quality encoding detected as phred33\n",
      "Input Read Pairs: 23239 Both Surviving: 18506 (79,63%) Forward Only Surviving: 45 (0,19%) Reverse Only Surviving: 100 (0,43%) Dropped: 4588 (19,74%)\n",
      "TrimmomaticPE: Completed successfully\n",
      "\n",
      "/bin/cat: /home/srhuet/projets/Biscal_xp2_coal/data/ext/MF_sampleid.txt: Aucun fichier ou dossier de ce type\n",
      "\n",
      "/bin/grep: /home/srhuet/projets/Biscal_xp2_coal/data/ext/MF_sampleid.txt: Aucun fichier ou dossier de ce type\n",
      "\n",
      "TrimmomaticPE: Started with arguments:\n",
      " /home/srhuet/projets/Biscal_xp2_coal/data/ext/raw/samples/91_S92_R1_001.fastq.gz /home/srhuet/projets/Biscal_xp2_coal/data/ext/raw/samples/91_S92_R2_001.fastq.gz /home/srhuet/projets/Biscal_xp2_coal/data/tmp/paired.d/91_S92_R1_001.paired.fastq.gz /home/srhuet/projets/Biscal_xp2_coal/data/tmp/paired.d/91_S92_R1_001.unpaired.fastq.gz /home/srhuet/projets/Biscal_xp2_coal/data/tmp/paired.d/91_S92_R2_001.paired.fastq.gz /home/srhuet/projets/Biscal_xp2_coal/data/tmp/paired.d/91_S92_R2_001.unpaired.fastq.gz MINLEN:36\n",
      "Quality encoding detected as phred33\n",
      "Input Read Pairs: 16654 Both Surviving: 12684 (76,16%) Forward Only Surviving: 35 (0,21%) Reverse Only Surviving: 85 (0,51%) Dropped: 3850 (23,12%)\n",
      "TrimmomaticPE: Completed successfully\n",
      "\n",
      "/bin/cat: /home/srhuet/projets/Biscal_xp2_coal/data/ext/MF_sampleid.txt: Aucun fichier ou dossier de ce type\n",
      "\n",
      "/bin/grep: /home/srhuet/projets/Biscal_xp2_coal/data/ext/MF_sampleid.txt: Aucun fichier ou dossier de ce type\n",
      "\n",
      "TrimmomaticPE: Started with arguments:\n",
      " /home/srhuet/projets/Biscal_xp2_coal/data/ext/raw/samples/92_S93_R1_001.fastq.gz /home/srhuet/projets/Biscal_xp2_coal/data/ext/raw/samples/92_S93_R2_001.fastq.gz /home/srhuet/projets/Biscal_xp2_coal/data/tmp/paired.d/92_S93_R1_001.paired.fastq.gz /home/srhuet/projets/Biscal_xp2_coal/data/tmp/paired.d/92_S93_R1_001.unpaired.fastq.gz /home/srhuet/projets/Biscal_xp2_coal/data/tmp/paired.d/92_S93_R2_001.paired.fastq.gz /home/srhuet/projets/Biscal_xp2_coal/data/tmp/paired.d/92_S93_R2_001.unpaired.fastq.gz MINLEN:36\n",
      "Quality encoding detected as phred33\n",
      "Input Read Pairs: 16194 Both Surviving: 12027 (74,27%) Forward Only Surviving: 40 (0,25%) Reverse Only Surviving: 95 (0,59%) Dropped: 4032 (24,90%)\n",
      "TrimmomaticPE: Completed successfully\n",
      "\n",
      "/bin/cat: /home/srhuet/projets/Biscal_xp2_coal/data/ext/MF_sampleid.txt: Aucun fichier ou dossier de ce type\n",
      "\n",
      "/bin/grep: /home/srhuet/projets/Biscal_xp2_coal/data/ext/MF_sampleid.txt: Aucun fichier ou dossier de ce type\n",
      "\n",
      "TrimmomaticPE: Started with arguments:\n",
      " /home/srhuet/projets/Biscal_xp2_coal/data/ext/raw/samples/93_S94_R1_001.fastq.gz /home/srhuet/projets/Biscal_xp2_coal/data/ext/raw/samples/93_S94_R2_001.fastq.gz /home/srhuet/projets/Biscal_xp2_coal/data/tmp/paired.d/93_S94_R1_001.paired.fastq.gz /home/srhuet/projets/Biscal_xp2_coal/data/tmp/paired.d/93_S94_R1_001.unpaired.fastq.gz /home/srhuet/projets/Biscal_xp2_coal/data/tmp/paired.d/93_S94_R2_001.paired.fastq.gz /home/srhuet/projets/Biscal_xp2_coal/data/tmp/paired.d/93_S94_R2_001.unpaired.fastq.gz MINLEN:36\n",
      "Quality encoding detected as phred33\n",
      "Input Read Pairs: 19660 Both Surviving: 15676 (79,74%) Forward Only Surviving: 28 (0,14%) Reverse Only Surviving: 70 (0,36%) Dropped: 3886 (19,77%)\n",
      "TrimmomaticPE: Completed successfully\n",
      "\n",
      "/bin/cat: /home/srhuet/projets/Biscal_xp2_coal/data/ext/MF_sampleid.txt: Aucun fichier ou dossier de ce type\n",
      "\n",
      "/bin/grep: /home/srhuet/projets/Biscal_xp2_coal/data/ext/MF_sampleid.txt: Aucun fichier ou dossier de ce type\n",
      "\n",
      "TrimmomaticPE: Started with arguments:\n",
      " /home/srhuet/projets/Biscal_xp2_coal/data/ext/raw/samples/94_S95_R1_001.fastq.gz /home/srhuet/projets/Biscal_xp2_coal/data/ext/raw/samples/94_S95_R2_001.fastq.gz /home/srhuet/projets/Biscal_xp2_coal/data/tmp/paired.d/94_S95_R1_001.paired.fastq.gz /home/srhuet/projets/Biscal_xp2_coal/data/tmp/paired.d/94_S95_R1_001.unpaired.fastq.gz /home/srhuet/projets/Biscal_xp2_coal/data/tmp/paired.d/94_S95_R2_001.paired.fastq.gz /home/srhuet/projets/Biscal_xp2_coal/data/tmp/paired.d/94_S95_R2_001.unpaired.fastq.gz MINLEN:36\n",
      "Quality encoding detected as phred33\n",
      "Input Read Pairs: 17215 Both Surviving: 13924 (80,88%) Forward Only Surviving: 37 (0,21%) Reverse Only Surviving: 71 (0,41%) Dropped: 3183 (18,49%)\n",
      "TrimmomaticPE: Completed successfully\n",
      "\n"
     ]
    },
    {
     "name": "stdout",
     "output_type": "stream",
     "text": [
      "/bin/cat: /home/srhuet/projets/Biscal_xp2_coal/data/ext/MF_sampleid.txt: Aucun fichier ou dossier de ce type\n",
      "\n",
      "/bin/grep: /home/srhuet/projets/Biscal_xp2_coal/data/ext/MF_sampleid.txt: Aucun fichier ou dossier de ce type\n",
      "\n",
      "TrimmomaticPE: Started with arguments:\n",
      " /home/srhuet/projets/Biscal_xp2_coal/data/ext/raw/samples/95_S96_R1_001.fastq.gz /home/srhuet/projets/Biscal_xp2_coal/data/ext/raw/samples/95_S96_R2_001.fastq.gz /home/srhuet/projets/Biscal_xp2_coal/data/tmp/paired.d/95_S96_R1_001.paired.fastq.gz /home/srhuet/projets/Biscal_xp2_coal/data/tmp/paired.d/95_S96_R1_001.unpaired.fastq.gz /home/srhuet/projets/Biscal_xp2_coal/data/tmp/paired.d/95_S96_R2_001.paired.fastq.gz /home/srhuet/projets/Biscal_xp2_coal/data/tmp/paired.d/95_S96_R2_001.unpaired.fastq.gz MINLEN:36\n",
      "Quality encoding detected as phred33\n",
      "Input Read Pairs: 19780 Both Surviving: 15928 (80,53%) Forward Only Surviving: 34 (0,17%) Reverse Only Surviving: 89 (0,45%) Dropped: 3729 (18,85%)\n",
      "TrimmomaticPE: Completed successfully\n",
      "\n",
      "/bin/cat: /home/srhuet/projets/Biscal_xp2_coal/data/ext/MF_sampleid.txt: Aucun fichier ou dossier de ce type\n",
      "\n",
      "/bin/grep: /home/srhuet/projets/Biscal_xp2_coal/data/ext/MF_sampleid.txt: Aucun fichier ou dossier de ce type\n",
      "\n",
      "TrimmomaticPE: Started with arguments:\n",
      " /home/srhuet/projets/Biscal_xp2_coal/data/ext/raw/samples/96_S97_R1_001.fastq.gz /home/srhuet/projets/Biscal_xp2_coal/data/ext/raw/samples/96_S97_R2_001.fastq.gz /home/srhuet/projets/Biscal_xp2_coal/data/tmp/paired.d/96_S97_R1_001.paired.fastq.gz /home/srhuet/projets/Biscal_xp2_coal/data/tmp/paired.d/96_S97_R1_001.unpaired.fastq.gz /home/srhuet/projets/Biscal_xp2_coal/data/tmp/paired.d/96_S97_R2_001.paired.fastq.gz /home/srhuet/projets/Biscal_xp2_coal/data/tmp/paired.d/96_S97_R2_001.unpaired.fastq.gz MINLEN:36\n",
      "Quality encoding detected as phred33\n",
      "Input Read Pairs: 14123 Both Surviving: 11085 (78,49%) Forward Only Surviving: 30 (0,21%) Reverse Only Surviving: 57 (0,40%) Dropped: 2951 (20,89%)\n",
      "TrimmomaticPE: Completed successfully\n",
      "\n",
      "/bin/cat: /home/srhuet/projets/Biscal_xp2_coal/data/ext/MF_sampleid.txt: Aucun fichier ou dossier de ce type\n",
      "\n",
      "/bin/grep: /home/srhuet/projets/Biscal_xp2_coal/data/ext/MF_sampleid.txt: Aucun fichier ou dossier de ce type\n",
      "\n",
      "TrimmomaticPE: Started with arguments:\n",
      " /home/srhuet/projets/Biscal_xp2_coal/data/ext/raw/samples/97_S136_R1_001.fastq.gz /home/srhuet/projets/Biscal_xp2_coal/data/ext/raw/samples/97_S136_R2_001.fastq.gz /home/srhuet/projets/Biscal_xp2_coal/data/tmp/paired.d/97_S136_R1_001.paired.fastq.gz /home/srhuet/projets/Biscal_xp2_coal/data/tmp/paired.d/97_S136_R1_001.unpaired.fastq.gz /home/srhuet/projets/Biscal_xp2_coal/data/tmp/paired.d/97_S136_R2_001.paired.fastq.gz /home/srhuet/projets/Biscal_xp2_coal/data/tmp/paired.d/97_S136_R2_001.unpaired.fastq.gz MINLEN:36\n",
      "Quality encoding detected as phred33\n",
      "Input Read Pairs: 15259 Both Surviving: 11336 (74,29%) Forward Only Surviving: 44 (0,29%) Reverse Only Surviving: 99 (0,65%) Dropped: 3780 (24,77%)\n",
      "TrimmomaticPE: Completed successfully\n",
      "\n",
      "/bin/cat: /home/srhuet/projets/Biscal_xp2_coal/data/ext/MF_sampleid.txt: Aucun fichier ou dossier de ce type\n",
      "\n",
      "/bin/grep: /home/srhuet/projets/Biscal_xp2_coal/data/ext/MF_sampleid.txt: Aucun fichier ou dossier de ce type\n",
      "\n",
      "TrimmomaticPE: Started with arguments:\n",
      " /home/srhuet/projets/Biscal_xp2_coal/data/ext/raw/samples/98_S137_R1_001.fastq.gz /home/srhuet/projets/Biscal_xp2_coal/data/ext/raw/samples/98_S137_R2_001.fastq.gz /home/srhuet/projets/Biscal_xp2_coal/data/tmp/paired.d/98_S137_R1_001.paired.fastq.gz /home/srhuet/projets/Biscal_xp2_coal/data/tmp/paired.d/98_S137_R1_001.unpaired.fastq.gz /home/srhuet/projets/Biscal_xp2_coal/data/tmp/paired.d/98_S137_R2_001.paired.fastq.gz /home/srhuet/projets/Biscal_xp2_coal/data/tmp/paired.d/98_S137_R2_001.unpaired.fastq.gz MINLEN:36\n",
      "Quality encoding detected as phred33\n",
      "Input Read Pairs: 13959 Both Surviving: 10439 (74,78%) Forward Only Surviving: 27 (0,19%) Reverse Only Surviving: 78 (0,56%) Dropped: 3415 (24,46%)\n",
      "TrimmomaticPE: Completed successfully\n",
      "\n",
      "/bin/cat: /home/srhuet/projets/Biscal_xp2_coal/data/ext/MF_sampleid.txt: Aucun fichier ou dossier de ce type\n",
      "\n",
      "/bin/grep: /home/srhuet/projets/Biscal_xp2_coal/data/ext/MF_sampleid.txt: Aucun fichier ou dossier de ce type\n",
      "\n",
      "TrimmomaticPE: Started with arguments:\n",
      " /home/srhuet/projets/Biscal_xp2_coal/data/ext/raw/samples/99_S138_R1_001.fastq.gz /home/srhuet/projets/Biscal_xp2_coal/data/ext/raw/samples/99_S138_R2_001.fastq.gz /home/srhuet/projets/Biscal_xp2_coal/data/tmp/paired.d/99_S138_R1_001.paired.fastq.gz /home/srhuet/projets/Biscal_xp2_coal/data/tmp/paired.d/99_S138_R1_001.unpaired.fastq.gz /home/srhuet/projets/Biscal_xp2_coal/data/tmp/paired.d/99_S138_R2_001.paired.fastq.gz /home/srhuet/projets/Biscal_xp2_coal/data/tmp/paired.d/99_S138_R2_001.unpaired.fastq.gz MINLEN:36\n",
      "Quality encoding detected as phred33\n",
      "Input Read Pairs: 17466 Both Surviving: 12869 (73,68%) Forward Only Surviving: 34 (0,19%) Reverse Only Surviving: 112 (0,64%) Dropped: 4451 (25,48%)\n",
      "TrimmomaticPE: Completed successfully\n",
      "\n",
      "/bin/cat: /home/srhuet/projets/Biscal_xp2_coal/data/ext/MF_sampleid.txt: Aucun fichier ou dossier de ce type\n",
      "\n",
      "/bin/grep: /home/srhuet/projets/Biscal_xp2_coal/data/ext/MF_sampleid.txt: Aucun fichier ou dossier de ce type\n",
      "\n",
      "TrimmomaticPE: Started with arguments:\n",
      " /home/srhuet/projets/Biscal_xp2_coal/data/ext/raw/samples/100_S139_R1_001.fastq.gz /home/srhuet/projets/Biscal_xp2_coal/data/ext/raw/samples/100_S139_R2_001.fastq.gz /home/srhuet/projets/Biscal_xp2_coal/data/tmp/paired.d/100_S139_R1_001.paired.fastq.gz /home/srhuet/projets/Biscal_xp2_coal/data/tmp/paired.d/100_S139_R1_001.unpaired.fastq.gz /home/srhuet/projets/Biscal_xp2_coal/data/tmp/paired.d/100_S139_R2_001.paired.fastq.gz /home/srhuet/projets/Biscal_xp2_coal/data/tmp/paired.d/100_S139_R2_001.unpaired.fastq.gz MINLEN:36\n",
      "Quality encoding detected as phred33\n",
      "Input Read Pairs: 18934 Both Surviving: 14301 (75,53%) Forward Only Surviving: 34 (0,18%) Reverse Only Surviving: 109 (0,58%) Dropped: 4490 (23,71%)\n",
      "TrimmomaticPE: Completed successfully\n",
      "\n",
      "/bin/cat: /home/srhuet/projets/Biscal_xp2_coal/data/ext/MF_sampleid.txt: Aucun fichier ou dossier de ce type\n",
      "\n",
      "/bin/grep: /home/srhuet/projets/Biscal_xp2_coal/data/ext/MF_sampleid.txt: Aucun fichier ou dossier de ce type\n",
      "\n",
      "TrimmomaticPE: Started with arguments:\n",
      " /home/srhuet/projets/Biscal_xp2_coal/data/ext/raw/samples/101_S98_R1_001.fastq.gz /home/srhuet/projets/Biscal_xp2_coal/data/ext/raw/samples/101_S98_R2_001.fastq.gz /home/srhuet/projets/Biscal_xp2_coal/data/tmp/paired.d/101_S98_R1_001.paired.fastq.gz /home/srhuet/projets/Biscal_xp2_coal/data/tmp/paired.d/101_S98_R1_001.unpaired.fastq.gz /home/srhuet/projets/Biscal_xp2_coal/data/tmp/paired.d/101_S98_R2_001.paired.fastq.gz /home/srhuet/projets/Biscal_xp2_coal/data/tmp/paired.d/101_S98_R2_001.unpaired.fastq.gz MINLEN:36\n",
      "Quality encoding detected as phred33\n",
      "Input Read Pairs: 18821 Both Surviving: 14192 (75,41%) Forward Only Surviving: 43 (0,23%) Reverse Only Surviving: 111 (0,59%) Dropped: 4475 (23,78%)\n",
      "TrimmomaticPE: Completed successfully\n",
      "\n",
      "/bin/cat: /home/srhuet/projets/Biscal_xp2_coal/data/ext/MF_sampleid.txt: Aucun fichier ou dossier de ce type\n",
      "\n",
      "/bin/grep: /home/srhuet/projets/Biscal_xp2_coal/data/ext/MF_sampleid.txt: Aucun fichier ou dossier de ce type\n",
      "\n",
      "TrimmomaticPE: Started with arguments:\n",
      " /home/srhuet/projets/Biscal_xp2_coal/data/ext/raw/samples/102_S99_R1_001.fastq.gz /home/srhuet/projets/Biscal_xp2_coal/data/ext/raw/samples/102_S99_R2_001.fastq.gz /home/srhuet/projets/Biscal_xp2_coal/data/tmp/paired.d/102_S99_R1_001.paired.fastq.gz /home/srhuet/projets/Biscal_xp2_coal/data/tmp/paired.d/102_S99_R1_001.unpaired.fastq.gz /home/srhuet/projets/Biscal_xp2_coal/data/tmp/paired.d/102_S99_R2_001.paired.fastq.gz /home/srhuet/projets/Biscal_xp2_coal/data/tmp/paired.d/102_S99_R2_001.unpaired.fastq.gz MINLEN:36\n",
      "Quality encoding detected as phred33\n",
      "Input Read Pairs: 15710 Both Surviving: 11631 (74,04%) Forward Only Surviving: 44 (0,28%) Reverse Only Surviving: 115 (0,73%) Dropped: 3920 (24,95%)\n",
      "TrimmomaticPE: Completed successfully\n",
      "\n",
      "/bin/cat: /home/srhuet/projets/Biscal_xp2_coal/data/ext/MF_sampleid.txt: Aucun fichier ou dossier de ce type\n",
      "\n",
      "/bin/grep: /home/srhuet/projets/Biscal_xp2_coal/data/ext/MF_sampleid.txt: Aucun fichier ou dossier de ce type\n",
      "\n"
     ]
    },
    {
     "name": "stdout",
     "output_type": "stream",
     "text": [
      "TrimmomaticPE: Started with arguments:\n",
      " /home/srhuet/projets/Biscal_xp2_coal/data/ext/raw/samples/103_S100_R1_001.fastq.gz /home/srhuet/projets/Biscal_xp2_coal/data/ext/raw/samples/103_S100_R2_001.fastq.gz /home/srhuet/projets/Biscal_xp2_coal/data/tmp/paired.d/103_S100_R1_001.paired.fastq.gz /home/srhuet/projets/Biscal_xp2_coal/data/tmp/paired.d/103_S100_R1_001.unpaired.fastq.gz /home/srhuet/projets/Biscal_xp2_coal/data/tmp/paired.d/103_S100_R2_001.paired.fastq.gz /home/srhuet/projets/Biscal_xp2_coal/data/tmp/paired.d/103_S100_R2_001.unpaired.fastq.gz MINLEN:36\n",
      "Quality encoding detected as phred33\n",
      "Input Read Pairs: 17918 Both Surviving: 14127 (78,84%) Forward Only Surviving: 39 (0,22%) Reverse Only Surviving: 110 (0,61%) Dropped: 3642 (20,33%)\n",
      "TrimmomaticPE: Completed successfully\n",
      "\n",
      "/bin/cat: /home/srhuet/projets/Biscal_xp2_coal/data/ext/MF_sampleid.txt: Aucun fichier ou dossier de ce type\n",
      "\n",
      "/bin/grep: /home/srhuet/projets/Biscal_xp2_coal/data/ext/MF_sampleid.txt: Aucun fichier ou dossier de ce type\n",
      "\n",
      "TrimmomaticPE: Started with arguments:\n",
      " /home/srhuet/projets/Biscal_xp2_coal/data/ext/raw/samples/104_S101_R1_001.fastq.gz /home/srhuet/projets/Biscal_xp2_coal/data/ext/raw/samples/104_S101_R2_001.fastq.gz /home/srhuet/projets/Biscal_xp2_coal/data/tmp/paired.d/104_S101_R1_001.paired.fastq.gz /home/srhuet/projets/Biscal_xp2_coal/data/tmp/paired.d/104_S101_R1_001.unpaired.fastq.gz /home/srhuet/projets/Biscal_xp2_coal/data/tmp/paired.d/104_S101_R2_001.paired.fastq.gz /home/srhuet/projets/Biscal_xp2_coal/data/tmp/paired.d/104_S101_R2_001.unpaired.fastq.gz MINLEN:36\n",
      "Quality encoding detected as phred33\n",
      "Input Read Pairs: 18949 Both Surviving: 14406 (76,03%) Forward Only Surviving: 36 (0,19%) Reverse Only Surviving: 123 (0,65%) Dropped: 4384 (23,14%)\n",
      "TrimmomaticPE: Completed successfully\n",
      "\n",
      "/bin/cat: /home/srhuet/projets/Biscal_xp2_coal/data/ext/MF_sampleid.txt: Aucun fichier ou dossier de ce type\n",
      "\n",
      "/bin/grep: /home/srhuet/projets/Biscal_xp2_coal/data/ext/MF_sampleid.txt: Aucun fichier ou dossier de ce type\n",
      "\n",
      "TrimmomaticPE: Started with arguments:\n",
      " /home/srhuet/projets/Biscal_xp2_coal/data/ext/raw/samples/105_S102_R1_001.fastq.gz /home/srhuet/projets/Biscal_xp2_coal/data/ext/raw/samples/105_S102_R2_001.fastq.gz /home/srhuet/projets/Biscal_xp2_coal/data/tmp/paired.d/105_S102_R1_001.paired.fastq.gz /home/srhuet/projets/Biscal_xp2_coal/data/tmp/paired.d/105_S102_R1_001.unpaired.fastq.gz /home/srhuet/projets/Biscal_xp2_coal/data/tmp/paired.d/105_S102_R2_001.paired.fastq.gz /home/srhuet/projets/Biscal_xp2_coal/data/tmp/paired.d/105_S102_R2_001.unpaired.fastq.gz MINLEN:36\n",
      "Quality encoding detected as phred33\n",
      "Input Read Pairs: 13885 Both Surviving: 10939 (78,78%) Forward Only Surviving: 31 (0,22%) Reverse Only Surviving: 58 (0,42%) Dropped: 2857 (20,58%)\n",
      "TrimmomaticPE: Completed successfully\n",
      "\n",
      "/bin/cat: /home/srhuet/projets/Biscal_xp2_coal/data/ext/MF_sampleid.txt: Aucun fichier ou dossier de ce type\n",
      "\n",
      "/bin/grep: /home/srhuet/projets/Biscal_xp2_coal/data/ext/MF_sampleid.txt: Aucun fichier ou dossier de ce type\n",
      "\n",
      "TrimmomaticPE: Started with arguments:\n",
      " /home/srhuet/projets/Biscal_xp2_coal/data/ext/raw/samples/106_S103_R1_001.fastq.gz /home/srhuet/projets/Biscal_xp2_coal/data/ext/raw/samples/106_S103_R2_001.fastq.gz /home/srhuet/projets/Biscal_xp2_coal/data/tmp/paired.d/106_S103_R1_001.paired.fastq.gz /home/srhuet/projets/Biscal_xp2_coal/data/tmp/paired.d/106_S103_R1_001.unpaired.fastq.gz /home/srhuet/projets/Biscal_xp2_coal/data/tmp/paired.d/106_S103_R2_001.paired.fastq.gz /home/srhuet/projets/Biscal_xp2_coal/data/tmp/paired.d/106_S103_R2_001.unpaired.fastq.gz MINLEN:36\n",
      "Quality encoding detected as phred33\n",
      "Input Read Pairs: 16115 Both Surviving: 12734 (79,02%) Forward Only Surviving: 34 (0,21%) Reverse Only Surviving: 83 (0,52%) Dropped: 3264 (20,25%)\n",
      "TrimmomaticPE: Completed successfully\n",
      "\n",
      "/bin/cat: /home/srhuet/projets/Biscal_xp2_coal/data/ext/MF_sampleid.txt: Aucun fichier ou dossier de ce type\n",
      "\n",
      "/bin/grep: /home/srhuet/projets/Biscal_xp2_coal/data/ext/MF_sampleid.txt: Aucun fichier ou dossier de ce type\n",
      "\n",
      "TrimmomaticPE: Started with arguments:\n",
      " /home/srhuet/projets/Biscal_xp2_coal/data/ext/raw/samples/107_S140_R1_001.fastq.gz /home/srhuet/projets/Biscal_xp2_coal/data/ext/raw/samples/107_S140_R2_001.fastq.gz /home/srhuet/projets/Biscal_xp2_coal/data/tmp/paired.d/107_S140_R1_001.paired.fastq.gz /home/srhuet/projets/Biscal_xp2_coal/data/tmp/paired.d/107_S140_R1_001.unpaired.fastq.gz /home/srhuet/projets/Biscal_xp2_coal/data/tmp/paired.d/107_S140_R2_001.paired.fastq.gz /home/srhuet/projets/Biscal_xp2_coal/data/tmp/paired.d/107_S140_R2_001.unpaired.fastq.gz MINLEN:36\n",
      "Quality encoding detected as phred33\n",
      "Input Read Pairs: 16982 Both Surviving: 13836 (81,47%) Forward Only Surviving: 26 (0,15%) Reverse Only Surviving: 64 (0,38%) Dropped: 3056 (18,00%)\n",
      "TrimmomaticPE: Completed successfully\n",
      "\n",
      "/bin/cat: /home/srhuet/projets/Biscal_xp2_coal/data/ext/MF_sampleid.txt: Aucun fichier ou dossier de ce type\n",
      "\n",
      "/bin/grep: /home/srhuet/projets/Biscal_xp2_coal/data/ext/MF_sampleid.txt: Aucun fichier ou dossier de ce type\n",
      "\n",
      "TrimmomaticPE: Started with arguments:\n",
      " /home/srhuet/projets/Biscal_xp2_coal/data/ext/raw/samples/108_S141_R1_001.fastq.gz /home/srhuet/projets/Biscal_xp2_coal/data/ext/raw/samples/108_S141_R2_001.fastq.gz /home/srhuet/projets/Biscal_xp2_coal/data/tmp/paired.d/108_S141_R1_001.paired.fastq.gz /home/srhuet/projets/Biscal_xp2_coal/data/tmp/paired.d/108_S141_R1_001.unpaired.fastq.gz /home/srhuet/projets/Biscal_xp2_coal/data/tmp/paired.d/108_S141_R2_001.paired.fastq.gz /home/srhuet/projets/Biscal_xp2_coal/data/tmp/paired.d/108_S141_R2_001.unpaired.fastq.gz MINLEN:36\n",
      "Quality encoding detected as phred33\n",
      "Input Read Pairs: 15986 Both Surviving: 12379 (77,44%) Forward Only Surviving: 31 (0,19%) Reverse Only Surviving: 80 (0,50%) Dropped: 3496 (21,87%)\n",
      "TrimmomaticPE: Completed successfully\n",
      "\n",
      "/bin/cat: /home/srhuet/projets/Biscal_xp2_coal/data/ext/MF_sampleid.txt: Aucun fichier ou dossier de ce type\n",
      "\n",
      "/bin/grep: /home/srhuet/projets/Biscal_xp2_coal/data/ext/MF_sampleid.txt: Aucun fichier ou dossier de ce type\n",
      "\n",
      "TrimmomaticPE: Started with arguments:\n",
      " /home/srhuet/projets/Biscal_xp2_coal/data/ext/raw/samples/109_S142_R1_001.fastq.gz /home/srhuet/projets/Biscal_xp2_coal/data/ext/raw/samples/109_S142_R2_001.fastq.gz /home/srhuet/projets/Biscal_xp2_coal/data/tmp/paired.d/109_S142_R1_001.paired.fastq.gz /home/srhuet/projets/Biscal_xp2_coal/data/tmp/paired.d/109_S142_R1_001.unpaired.fastq.gz /home/srhuet/projets/Biscal_xp2_coal/data/tmp/paired.d/109_S142_R2_001.paired.fastq.gz /home/srhuet/projets/Biscal_xp2_coal/data/tmp/paired.d/109_S142_R2_001.unpaired.fastq.gz MINLEN:36\n",
      "Quality encoding detected as phred33\n",
      "Input Read Pairs: 13160 Both Surviving: 11485 (87,27%) Forward Only Surviving: 22 (0,17%) Reverse Only Surviving: 36 (0,27%) Dropped: 1617 (12,29%)\n",
      "TrimmomaticPE: Completed successfully\n",
      "\n",
      "/bin/cat: /home/srhuet/projets/Biscal_xp2_coal/data/ext/MF_sampleid.txt: Aucun fichier ou dossier de ce type\n",
      "\n",
      "/bin/grep: /home/srhuet/projets/Biscal_xp2_coal/data/ext/MF_sampleid.txt: Aucun fichier ou dossier de ce type\n",
      "\n",
      "TrimmomaticPE: Started with arguments:\n",
      " /home/srhuet/projets/Biscal_xp2_coal/data/ext/raw/samples/110_S143_R1_001.fastq.gz /home/srhuet/projets/Biscal_xp2_coal/data/ext/raw/samples/110_S143_R2_001.fastq.gz /home/srhuet/projets/Biscal_xp2_coal/data/tmp/paired.d/110_S143_R1_001.paired.fastq.gz /home/srhuet/projets/Biscal_xp2_coal/data/tmp/paired.d/110_S143_R1_001.unpaired.fastq.gz /home/srhuet/projets/Biscal_xp2_coal/data/tmp/paired.d/110_S143_R2_001.paired.fastq.gz /home/srhuet/projets/Biscal_xp2_coal/data/tmp/paired.d/110_S143_R2_001.unpaired.fastq.gz MINLEN:36\n",
      "Quality encoding detected as phred33\n",
      "Input Read Pairs: 21014 Both Surviving: 16133 (76,77%) Forward Only Surviving: 52 (0,25%) Reverse Only Surviving: 110 (0,52%) Dropped: 4719 (22,46%)\n",
      "TrimmomaticPE: Completed successfully\n",
      "\n",
      "/bin/cat: /home/srhuet/projets/Biscal_xp2_coal/data/ext/MF_sampleid.txt: Aucun fichier ou dossier de ce type\n",
      "\n",
      "/bin/grep: /home/srhuet/projets/Biscal_xp2_coal/data/ext/MF_sampleid.txt: Aucun fichier ou dossier de ce type\n",
      "\n",
      "TrimmomaticPE: Started with arguments:\n",
      " /home/srhuet/projets/Biscal_xp2_coal/data/ext/raw/samples/111_S104_R1_001.fastq.gz /home/srhuet/projets/Biscal_xp2_coal/data/ext/raw/samples/111_S104_R2_001.fastq.gz /home/srhuet/projets/Biscal_xp2_coal/data/tmp/paired.d/111_S104_R1_001.paired.fastq.gz /home/srhuet/projets/Biscal_xp2_coal/data/tmp/paired.d/111_S104_R1_001.unpaired.fastq.gz /home/srhuet/projets/Biscal_xp2_coal/data/tmp/paired.d/111_S104_R2_001.paired.fastq.gz /home/srhuet/projets/Biscal_xp2_coal/data/tmp/paired.d/111_S104_R2_001.unpaired.fastq.gz MINLEN:36\n",
      "Quality encoding detected as phred33\n",
      "Input Read Pairs: 13873 Both Surviving: 9945 (71,69%) Forward Only Surviving: 30 (0,22%) Reverse Only Surviving: 96 (0,69%) Dropped: 3802 (27,41%)\n",
      "TrimmomaticPE: Completed successfully\n",
      "\n"
     ]
    },
    {
     "name": "stdout",
     "output_type": "stream",
     "text": [
      "/bin/cat: /home/srhuet/projets/Biscal_xp2_coal/data/ext/MF_sampleid.txt: Aucun fichier ou dossier de ce type\n",
      "\n",
      "/bin/grep: /home/srhuet/projets/Biscal_xp2_coal/data/ext/MF_sampleid.txt: Aucun fichier ou dossier de ce type\n",
      "\n",
      "TrimmomaticPE: Started with arguments:\n",
      " /home/srhuet/projets/Biscal_xp2_coal/data/ext/raw/samples/112_S105_R1_001.fastq.gz /home/srhuet/projets/Biscal_xp2_coal/data/ext/raw/samples/112_S105_R2_001.fastq.gz /home/srhuet/projets/Biscal_xp2_coal/data/tmp/paired.d/112_S105_R1_001.paired.fastq.gz /home/srhuet/projets/Biscal_xp2_coal/data/tmp/paired.d/112_S105_R1_001.unpaired.fastq.gz /home/srhuet/projets/Biscal_xp2_coal/data/tmp/paired.d/112_S105_R2_001.paired.fastq.gz /home/srhuet/projets/Biscal_xp2_coal/data/tmp/paired.d/112_S105_R2_001.unpaired.fastq.gz MINLEN:36\n",
      "Quality encoding detected as phred33\n",
      "Input Read Pairs: 19745 Both Surviving: 14480 (73,34%) Forward Only Surviving: 48 (0,24%) Reverse Only Surviving: 123 (0,62%) Dropped: 5094 (25,80%)\n",
      "TrimmomaticPE: Completed successfully\n",
      "\n",
      "/bin/cat: /home/srhuet/projets/Biscal_xp2_coal/data/ext/MF_sampleid.txt: Aucun fichier ou dossier de ce type\n",
      "\n",
      "/bin/grep: /home/srhuet/projets/Biscal_xp2_coal/data/ext/MF_sampleid.txt: Aucun fichier ou dossier de ce type\n",
      "\n",
      "TrimmomaticPE: Started with arguments:\n",
      " /home/srhuet/projets/Biscal_xp2_coal/data/ext/raw/samples/113_S106_R1_001.fastq.gz /home/srhuet/projets/Biscal_xp2_coal/data/ext/raw/samples/113_S106_R2_001.fastq.gz /home/srhuet/projets/Biscal_xp2_coal/data/tmp/paired.d/113_S106_R1_001.paired.fastq.gz /home/srhuet/projets/Biscal_xp2_coal/data/tmp/paired.d/113_S106_R1_001.unpaired.fastq.gz /home/srhuet/projets/Biscal_xp2_coal/data/tmp/paired.d/113_S106_R2_001.paired.fastq.gz /home/srhuet/projets/Biscal_xp2_coal/data/tmp/paired.d/113_S106_R2_001.unpaired.fastq.gz MINLEN:36\n",
      "Quality encoding detected as phred33\n",
      "Input Read Pairs: 19568 Both Surviving: 15247 (77,92%) Forward Only Surviving: 43 (0,22%) Reverse Only Surviving: 76 (0,39%) Dropped: 4202 (21,47%)\n",
      "TrimmomaticPE: Completed successfully\n",
      "\n",
      "/bin/cat: /home/srhuet/projets/Biscal_xp2_coal/data/ext/MF_sampleid.txt: Aucun fichier ou dossier de ce type\n",
      "\n",
      "/bin/grep: /home/srhuet/projets/Biscal_xp2_coal/data/ext/MF_sampleid.txt: Aucun fichier ou dossier de ce type\n",
      "\n",
      "TrimmomaticPE: Started with arguments:\n",
      " /home/srhuet/projets/Biscal_xp2_coal/data/ext/raw/samples/114_S107_R1_001.fastq.gz /home/srhuet/projets/Biscal_xp2_coal/data/ext/raw/samples/114_S107_R2_001.fastq.gz /home/srhuet/projets/Biscal_xp2_coal/data/tmp/paired.d/114_S107_R1_001.paired.fastq.gz /home/srhuet/projets/Biscal_xp2_coal/data/tmp/paired.d/114_S107_R1_001.unpaired.fastq.gz /home/srhuet/projets/Biscal_xp2_coal/data/tmp/paired.d/114_S107_R2_001.paired.fastq.gz /home/srhuet/projets/Biscal_xp2_coal/data/tmp/paired.d/114_S107_R2_001.unpaired.fastq.gz MINLEN:36\n",
      "Quality encoding detected as phred33\n",
      "Input Read Pairs: 20243 Both Surviving: 14980 (74,00%) Forward Only Surviving: 68 (0,34%) Reverse Only Surviving: 106 (0,52%) Dropped: 5089 (25,14%)\n",
      "TrimmomaticPE: Completed successfully\n",
      "\n",
      "/bin/cat: /home/srhuet/projets/Biscal_xp2_coal/data/ext/MF_sampleid.txt: Aucun fichier ou dossier de ce type\n",
      "\n",
      "/bin/grep: /home/srhuet/projets/Biscal_xp2_coal/data/ext/MF_sampleid.txt: Aucun fichier ou dossier de ce type\n",
      "\n",
      "TrimmomaticPE: Started with arguments:\n",
      " /home/srhuet/projets/Biscal_xp2_coal/data/ext/raw/samples/115_S108_R1_001.fastq.gz /home/srhuet/projets/Biscal_xp2_coal/data/ext/raw/samples/115_S108_R2_001.fastq.gz /home/srhuet/projets/Biscal_xp2_coal/data/tmp/paired.d/115_S108_R1_001.paired.fastq.gz /home/srhuet/projets/Biscal_xp2_coal/data/tmp/paired.d/115_S108_R1_001.unpaired.fastq.gz /home/srhuet/projets/Biscal_xp2_coal/data/tmp/paired.d/115_S108_R2_001.paired.fastq.gz /home/srhuet/projets/Biscal_xp2_coal/data/tmp/paired.d/115_S108_R2_001.unpaired.fastq.gz MINLEN:36\n",
      "Quality encoding detected as phred33\n",
      "Input Read Pairs: 16559 Both Surviving: 12280 (74,16%) Forward Only Surviving: 39 (0,24%) Reverse Only Surviving: 109 (0,66%) Dropped: 4131 (24,95%)\n",
      "TrimmomaticPE: Completed successfully\n",
      "\n",
      "/bin/cat: /home/srhuet/projets/Biscal_xp2_coal/data/ext/MF_sampleid.txt: Aucun fichier ou dossier de ce type\n",
      "\n",
      "/bin/grep: /home/srhuet/projets/Biscal_xp2_coal/data/ext/MF_sampleid.txt: Aucun fichier ou dossier de ce type\n",
      "\n",
      "TrimmomaticPE: Started with arguments:\n",
      " /home/srhuet/projets/Biscal_xp2_coal/data/ext/raw/samples/116_S109_R1_001.fastq.gz /home/srhuet/projets/Biscal_xp2_coal/data/ext/raw/samples/116_S109_R2_001.fastq.gz /home/srhuet/projets/Biscal_xp2_coal/data/tmp/paired.d/116_S109_R1_001.paired.fastq.gz /home/srhuet/projets/Biscal_xp2_coal/data/tmp/paired.d/116_S109_R1_001.unpaired.fastq.gz /home/srhuet/projets/Biscal_xp2_coal/data/tmp/paired.d/116_S109_R2_001.paired.fastq.gz /home/srhuet/projets/Biscal_xp2_coal/data/tmp/paired.d/116_S109_R2_001.unpaired.fastq.gz MINLEN:36\n",
      "Quality encoding detected as phred33\n",
      "Input Read Pairs: 14472 Both Surviving: 10664 (73,69%) Forward Only Surviving: 41 (0,28%) Reverse Only Surviving: 72 (0,50%) Dropped: 3695 (25,53%)\n",
      "TrimmomaticPE: Completed successfully\n",
      "\n",
      "/bin/cat: /home/srhuet/projets/Biscal_xp2_coal/data/ext/MF_sampleid.txt: Aucun fichier ou dossier de ce type\n",
      "\n",
      "/bin/grep: /home/srhuet/projets/Biscal_xp2_coal/data/ext/MF_sampleid.txt: Aucun fichier ou dossier de ce type\n",
      "\n",
      "TrimmomaticPE: Started with arguments:\n",
      " /home/srhuet/projets/Biscal_xp2_coal/data/ext/raw/samples/117_S144_R1_001.fastq.gz /home/srhuet/projets/Biscal_xp2_coal/data/ext/raw/samples/117_S144_R2_001.fastq.gz /home/srhuet/projets/Biscal_xp2_coal/data/tmp/paired.d/117_S144_R1_001.paired.fastq.gz /home/srhuet/projets/Biscal_xp2_coal/data/tmp/paired.d/117_S144_R1_001.unpaired.fastq.gz /home/srhuet/projets/Biscal_xp2_coal/data/tmp/paired.d/117_S144_R2_001.paired.fastq.gz /home/srhuet/projets/Biscal_xp2_coal/data/tmp/paired.d/117_S144_R2_001.unpaired.fastq.gz MINLEN:36\n",
      "Quality encoding detected as phred33\n",
      "Input Read Pairs: 21905 Both Surviving: 16099 (73,49%) Forward Only Surviving: 55 (0,25%) Reverse Only Surviving: 131 (0,60%) Dropped: 5620 (25,66%)\n",
      "TrimmomaticPE: Completed successfully\n",
      "\n",
      "/bin/cat: /home/srhuet/projets/Biscal_xp2_coal/data/ext/MF_sampleid.txt: Aucun fichier ou dossier de ce type\n",
      "\n",
      "/bin/grep: /home/srhuet/projets/Biscal_xp2_coal/data/ext/MF_sampleid.txt: Aucun fichier ou dossier de ce type\n",
      "\n",
      "TrimmomaticPE: Started with arguments:\n",
      " /home/srhuet/projets/Biscal_xp2_coal/data/ext/raw/samples/118_S145_R1_001.fastq.gz /home/srhuet/projets/Biscal_xp2_coal/data/ext/raw/samples/118_S145_R2_001.fastq.gz /home/srhuet/projets/Biscal_xp2_coal/data/tmp/paired.d/118_S145_R1_001.paired.fastq.gz /home/srhuet/projets/Biscal_xp2_coal/data/tmp/paired.d/118_S145_R1_001.unpaired.fastq.gz /home/srhuet/projets/Biscal_xp2_coal/data/tmp/paired.d/118_S145_R2_001.paired.fastq.gz /home/srhuet/projets/Biscal_xp2_coal/data/tmp/paired.d/118_S145_R2_001.unpaired.fastq.gz MINLEN:36\n",
      "Quality encoding detected as phred33\n",
      "Input Read Pairs: 24820 Both Surviving: 20699 (83,40%) Forward Only Surviving: 49 (0,20%) Reverse Only Surviving: 94 (0,38%) Dropped: 3978 (16,03%)\n",
      "TrimmomaticPE: Completed successfully\n",
      "\n",
      "/bin/cat: /home/srhuet/projets/Biscal_xp2_coal/data/ext/MF_sampleid.txt: Aucun fichier ou dossier de ce type\n",
      "\n",
      "/bin/grep: /home/srhuet/projets/Biscal_xp2_coal/data/ext/MF_sampleid.txt: Aucun fichier ou dossier de ce type\n",
      "\n",
      "TrimmomaticPE: Started with arguments:\n",
      " /home/srhuet/projets/Biscal_xp2_coal/data/ext/raw/samples/119_S146_R1_001.fastq.gz /home/srhuet/projets/Biscal_xp2_coal/data/ext/raw/samples/119_S146_R2_001.fastq.gz /home/srhuet/projets/Biscal_xp2_coal/data/tmp/paired.d/119_S146_R1_001.paired.fastq.gz /home/srhuet/projets/Biscal_xp2_coal/data/tmp/paired.d/119_S146_R1_001.unpaired.fastq.gz /home/srhuet/projets/Biscal_xp2_coal/data/tmp/paired.d/119_S146_R2_001.paired.fastq.gz /home/srhuet/projets/Biscal_xp2_coal/data/tmp/paired.d/119_S146_R2_001.unpaired.fastq.gz MINLEN:36\n",
      "Quality encoding detected as phred33\n",
      "Input Read Pairs: 16727 Both Surviving: 11778 (70,41%) Forward Only Surviving: 45 (0,27%) Reverse Only Surviving: 96 (0,57%) Dropped: 4808 (28,74%)\n",
      "TrimmomaticPE: Completed successfully\n",
      "\n",
      "/bin/cat: /home/srhuet/projets/Biscal_xp2_coal/data/ext/MF_sampleid.txt: Aucun fichier ou dossier de ce type\n",
      "\n",
      "/bin/grep: /home/srhuet/projets/Biscal_xp2_coal/data/ext/MF_sampleid.txt: Aucun fichier ou dossier de ce type\n",
      "\n"
     ]
    },
    {
     "name": "stdout",
     "output_type": "stream",
     "text": [
      "TrimmomaticPE: Started with arguments:\n",
      " /home/srhuet/projets/Biscal_xp2_coal/data/ext/raw/samples/120_S147_R1_001.fastq.gz /home/srhuet/projets/Biscal_xp2_coal/data/ext/raw/samples/120_S147_R2_001.fastq.gz /home/srhuet/projets/Biscal_xp2_coal/data/tmp/paired.d/120_S147_R1_001.paired.fastq.gz /home/srhuet/projets/Biscal_xp2_coal/data/tmp/paired.d/120_S147_R1_001.unpaired.fastq.gz /home/srhuet/projets/Biscal_xp2_coal/data/tmp/paired.d/120_S147_R2_001.paired.fastq.gz /home/srhuet/projets/Biscal_xp2_coal/data/tmp/paired.d/120_S147_R2_001.unpaired.fastq.gz MINLEN:36\n",
      "Quality encoding detected as phred33\n",
      "Input Read Pairs: 20324 Both Surviving: 15298 (75,27%) Forward Only Surviving: 44 (0,22%) Reverse Only Surviving: 97 (0,48%) Dropped: 4885 (24,04%)\n",
      "TrimmomaticPE: Completed successfully\n",
      "\n",
      "/bin/cat: /home/srhuet/projets/Biscal_xp2_coal/data/ext/MF_sampleid.txt: Aucun fichier ou dossier de ce type\n",
      "\n",
      "/bin/grep: /home/srhuet/projets/Biscal_xp2_coal/data/ext/MF_sampleid.txt: Aucun fichier ou dossier de ce type\n",
      "\n",
      "TrimmomaticPE: Started with arguments:\n",
      " /home/srhuet/projets/Biscal_xp2_coal/data/ext/raw/samples/121_S110_R1_001.fastq.gz /home/srhuet/projets/Biscal_xp2_coal/data/ext/raw/samples/121_S110_R2_001.fastq.gz /home/srhuet/projets/Biscal_xp2_coal/data/tmp/paired.d/121_S110_R1_001.paired.fastq.gz /home/srhuet/projets/Biscal_xp2_coal/data/tmp/paired.d/121_S110_R1_001.unpaired.fastq.gz /home/srhuet/projets/Biscal_xp2_coal/data/tmp/paired.d/121_S110_R2_001.paired.fastq.gz /home/srhuet/projets/Biscal_xp2_coal/data/tmp/paired.d/121_S110_R2_001.unpaired.fastq.gz MINLEN:36\n",
      "Quality encoding detected as phred33\n",
      "Input Read Pairs: 22383 Both Surviving: 16558 (73,98%) Forward Only Surviving: 63 (0,28%) Reverse Only Surviving: 117 (0,52%) Dropped: 5645 (25,22%)\n",
      "TrimmomaticPE: Completed successfully\n",
      "\n",
      "/bin/cat: /home/srhuet/projets/Biscal_xp2_coal/data/ext/MF_sampleid.txt: Aucun fichier ou dossier de ce type\n",
      "\n",
      "/bin/grep: /home/srhuet/projets/Biscal_xp2_coal/data/ext/MF_sampleid.txt: Aucun fichier ou dossier de ce type\n",
      "\n",
      "TrimmomaticPE: Started with arguments:\n",
      " /home/srhuet/projets/Biscal_xp2_coal/data/ext/raw/samples/122_S111_R1_001.fastq.gz /home/srhuet/projets/Biscal_xp2_coal/data/ext/raw/samples/122_S111_R2_001.fastq.gz /home/srhuet/projets/Biscal_xp2_coal/data/tmp/paired.d/122_S111_R1_001.paired.fastq.gz /home/srhuet/projets/Biscal_xp2_coal/data/tmp/paired.d/122_S111_R1_001.unpaired.fastq.gz /home/srhuet/projets/Biscal_xp2_coal/data/tmp/paired.d/122_S111_R2_001.paired.fastq.gz /home/srhuet/projets/Biscal_xp2_coal/data/tmp/paired.d/122_S111_R2_001.unpaired.fastq.gz MINLEN:36\n",
      "Quality encoding detected as phred33\n",
      "Input Read Pairs: 16815 Both Surviving: 12251 (72,86%) Forward Only Surviving: 46 (0,27%) Reverse Only Surviving: 112 (0,67%) Dropped: 4406 (26,20%)\n",
      "TrimmomaticPE: Completed successfully\n",
      "\n",
      "/bin/cat: /home/srhuet/projets/Biscal_xp2_coal/data/ext/MF_sampleid.txt: Aucun fichier ou dossier de ce type\n",
      "\n",
      "/bin/grep: /home/srhuet/projets/Biscal_xp2_coal/data/ext/MF_sampleid.txt: Aucun fichier ou dossier de ce type\n",
      "\n",
      "TrimmomaticPE: Started with arguments:\n",
      " /home/srhuet/projets/Biscal_xp2_coal/data/ext/raw/samples/123_S112_R1_001.fastq.gz /home/srhuet/projets/Biscal_xp2_coal/data/ext/raw/samples/123_S112_R2_001.fastq.gz /home/srhuet/projets/Biscal_xp2_coal/data/tmp/paired.d/123_S112_R1_001.paired.fastq.gz /home/srhuet/projets/Biscal_xp2_coal/data/tmp/paired.d/123_S112_R1_001.unpaired.fastq.gz /home/srhuet/projets/Biscal_xp2_coal/data/tmp/paired.d/123_S112_R2_001.paired.fastq.gz /home/srhuet/projets/Biscal_xp2_coal/data/tmp/paired.d/123_S112_R2_001.unpaired.fastq.gz MINLEN:36\n",
      "Quality encoding detected as phred33\n",
      "Input Read Pairs: 19623 Both Surviving: 14623 (74,52%) Forward Only Surviving: 49 (0,25%) Reverse Only Surviving: 134 (0,68%) Dropped: 4817 (24,55%)\n",
      "TrimmomaticPE: Completed successfully\n",
      "\n",
      "/bin/cat: /home/srhuet/projets/Biscal_xp2_coal/data/ext/MF_sampleid.txt: Aucun fichier ou dossier de ce type\n",
      "\n",
      "/bin/grep: /home/srhuet/projets/Biscal_xp2_coal/data/ext/MF_sampleid.txt: Aucun fichier ou dossier de ce type\n",
      "\n",
      "TrimmomaticPE: Started with arguments:\n",
      " /home/srhuet/projets/Biscal_xp2_coal/data/ext/raw/samples/124_S113_R1_001.fastq.gz /home/srhuet/projets/Biscal_xp2_coal/data/ext/raw/samples/124_S113_R2_001.fastq.gz /home/srhuet/projets/Biscal_xp2_coal/data/tmp/paired.d/124_S113_R1_001.paired.fastq.gz /home/srhuet/projets/Biscal_xp2_coal/data/tmp/paired.d/124_S113_R1_001.unpaired.fastq.gz /home/srhuet/projets/Biscal_xp2_coal/data/tmp/paired.d/124_S113_R2_001.paired.fastq.gz /home/srhuet/projets/Biscal_xp2_coal/data/tmp/paired.d/124_S113_R2_001.unpaired.fastq.gz MINLEN:36\n",
      "Quality encoding detected as phred33\n",
      "Input Read Pairs: 18390 Both Surviving: 13604 (73,97%) Forward Only Surviving: 47 (0,26%) Reverse Only Surviving: 88 (0,48%) Dropped: 4651 (25,29%)\n",
      "TrimmomaticPE: Completed successfully\n",
      "\n",
      "/bin/cat: /home/srhuet/projets/Biscal_xp2_coal/data/ext/MF_sampleid.txt: Aucun fichier ou dossier de ce type\n",
      "\n",
      "/bin/grep: /home/srhuet/projets/Biscal_xp2_coal/data/ext/MF_sampleid.txt: Aucun fichier ou dossier de ce type\n",
      "\n",
      "TrimmomaticPE: Started with arguments:\n",
      " /home/srhuet/projets/Biscal_xp2_coal/data/ext/raw/samples/125_S114_R1_001.fastq.gz /home/srhuet/projets/Biscal_xp2_coal/data/ext/raw/samples/125_S114_R2_001.fastq.gz /home/srhuet/projets/Biscal_xp2_coal/data/tmp/paired.d/125_S114_R1_001.paired.fastq.gz /home/srhuet/projets/Biscal_xp2_coal/data/tmp/paired.d/125_S114_R1_001.unpaired.fastq.gz /home/srhuet/projets/Biscal_xp2_coal/data/tmp/paired.d/125_S114_R2_001.paired.fastq.gz /home/srhuet/projets/Biscal_xp2_coal/data/tmp/paired.d/125_S114_R2_001.unpaired.fastq.gz MINLEN:36\n",
      "Quality encoding detected as phred33\n",
      "Input Read Pairs: 16256 Both Surviving: 11824 (72,74%) Forward Only Surviving: 39 (0,24%) Reverse Only Surviving: 105 (0,65%) Dropped: 4288 (26,38%)\n",
      "TrimmomaticPE: Completed successfully\n",
      "\n",
      "/bin/cat: /home/srhuet/projets/Biscal_xp2_coal/data/ext/MF_sampleid.txt: Aucun fichier ou dossier de ce type\n",
      "\n",
      "/bin/grep: /home/srhuet/projets/Biscal_xp2_coal/data/ext/MF_sampleid.txt: Aucun fichier ou dossier de ce type\n",
      "\n",
      "TrimmomaticPE: Started with arguments:\n",
      " /home/srhuet/projets/Biscal_xp2_coal/data/ext/raw/samples/126_S115_R1_001.fastq.gz /home/srhuet/projets/Biscal_xp2_coal/data/ext/raw/samples/126_S115_R2_001.fastq.gz /home/srhuet/projets/Biscal_xp2_coal/data/tmp/paired.d/126_S115_R1_001.paired.fastq.gz /home/srhuet/projets/Biscal_xp2_coal/data/tmp/paired.d/126_S115_R1_001.unpaired.fastq.gz /home/srhuet/projets/Biscal_xp2_coal/data/tmp/paired.d/126_S115_R2_001.paired.fastq.gz /home/srhuet/projets/Biscal_xp2_coal/data/tmp/paired.d/126_S115_R2_001.unpaired.fastq.gz MINLEN:36\n",
      "Quality encoding detected as phred33\n",
      "Input Read Pairs: 17956 Both Surviving: 13087 (72,88%) Forward Only Surviving: 43 (0,24%) Reverse Only Surviving: 116 (0,65%) Dropped: 4710 (26,23%)\n",
      "TrimmomaticPE: Completed successfully\n",
      "\n",
      "/bin/cat: /home/srhuet/projets/Biscal_xp2_coal/data/ext/MF_sampleid.txt: Aucun fichier ou dossier de ce type\n",
      "\n",
      "/bin/grep: /home/srhuet/projets/Biscal_xp2_coal/data/ext/MF_sampleid.txt: Aucun fichier ou dossier de ce type\n",
      "\n",
      "TrimmomaticPE: Started with arguments:\n",
      " /home/srhuet/projets/Biscal_xp2_coal/data/ext/raw/samples/127_S148_R1_001.fastq.gz /home/srhuet/projets/Biscal_xp2_coal/data/ext/raw/samples/127_S148_R2_001.fastq.gz /home/srhuet/projets/Biscal_xp2_coal/data/tmp/paired.d/127_S148_R1_001.paired.fastq.gz /home/srhuet/projets/Biscal_xp2_coal/data/tmp/paired.d/127_S148_R1_001.unpaired.fastq.gz /home/srhuet/projets/Biscal_xp2_coal/data/tmp/paired.d/127_S148_R2_001.paired.fastq.gz /home/srhuet/projets/Biscal_xp2_coal/data/tmp/paired.d/127_S148_R2_001.unpaired.fastq.gz MINLEN:36\n",
      "Quality encoding detected as phred33\n",
      "Input Read Pairs: 16807 Both Surviving: 12402 (73,79%) Forward Only Surviving: 38 (0,23%) Reverse Only Surviving: 93 (0,55%) Dropped: 4274 (25,43%)\n",
      "TrimmomaticPE: Completed successfully\n",
      "\n",
      "/bin/cat: /home/srhuet/projets/Biscal_xp2_coal/data/ext/MF_sampleid.txt: Aucun fichier ou dossier de ce type\n",
      "\n",
      "/bin/grep: /home/srhuet/projets/Biscal_xp2_coal/data/ext/MF_sampleid.txt: Aucun fichier ou dossier de ce type\n",
      "\n",
      "TrimmomaticPE: Started with arguments:\n",
      " /home/srhuet/projets/Biscal_xp2_coal/data/ext/raw/samples/128_S149_R1_001.fastq.gz /home/srhuet/projets/Biscal_xp2_coal/data/ext/raw/samples/128_S149_R2_001.fastq.gz /home/srhuet/projets/Biscal_xp2_coal/data/tmp/paired.d/128_S149_R1_001.paired.fastq.gz /home/srhuet/projets/Biscal_xp2_coal/data/tmp/paired.d/128_S149_R1_001.unpaired.fastq.gz /home/srhuet/projets/Biscal_xp2_coal/data/tmp/paired.d/128_S149_R2_001.paired.fastq.gz /home/srhuet/projets/Biscal_xp2_coal/data/tmp/paired.d/128_S149_R2_001.unpaired.fastq.gz MINLEN:36\n",
      "Quality encoding detected as phred33\n",
      "Input Read Pairs: 20841 Both Surviving: 15787 (75,75%) Forward Only Surviving: 54 (0,26%) Reverse Only Surviving: 117 (0,56%) Dropped: 4883 (23,43%)\n",
      "TrimmomaticPE: Completed successfully\n",
      "\n"
     ]
    },
    {
     "name": "stdout",
     "output_type": "stream",
     "text": [
      "/bin/cat: /home/srhuet/projets/Biscal_xp2_coal/data/ext/MF_sampleid.txt: Aucun fichier ou dossier de ce type\n",
      "\n",
      "/bin/grep: /home/srhuet/projets/Biscal_xp2_coal/data/ext/MF_sampleid.txt: Aucun fichier ou dossier de ce type\n",
      "\n",
      "TrimmomaticPE: Started with arguments:\n",
      " /home/srhuet/projets/Biscal_xp2_coal/data/ext/raw/samples/129_S150_R1_001.fastq.gz /home/srhuet/projets/Biscal_xp2_coal/data/ext/raw/samples/129_S150_R2_001.fastq.gz /home/srhuet/projets/Biscal_xp2_coal/data/tmp/paired.d/129_S150_R1_001.paired.fastq.gz /home/srhuet/projets/Biscal_xp2_coal/data/tmp/paired.d/129_S150_R1_001.unpaired.fastq.gz /home/srhuet/projets/Biscal_xp2_coal/data/tmp/paired.d/129_S150_R2_001.paired.fastq.gz /home/srhuet/projets/Biscal_xp2_coal/data/tmp/paired.d/129_S150_R2_001.unpaired.fastq.gz MINLEN:36\n",
      "Quality encoding detected as phred33\n",
      "Input Read Pairs: 13556 Both Surviving: 9933 (73,27%) Forward Only Surviving: 37 (0,27%) Reverse Only Surviving: 55 (0,41%) Dropped: 3531 (26,05%)\n",
      "TrimmomaticPE: Completed successfully\n",
      "\n",
      "/bin/cat: /home/srhuet/projets/Biscal_xp2_coal/data/ext/MF_sampleid.txt: Aucun fichier ou dossier de ce type\n",
      "\n",
      "/bin/grep: /home/srhuet/projets/Biscal_xp2_coal/data/ext/MF_sampleid.txt: Aucun fichier ou dossier de ce type\n",
      "\n",
      "TrimmomaticPE: Started with arguments:\n",
      " /home/srhuet/projets/Biscal_xp2_coal/data/ext/raw/samples/130_S151_R1_001.fastq.gz /home/srhuet/projets/Biscal_xp2_coal/data/ext/raw/samples/130_S151_R2_001.fastq.gz /home/srhuet/projets/Biscal_xp2_coal/data/tmp/paired.d/130_S151_R1_001.paired.fastq.gz /home/srhuet/projets/Biscal_xp2_coal/data/tmp/paired.d/130_S151_R1_001.unpaired.fastq.gz /home/srhuet/projets/Biscal_xp2_coal/data/tmp/paired.d/130_S151_R2_001.paired.fastq.gz /home/srhuet/projets/Biscal_xp2_coal/data/tmp/paired.d/130_S151_R2_001.unpaired.fastq.gz MINLEN:36\n",
      "Quality encoding detected as phred33\n",
      "Input Read Pairs: 23057 Both Surviving: 17707 (76,80%) Forward Only Surviving: 51 (0,22%) Reverse Only Surviving: 141 (0,61%) Dropped: 5158 (22,37%)\n",
      "TrimmomaticPE: Completed successfully\n",
      "\n",
      "/bin/cat: /home/srhuet/projets/Biscal_xp2_coal/data/ext/MF_sampleid.txt: Aucun fichier ou dossier de ce type\n",
      "\n",
      "/bin/grep: /home/srhuet/projets/Biscal_xp2_coal/data/ext/MF_sampleid.txt: Aucun fichier ou dossier de ce type\n",
      "\n",
      "TrimmomaticPE: Started with arguments:\n",
      " /home/srhuet/projets/Biscal_xp2_coal/data/ext/raw/samples/131_S116_R1_001.fastq.gz /home/srhuet/projets/Biscal_xp2_coal/data/ext/raw/samples/131_S116_R2_001.fastq.gz /home/srhuet/projets/Biscal_xp2_coal/data/tmp/paired.d/131_S116_R1_001.paired.fastq.gz /home/srhuet/projets/Biscal_xp2_coal/data/tmp/paired.d/131_S116_R1_001.unpaired.fastq.gz /home/srhuet/projets/Biscal_xp2_coal/data/tmp/paired.d/131_S116_R2_001.paired.fastq.gz /home/srhuet/projets/Biscal_xp2_coal/data/tmp/paired.d/131_S116_R2_001.unpaired.fastq.gz MINLEN:36\n",
      "Quality encoding detected as phred33\n",
      "Input Read Pairs: 17175 Both Surviving: 12996 (75,67%) Forward Only Surviving: 34 (0,20%) Reverse Only Surviving: 106 (0,62%) Dropped: 4039 (23,52%)\n",
      "TrimmomaticPE: Completed successfully\n",
      "\n",
      "/bin/cat: /home/srhuet/projets/Biscal_xp2_coal/data/ext/MF_sampleid.txt: Aucun fichier ou dossier de ce type\n",
      "\n",
      "/bin/grep: /home/srhuet/projets/Biscal_xp2_coal/data/ext/MF_sampleid.txt: Aucun fichier ou dossier de ce type\n",
      "\n",
      "TrimmomaticPE: Started with arguments:\n",
      " /home/srhuet/projets/Biscal_xp2_coal/data/ext/raw/samples/132_S117_R1_001.fastq.gz /home/srhuet/projets/Biscal_xp2_coal/data/ext/raw/samples/132_S117_R2_001.fastq.gz /home/srhuet/projets/Biscal_xp2_coal/data/tmp/paired.d/132_S117_R1_001.paired.fastq.gz /home/srhuet/projets/Biscal_xp2_coal/data/tmp/paired.d/132_S117_R1_001.unpaired.fastq.gz /home/srhuet/projets/Biscal_xp2_coal/data/tmp/paired.d/132_S117_R2_001.paired.fastq.gz /home/srhuet/projets/Biscal_xp2_coal/data/tmp/paired.d/132_S117_R2_001.unpaired.fastq.gz MINLEN:36\n",
      "Quality encoding detected as phred33\n",
      "Input Read Pairs: 17854 Both Surviving: 12806 (71,73%) Forward Only Surviving: 57 (0,32%) Reverse Only Surviving: 125 (0,70%) Dropped: 4866 (27,25%)\n",
      "TrimmomaticPE: Completed successfully\n",
      "\n",
      "/bin/cat: /home/srhuet/projets/Biscal_xp2_coal/data/ext/MF_sampleid.txt: Aucun fichier ou dossier de ce type\n",
      "\n",
      "/bin/grep: /home/srhuet/projets/Biscal_xp2_coal/data/ext/MF_sampleid.txt: Aucun fichier ou dossier de ce type\n",
      "\n",
      "TrimmomaticPE: Started with arguments:\n",
      " /home/srhuet/projets/Biscal_xp2_coal/data/ext/raw/samples/133_S118_R1_001.fastq.gz /home/srhuet/projets/Biscal_xp2_coal/data/ext/raw/samples/133_S118_R2_001.fastq.gz /home/srhuet/projets/Biscal_xp2_coal/data/tmp/paired.d/133_S118_R1_001.paired.fastq.gz /home/srhuet/projets/Biscal_xp2_coal/data/tmp/paired.d/133_S118_R1_001.unpaired.fastq.gz /home/srhuet/projets/Biscal_xp2_coal/data/tmp/paired.d/133_S118_R2_001.paired.fastq.gz /home/srhuet/projets/Biscal_xp2_coal/data/tmp/paired.d/133_S118_R2_001.unpaired.fastq.gz MINLEN:36\n",
      "Quality encoding detected as phred33\n",
      "Input Read Pairs: 18172 Both Surviving: 14050 (77,32%) Forward Only Surviving: 39 (0,21%) Reverse Only Surviving: 97 (0,53%) Dropped: 3986 (21,93%)\n",
      "TrimmomaticPE: Completed successfully\n",
      "\n",
      "/bin/cat: /home/srhuet/projets/Biscal_xp2_coal/data/ext/MF_sampleid.txt: Aucun fichier ou dossier de ce type\n",
      "\n",
      "/bin/grep: /home/srhuet/projets/Biscal_xp2_coal/data/ext/MF_sampleid.txt: Aucun fichier ou dossier de ce type\n",
      "\n",
      "TrimmomaticPE: Started with arguments:\n",
      " /home/srhuet/projets/Biscal_xp2_coal/data/ext/raw/samples/134_S119_R1_001.fastq.gz /home/srhuet/projets/Biscal_xp2_coal/data/ext/raw/samples/134_S119_R2_001.fastq.gz /home/srhuet/projets/Biscal_xp2_coal/data/tmp/paired.d/134_S119_R1_001.paired.fastq.gz /home/srhuet/projets/Biscal_xp2_coal/data/tmp/paired.d/134_S119_R1_001.unpaired.fastq.gz /home/srhuet/projets/Biscal_xp2_coal/data/tmp/paired.d/134_S119_R2_001.paired.fastq.gz /home/srhuet/projets/Biscal_xp2_coal/data/tmp/paired.d/134_S119_R2_001.unpaired.fastq.gz MINLEN:36\n",
      "Quality encoding detected as phred33\n",
      "Input Read Pairs: 16485 Both Surviving: 12172 (73,84%) Forward Only Surviving: 48 (0,29%) Reverse Only Surviving: 100 (0,61%) Dropped: 4165 (25,27%)\n",
      "TrimmomaticPE: Completed successfully\n",
      "\n",
      "/bin/cat: /home/srhuet/projets/Biscal_xp2_coal/data/ext/MF_sampleid.txt: Aucun fichier ou dossier de ce type\n",
      "\n",
      "/bin/grep: /home/srhuet/projets/Biscal_xp2_coal/data/ext/MF_sampleid.txt: Aucun fichier ou dossier de ce type\n",
      "\n",
      "TrimmomaticPE: Started with arguments:\n",
      " /home/srhuet/projets/Biscal_xp2_coal/data/ext/raw/samples/135_S120_R1_001.fastq.gz /home/srhuet/projets/Biscal_xp2_coal/data/ext/raw/samples/135_S120_R2_001.fastq.gz /home/srhuet/projets/Biscal_xp2_coal/data/tmp/paired.d/135_S120_R1_001.paired.fastq.gz /home/srhuet/projets/Biscal_xp2_coal/data/tmp/paired.d/135_S120_R1_001.unpaired.fastq.gz /home/srhuet/projets/Biscal_xp2_coal/data/tmp/paired.d/135_S120_R2_001.paired.fastq.gz /home/srhuet/projets/Biscal_xp2_coal/data/tmp/paired.d/135_S120_R2_001.unpaired.fastq.gz MINLEN:36\n",
      "Quality encoding detected as phred33\n",
      "Input Read Pairs: 14254 Both Surviving: 10903 (76,49%) Forward Only Surviving: 40 (0,28%) Reverse Only Surviving: 80 (0,56%) Dropped: 3231 (22,67%)\n",
      "TrimmomaticPE: Completed successfully\n",
      "\n",
      "/bin/cat: /home/srhuet/projets/Biscal_xp2_coal/data/ext/MF_sampleid.txt: Aucun fichier ou dossier de ce type\n",
      "\n",
      "/bin/grep: /home/srhuet/projets/Biscal_xp2_coal/data/ext/MF_sampleid.txt: Aucun fichier ou dossier de ce type\n",
      "\n",
      "TrimmomaticPE: Started with arguments:\n",
      " /home/srhuet/projets/Biscal_xp2_coal/data/ext/raw/samples/136_S121_R1_001.fastq.gz /home/srhuet/projets/Biscal_xp2_coal/data/ext/raw/samples/136_S121_R2_001.fastq.gz /home/srhuet/projets/Biscal_xp2_coal/data/tmp/paired.d/136_S121_R1_001.paired.fastq.gz /home/srhuet/projets/Biscal_xp2_coal/data/tmp/paired.d/136_S121_R1_001.unpaired.fastq.gz /home/srhuet/projets/Biscal_xp2_coal/data/tmp/paired.d/136_S121_R2_001.paired.fastq.gz /home/srhuet/projets/Biscal_xp2_coal/data/tmp/paired.d/136_S121_R2_001.unpaired.fastq.gz MINLEN:36\n",
      "Quality encoding detected as phred33\n",
      "Input Read Pairs: 17298 Both Surviving: 12203 (70,55%) Forward Only Surviving: 48 (0,28%) Reverse Only Surviving: 104 (0,60%) Dropped: 4943 (28,58%)\n",
      "TrimmomaticPE: Completed successfully\n",
      "\n",
      "/bin/cat: /home/srhuet/projets/Biscal_xp2_coal/data/ext/MF_sampleid.txt: Aucun fichier ou dossier de ce type\n",
      "\n",
      "/bin/grep: /home/srhuet/projets/Biscal_xp2_coal/data/ext/MF_sampleid.txt: Aucun fichier ou dossier de ce type\n",
      "\n"
     ]
    },
    {
     "name": "stdout",
     "output_type": "stream",
     "text": [
      "TrimmomaticPE: Started with arguments:\n",
      " /home/srhuet/projets/Biscal_xp2_coal/data/ext/raw/samples/137_S152_R1_001.fastq.gz /home/srhuet/projets/Biscal_xp2_coal/data/ext/raw/samples/137_S152_R2_001.fastq.gz /home/srhuet/projets/Biscal_xp2_coal/data/tmp/paired.d/137_S152_R1_001.paired.fastq.gz /home/srhuet/projets/Biscal_xp2_coal/data/tmp/paired.d/137_S152_R1_001.unpaired.fastq.gz /home/srhuet/projets/Biscal_xp2_coal/data/tmp/paired.d/137_S152_R2_001.paired.fastq.gz /home/srhuet/projets/Biscal_xp2_coal/data/tmp/paired.d/137_S152_R2_001.unpaired.fastq.gz MINLEN:36\n",
      "Quality encoding detected as phred33\n",
      "Input Read Pairs: 16435 Both Surviving: 11869 (72,22%) Forward Only Surviving: 62 (0,38%) Reverse Only Surviving: 105 (0,64%) Dropped: 4399 (26,77%)\n",
      "TrimmomaticPE: Completed successfully\n",
      "\n",
      "/bin/cat: /home/srhuet/projets/Biscal_xp2_coal/data/ext/MF_sampleid.txt: Aucun fichier ou dossier de ce type\n",
      "\n",
      "/bin/grep: /home/srhuet/projets/Biscal_xp2_coal/data/ext/MF_sampleid.txt: Aucun fichier ou dossier de ce type\n",
      "\n",
      "TrimmomaticPE: Started with arguments:\n",
      " /home/srhuet/projets/Biscal_xp2_coal/data/ext/raw/samples/138_S153_R1_001.fastq.gz /home/srhuet/projets/Biscal_xp2_coal/data/ext/raw/samples/138_S153_R2_001.fastq.gz /home/srhuet/projets/Biscal_xp2_coal/data/tmp/paired.d/138_S153_R1_001.paired.fastq.gz /home/srhuet/projets/Biscal_xp2_coal/data/tmp/paired.d/138_S153_R1_001.unpaired.fastq.gz /home/srhuet/projets/Biscal_xp2_coal/data/tmp/paired.d/138_S153_R2_001.paired.fastq.gz /home/srhuet/projets/Biscal_xp2_coal/data/tmp/paired.d/138_S153_R2_001.unpaired.fastq.gz MINLEN:36\n",
      "Quality encoding detected as phred33\n",
      "Input Read Pairs: 16994 Both Surviving: 12261 (72,15%) Forward Only Surviving: 48 (0,28%) Reverse Only Surviving: 89 (0,52%) Dropped: 4596 (27,04%)\n",
      "TrimmomaticPE: Completed successfully\n",
      "\n",
      "/bin/cat: /home/srhuet/projets/Biscal_xp2_coal/data/ext/MF_sampleid.txt: Aucun fichier ou dossier de ce type\n",
      "\n",
      "/bin/grep: /home/srhuet/projets/Biscal_xp2_coal/data/ext/MF_sampleid.txt: Aucun fichier ou dossier de ce type\n",
      "\n",
      "TrimmomaticPE: Started with arguments:\n",
      " /home/srhuet/projets/Biscal_xp2_coal/data/ext/raw/samples/139_S154_R1_001.fastq.gz /home/srhuet/projets/Biscal_xp2_coal/data/ext/raw/samples/139_S154_R2_001.fastq.gz /home/srhuet/projets/Biscal_xp2_coal/data/tmp/paired.d/139_S154_R1_001.paired.fastq.gz /home/srhuet/projets/Biscal_xp2_coal/data/tmp/paired.d/139_S154_R1_001.unpaired.fastq.gz /home/srhuet/projets/Biscal_xp2_coal/data/tmp/paired.d/139_S154_R2_001.paired.fastq.gz /home/srhuet/projets/Biscal_xp2_coal/data/tmp/paired.d/139_S154_R2_001.unpaired.fastq.gz MINLEN:36\n",
      "Quality encoding detected as phred33\n",
      "Input Read Pairs: 19835 Both Surviving: 14695 (74,09%) Forward Only Surviving: 53 (0,27%) Reverse Only Surviving: 119 (0,60%) Dropped: 4968 (25,05%)\n",
      "TrimmomaticPE: Completed successfully\n",
      "\n",
      "/bin/cat: /home/srhuet/projets/Biscal_xp2_coal/data/ext/MF_sampleid.txt: Aucun fichier ou dossier de ce type\n",
      "\n",
      "/bin/grep: /home/srhuet/projets/Biscal_xp2_coal/data/ext/MF_sampleid.txt: Aucun fichier ou dossier de ce type\n",
      "\n",
      "TrimmomaticPE: Started with arguments:\n",
      " /home/srhuet/projets/Biscal_xp2_coal/data/ext/raw/samples/140_S155_R1_001.fastq.gz /home/srhuet/projets/Biscal_xp2_coal/data/ext/raw/samples/140_S155_R2_001.fastq.gz /home/srhuet/projets/Biscal_xp2_coal/data/tmp/paired.d/140_S155_R1_001.paired.fastq.gz /home/srhuet/projets/Biscal_xp2_coal/data/tmp/paired.d/140_S155_R1_001.unpaired.fastq.gz /home/srhuet/projets/Biscal_xp2_coal/data/tmp/paired.d/140_S155_R2_001.paired.fastq.gz /home/srhuet/projets/Biscal_xp2_coal/data/tmp/paired.d/140_S155_R2_001.unpaired.fastq.gz MINLEN:36\n",
      "Quality encoding detected as phred33\n",
      "Input Read Pairs: 24627 Both Surviving: 18769 (76,21%) Forward Only Surviving: 61 (0,25%) Reverse Only Surviving: 122 (0,50%) Dropped: 5675 (23,04%)\n",
      "TrimmomaticPE: Completed successfully\n",
      "\n",
      "/bin/cat: /home/srhuet/projets/Biscal_xp2_coal/data/ext/MF_sampleid.txt: Aucun fichier ou dossier de ce type\n",
      "\n",
      "/bin/grep: /home/srhuet/projets/Biscal_xp2_coal/data/ext/MF_sampleid.txt: Aucun fichier ou dossier de ce type\n",
      "\n",
      "TrimmomaticPE: Started with arguments:\n",
      " /home/srhuet/projets/Biscal_xp2_coal/data/ext/raw/samples/141_S43_R1_001.fastq.gz /home/srhuet/projets/Biscal_xp2_coal/data/ext/raw/samples/141_S43_R2_001.fastq.gz /home/srhuet/projets/Biscal_xp2_coal/data/tmp/paired.d/141_S43_R1_001.paired.fastq.gz /home/srhuet/projets/Biscal_xp2_coal/data/tmp/paired.d/141_S43_R1_001.unpaired.fastq.gz /home/srhuet/projets/Biscal_xp2_coal/data/tmp/paired.d/141_S43_R2_001.paired.fastq.gz /home/srhuet/projets/Biscal_xp2_coal/data/tmp/paired.d/141_S43_R2_001.unpaired.fastq.gz MINLEN:36\n",
      "Quality encoding detected as phred33\n",
      "Input Read Pairs: 24810 Both Surviving: 16277 (65,61%) Forward Only Surviving: 109 (0,44%) Reverse Only Surviving: 226 (0,91%) Dropped: 8198 (33,04%)\n",
      "TrimmomaticPE: Completed successfully\n",
      "\n",
      "/bin/cat: /home/srhuet/projets/Biscal_xp2_coal/data/ext/MF_sampleid.txt: Aucun fichier ou dossier de ce type\n",
      "\n",
      "/bin/grep: /home/srhuet/projets/Biscal_xp2_coal/data/ext/MF_sampleid.txt: Aucun fichier ou dossier de ce type\n",
      "\n",
      "TrimmomaticPE: Started with arguments:\n",
      " /home/srhuet/projets/Biscal_xp2_coal/data/ext/raw/samples/142_S44_R1_001.fastq.gz /home/srhuet/projets/Biscal_xp2_coal/data/ext/raw/samples/142_S44_R2_001.fastq.gz /home/srhuet/projets/Biscal_xp2_coal/data/tmp/paired.d/142_S44_R1_001.paired.fastq.gz /home/srhuet/projets/Biscal_xp2_coal/data/tmp/paired.d/142_S44_R1_001.unpaired.fastq.gz /home/srhuet/projets/Biscal_xp2_coal/data/tmp/paired.d/142_S44_R2_001.paired.fastq.gz /home/srhuet/projets/Biscal_xp2_coal/data/tmp/paired.d/142_S44_R2_001.unpaired.fastq.gz MINLEN:36\n",
      "Quality encoding detected as phred33\n",
      "Input Read Pairs: 24157 Both Surviving: 17169 (71,07%) Forward Only Surviving: 77 (0,32%) Reverse Only Surviving: 165 (0,68%) Dropped: 6746 (27,93%)\n",
      "TrimmomaticPE: Completed successfully\n",
      "\n",
      "/bin/cat: /home/srhuet/projets/Biscal_xp2_coal/data/ext/MF_sampleid.txt: Aucun fichier ou dossier de ce type\n",
      "\n",
      "/bin/grep: /home/srhuet/projets/Biscal_xp2_coal/data/ext/MF_sampleid.txt: Aucun fichier ou dossier de ce type\n",
      "\n",
      "TrimmomaticPE: Started with arguments:\n",
      " /home/srhuet/projets/Biscal_xp2_coal/data/ext/raw/samples/143_S45_R1_001.fastq.gz /home/srhuet/projets/Biscal_xp2_coal/data/ext/raw/samples/143_S45_R2_001.fastq.gz /home/srhuet/projets/Biscal_xp2_coal/data/tmp/paired.d/143_S45_R1_001.paired.fastq.gz /home/srhuet/projets/Biscal_xp2_coal/data/tmp/paired.d/143_S45_R1_001.unpaired.fastq.gz /home/srhuet/projets/Biscal_xp2_coal/data/tmp/paired.d/143_S45_R2_001.paired.fastq.gz /home/srhuet/projets/Biscal_xp2_coal/data/tmp/paired.d/143_S45_R2_001.unpaired.fastq.gz MINLEN:36\n",
      "Quality encoding detected as phred33\n",
      "Input Read Pairs: 28000 Both Surviving: 20339 (72,64%) Forward Only Surviving: 83 (0,30%) Reverse Only Surviving: 167 (0,60%) Dropped: 7411 (26,47%)\n",
      "TrimmomaticPE: Completed successfully\n",
      "\n",
      "/bin/cat: /home/srhuet/projets/Biscal_xp2_coal/data/ext/MF_sampleid.txt: Aucun fichier ou dossier de ce type\n",
      "\n",
      "/bin/grep: /home/srhuet/projets/Biscal_xp2_coal/data/ext/MF_sampleid.txt: Aucun fichier ou dossier de ce type\n",
      "\n",
      "TrimmomaticPE: Started with arguments:\n",
      " /home/srhuet/projets/Biscal_xp2_coal/data/ext/raw/samples/180_S46_R1_001.fastq.gz /home/srhuet/projets/Biscal_xp2_coal/data/ext/raw/samples/180_S46_R2_001.fastq.gz /home/srhuet/projets/Biscal_xp2_coal/data/tmp/paired.d/180_S46_R1_001.paired.fastq.gz /home/srhuet/projets/Biscal_xp2_coal/data/tmp/paired.d/180_S46_R1_001.unpaired.fastq.gz /home/srhuet/projets/Biscal_xp2_coal/data/tmp/paired.d/180_S46_R2_001.paired.fastq.gz /home/srhuet/projets/Biscal_xp2_coal/data/tmp/paired.d/180_S46_R2_001.unpaired.fastq.gz MINLEN:36\n",
      "Quality encoding detected as phred33\n",
      "Input Read Pairs: 21898 Both Surviving: 18166 (82,96%) Forward Only Surviving: 40 (0,18%) Reverse Only Surviving: 83 (0,38%) Dropped: 3609 (16,48%)\n",
      "TrimmomaticPE: Completed successfully\n",
      "\n",
      "/bin/cat: /home/srhuet/projets/Biscal_xp2_coal/data/ext/MF_sampleid.txt: Aucun fichier ou dossier de ce type\n",
      "\n",
      "/bin/grep: /home/srhuet/projets/Biscal_xp2_coal/data/ext/MF_sampleid.txt: Aucun fichier ou dossier de ce type\n",
      "\n",
      "TrimmomaticPE: Started with arguments:\n",
      " /home/srhuet/projets/Biscal_xp2_coal/data/ext/raw/samples/181_S47_R1_001.fastq.gz /home/srhuet/projets/Biscal_xp2_coal/data/ext/raw/samples/181_S47_R2_001.fastq.gz /home/srhuet/projets/Biscal_xp2_coal/data/tmp/paired.d/181_S47_R1_001.paired.fastq.gz /home/srhuet/projets/Biscal_xp2_coal/data/tmp/paired.d/181_S47_R1_001.unpaired.fastq.gz /home/srhuet/projets/Biscal_xp2_coal/data/tmp/paired.d/181_S47_R2_001.paired.fastq.gz /home/srhuet/projets/Biscal_xp2_coal/data/tmp/paired.d/181_S47_R2_001.unpaired.fastq.gz MINLEN:36\n",
      "Quality encoding detected as phred33\n",
      "Input Read Pairs: 25449 Both Surviving: 21784 (85,60%) Forward Only Surviving: 39 (0,15%) Reverse Only Surviving: 69 (0,27%) Dropped: 3557 (13,98%)\n",
      "TrimmomaticPE: Completed successfully\n",
      "\n"
     ]
    },
    {
     "name": "stdout",
     "output_type": "stream",
     "text": [
      "/bin/cat: /home/srhuet/projets/Biscal_xp2_coal/data/ext/MF_sampleid.txt: Aucun fichier ou dossier de ce type\n",
      "\n",
      "/bin/grep: /home/srhuet/projets/Biscal_xp2_coal/data/ext/MF_sampleid.txt: Aucun fichier ou dossier de ce type\n",
      "\n",
      "TrimmomaticPE: Started with arguments:\n",
      " /home/srhuet/projets/Biscal_xp2_coal/data/ext/raw/samples/182_S48_R1_001.fastq.gz /home/srhuet/projets/Biscal_xp2_coal/data/ext/raw/samples/182_S48_R2_001.fastq.gz /home/srhuet/projets/Biscal_xp2_coal/data/tmp/paired.d/182_S48_R1_001.paired.fastq.gz /home/srhuet/projets/Biscal_xp2_coal/data/tmp/paired.d/182_S48_R1_001.unpaired.fastq.gz /home/srhuet/projets/Biscal_xp2_coal/data/tmp/paired.d/182_S48_R2_001.paired.fastq.gz /home/srhuet/projets/Biscal_xp2_coal/data/tmp/paired.d/182_S48_R2_001.unpaired.fastq.gz MINLEN:36\n",
      "Quality encoding detected as phred33\n",
      "Input Read Pairs: 26484 Both Surviving: 22231 (83,94%) Forward Only Surviving: 35 (0,13%) Reverse Only Surviving: 90 (0,34%) Dropped: 4128 (15,59%)\n",
      "TrimmomaticPE: Completed successfully\n",
      "\n",
      "/bin/cat: /home/srhuet/projets/Biscal_xp2_coal/data/ext/MF_sampleid.txt: Aucun fichier ou dossier de ce type\n",
      "\n",
      "/bin/grep: /home/srhuet/projets/Biscal_xp2_coal/data/ext/MF_sampleid.txt: Aucun fichier ou dossier de ce type\n",
      "\n",
      "TrimmomaticPE: Started with arguments:\n",
      " /home/srhuet/projets/Biscal_xp2_coal/data/ext/raw/samples/183_S77_R1_001.fastq.gz /home/srhuet/projets/Biscal_xp2_coal/data/ext/raw/samples/183_S77_R2_001.fastq.gz /home/srhuet/projets/Biscal_xp2_coal/data/tmp/paired.d/183_S77_R1_001.paired.fastq.gz /home/srhuet/projets/Biscal_xp2_coal/data/tmp/paired.d/183_S77_R1_001.unpaired.fastq.gz /home/srhuet/projets/Biscal_xp2_coal/data/tmp/paired.d/183_S77_R2_001.paired.fastq.gz /home/srhuet/projets/Biscal_xp2_coal/data/tmp/paired.d/183_S77_R2_001.unpaired.fastq.gz MINLEN:36\n",
      "Quality encoding detected as phred33\n",
      "Input Read Pairs: 24421 Both Surviving: 19303 (79,04%) Forward Only Surviving: 47 (0,19%) Reverse Only Surviving: 97 (0,40%) Dropped: 4974 (20,37%)\n",
      "TrimmomaticPE: Completed successfully\n",
      "\n",
      "/bin/cat: /home/srhuet/projets/Biscal_xp2_coal/data/ext/MF_sampleid.txt: Aucun fichier ou dossier de ce type\n",
      "\n",
      "/bin/grep: /home/srhuet/projets/Biscal_xp2_coal/data/ext/MF_sampleid.txt: Aucun fichier ou dossier de ce type\n",
      "\n",
      "TrimmomaticPE: Started with arguments:\n",
      " /home/srhuet/projets/Biscal_xp2_coal/data/ext/raw/samples/184_S78_R1_001.fastq.gz /home/srhuet/projets/Biscal_xp2_coal/data/ext/raw/samples/184_S78_R2_001.fastq.gz /home/srhuet/projets/Biscal_xp2_coal/data/tmp/paired.d/184_S78_R1_001.paired.fastq.gz /home/srhuet/projets/Biscal_xp2_coal/data/tmp/paired.d/184_S78_R1_001.unpaired.fastq.gz /home/srhuet/projets/Biscal_xp2_coal/data/tmp/paired.d/184_S78_R2_001.paired.fastq.gz /home/srhuet/projets/Biscal_xp2_coal/data/tmp/paired.d/184_S78_R2_001.unpaired.fastq.gz MINLEN:36\n",
      "Quality encoding detected as phred33\n",
      "Input Read Pairs: 19515 Both Surviving: 17865 (91,54%) Forward Only Surviving: 29 (0,15%) Reverse Only Surviving: 62 (0,32%) Dropped: 1559 (7,99%)\n",
      "TrimmomaticPE: Completed successfully\n",
      "\n",
      "/bin/cat: /home/srhuet/projets/Biscal_xp2_coal/data/ext/MF_sampleid.txt: Aucun fichier ou dossier de ce type\n",
      "\n",
      "/bin/grep: /home/srhuet/projets/Biscal_xp2_coal/data/ext/MF_sampleid.txt: Aucun fichier ou dossier de ce type\n",
      "\n",
      "TrimmomaticPE: Started with arguments:\n",
      " /home/srhuet/projets/Biscal_xp2_coal/data/ext/raw/samples/185_S79_R1_001.fastq.gz /home/srhuet/projets/Biscal_xp2_coal/data/ext/raw/samples/185_S79_R2_001.fastq.gz /home/srhuet/projets/Biscal_xp2_coal/data/tmp/paired.d/185_S79_R1_001.paired.fastq.gz /home/srhuet/projets/Biscal_xp2_coal/data/tmp/paired.d/185_S79_R1_001.unpaired.fastq.gz /home/srhuet/projets/Biscal_xp2_coal/data/tmp/paired.d/185_S79_R2_001.paired.fastq.gz /home/srhuet/projets/Biscal_xp2_coal/data/tmp/paired.d/185_S79_R2_001.unpaired.fastq.gz MINLEN:36\n",
      "Quality encoding detected as phred33\n",
      "Input Read Pairs: 29039 Both Surviving: 23248 (80,06%) Forward Only Surviving: 48 (0,17%) Reverse Only Surviving: 118 (0,41%) Dropped: 5625 (19,37%)\n",
      "TrimmomaticPE: Completed successfully\n",
      "\n",
      "/bin/cat: /home/srhuet/projets/Biscal_xp2_coal/data/ext/MF_sampleid.txt: Aucun fichier ou dossier de ce type\n",
      "\n",
      "/bin/grep: /home/srhuet/projets/Biscal_xp2_coal/data/ext/MF_sampleid.txt: Aucun fichier ou dossier de ce type\n",
      "\n",
      "TrimmomaticPE: Started with arguments:\n",
      " /home/srhuet/projets/Biscal_xp2_coal/data/ext/raw/samples/186_S125_R1_001.fastq.gz /home/srhuet/projets/Biscal_xp2_coal/data/ext/raw/samples/186_S125_R2_001.fastq.gz /home/srhuet/projets/Biscal_xp2_coal/data/tmp/paired.d/186_S125_R1_001.paired.fastq.gz /home/srhuet/projets/Biscal_xp2_coal/data/tmp/paired.d/186_S125_R1_001.unpaired.fastq.gz /home/srhuet/projets/Biscal_xp2_coal/data/tmp/paired.d/186_S125_R2_001.paired.fastq.gz /home/srhuet/projets/Biscal_xp2_coal/data/tmp/paired.d/186_S125_R2_001.unpaired.fastq.gz MINLEN:36\n",
      "Quality encoding detected as phred33\n",
      "Input Read Pairs: 34255 Both Surviving: 31628 (92,33%) Forward Only Surviving: 22 (0,06%) Reverse Only Surviving: 55 (0,16%) Dropped: 2550 (7,44%)\n",
      "TrimmomaticPE: Completed successfully\n",
      "\n",
      "/bin/cat: /home/srhuet/projets/Biscal_xp2_coal/data/ext/MF_sampleid.txt: Aucun fichier ou dossier de ce type\n",
      "\n",
      "/bin/grep: /home/srhuet/projets/Biscal_xp2_coal/data/ext/MF_sampleid.txt: Aucun fichier ou dossier de ce type\n",
      "\n",
      "TrimmomaticPE: Started with arguments:\n",
      " /home/srhuet/projets/Biscal_xp2_coal/data/ext/raw/samples/187_S126_R1_001.fastq.gz /home/srhuet/projets/Biscal_xp2_coal/data/ext/raw/samples/187_S126_R2_001.fastq.gz /home/srhuet/projets/Biscal_xp2_coal/data/tmp/paired.d/187_S126_R1_001.paired.fastq.gz /home/srhuet/projets/Biscal_xp2_coal/data/tmp/paired.d/187_S126_R1_001.unpaired.fastq.gz /home/srhuet/projets/Biscal_xp2_coal/data/tmp/paired.d/187_S126_R2_001.paired.fastq.gz /home/srhuet/projets/Biscal_xp2_coal/data/tmp/paired.d/187_S126_R2_001.unpaired.fastq.gz MINLEN:36\n",
      "Quality encoding detected as phred33\n",
      "Input Read Pairs: 30078 Both Surviving: 28259 (93,95%) Forward Only Surviving: 13 (0,04%) Reverse Only Surviving: 34 (0,11%) Dropped: 1772 (5,89%)\n",
      "TrimmomaticPE: Completed successfully\n",
      "\n",
      "/bin/cat: /home/srhuet/projets/Biscal_xp2_coal/data/ext/MF_sampleid.txt: Aucun fichier ou dossier de ce type\n",
      "\n",
      "/bin/grep: /home/srhuet/projets/Biscal_xp2_coal/data/ext/MF_sampleid.txt: Aucun fichier ou dossier de ce type\n",
      "\n",
      "TrimmomaticPE: Started with arguments:\n",
      " /home/srhuet/projets/Biscal_xp2_coal/data/ext/raw/samples/188_S127_R1_001.fastq.gz /home/srhuet/projets/Biscal_xp2_coal/data/ext/raw/samples/188_S127_R2_001.fastq.gz /home/srhuet/projets/Biscal_xp2_coal/data/tmp/paired.d/188_S127_R1_001.paired.fastq.gz /home/srhuet/projets/Biscal_xp2_coal/data/tmp/paired.d/188_S127_R1_001.unpaired.fastq.gz /home/srhuet/projets/Biscal_xp2_coal/data/tmp/paired.d/188_S127_R2_001.paired.fastq.gz /home/srhuet/projets/Biscal_xp2_coal/data/tmp/paired.d/188_S127_R2_001.unpaired.fastq.gz MINLEN:36\n",
      "Quality encoding detected as phred33\n",
      "Input Read Pairs: 27442 Both Surviving: 25649 (93,47%) Forward Only Surviving: 9 (0,03%) Reverse Only Surviving: 34 (0,12%) Dropped: 1750 (6,38%)\n",
      "TrimmomaticPE: Completed successfully\n",
      "\n",
      "/bin/cat: /home/srhuet/projets/Biscal_xp2_coal/data/ext/MF_sampleid.txt: Aucun fichier ou dossier de ce type\n",
      "\n",
      "/bin/grep: /home/srhuet/projets/Biscal_xp2_coal/data/ext/MF_sampleid.txt: Aucun fichier ou dossier de ce type\n",
      "\n",
      "TrimmomaticPE: Started with arguments:\n",
      " /home/srhuet/projets/Biscal_xp2_coal/data/ext/raw/samples/189_S156_R1_001.fastq.gz /home/srhuet/projets/Biscal_xp2_coal/data/ext/raw/samples/189_S156_R2_001.fastq.gz /home/srhuet/projets/Biscal_xp2_coal/data/tmp/paired.d/189_S156_R1_001.paired.fastq.gz /home/srhuet/projets/Biscal_xp2_coal/data/tmp/paired.d/189_S156_R1_001.unpaired.fastq.gz /home/srhuet/projets/Biscal_xp2_coal/data/tmp/paired.d/189_S156_R2_001.paired.fastq.gz /home/srhuet/projets/Biscal_xp2_coal/data/tmp/paired.d/189_S156_R2_001.unpaired.fastq.gz MINLEN:36\n",
      "Quality encoding detected as phred33\n",
      "Input Read Pairs: 24699 Both Surviving: 22838 (92,47%) Forward Only Surviving: 18 (0,07%) Reverse Only Surviving: 30 (0,12%) Dropped: 1813 (7,34%)\n",
      "TrimmomaticPE: Completed successfully\n",
      "\n",
      "/bin/cat: /home/srhuet/projets/Biscal_xp2_coal/data/ext/MF_sampleid.txt: Aucun fichier ou dossier de ce type\n",
      "\n",
      "/bin/grep: /home/srhuet/projets/Biscal_xp2_coal/data/ext/MF_sampleid.txt: Aucun fichier ou dossier de ce type\n",
      "\n"
     ]
    },
    {
     "name": "stdout",
     "output_type": "stream",
     "text": [
      "TrimmomaticPE: Started with arguments:\n",
      " /home/srhuet/projets/Biscal_xp2_coal/data/ext/raw/samples/190_S157_R1_001.fastq.gz /home/srhuet/projets/Biscal_xp2_coal/data/ext/raw/samples/190_S157_R2_001.fastq.gz /home/srhuet/projets/Biscal_xp2_coal/data/tmp/paired.d/190_S157_R1_001.paired.fastq.gz /home/srhuet/projets/Biscal_xp2_coal/data/tmp/paired.d/190_S157_R1_001.unpaired.fastq.gz /home/srhuet/projets/Biscal_xp2_coal/data/tmp/paired.d/190_S157_R2_001.paired.fastq.gz /home/srhuet/projets/Biscal_xp2_coal/data/tmp/paired.d/190_S157_R2_001.unpaired.fastq.gz MINLEN:36\n",
      "Quality encoding detected as phred33\n",
      "Input Read Pairs: 25632 Both Surviving: 23890 (93,20%) Forward Only Surviving: 13 (0,05%) Reverse Only Surviving: 25 (0,10%) Dropped: 1704 (6,65%)\n",
      "TrimmomaticPE: Completed successfully\n",
      "\n",
      "/bin/cat: /home/srhuet/projets/Biscal_xp2_coal/data/ext/MF_sampleid.txt: Aucun fichier ou dossier de ce type\n",
      "\n",
      "/bin/grep: /home/srhuet/projets/Biscal_xp2_coal/data/ext/MF_sampleid.txt: Aucun fichier ou dossier de ce type\n",
      "\n",
      "TrimmomaticPE: Started with arguments:\n",
      " /home/srhuet/projets/Biscal_xp2_coal/data/ext/raw/samples/191_S158_R1_001.fastq.gz /home/srhuet/projets/Biscal_xp2_coal/data/ext/raw/samples/191_S158_R2_001.fastq.gz /home/srhuet/projets/Biscal_xp2_coal/data/tmp/paired.d/191_S158_R1_001.paired.fastq.gz /home/srhuet/projets/Biscal_xp2_coal/data/tmp/paired.d/191_S158_R1_001.unpaired.fastq.gz /home/srhuet/projets/Biscal_xp2_coal/data/tmp/paired.d/191_S158_R2_001.paired.fastq.gz /home/srhuet/projets/Biscal_xp2_coal/data/tmp/paired.d/191_S158_R2_001.unpaired.fastq.gz MINLEN:36\n",
      "Quality encoding detected as phred33\n",
      "Input Read Pairs: 20634 Both Surviving: 19006 (92,11%) Forward Only Surviving: 16 (0,08%) Reverse Only Surviving: 35 (0,17%) Dropped: 1577 (7,64%)\n",
      "TrimmomaticPE: Completed successfully\n",
      "\n",
      "/bin/cat: /home/srhuet/projets/Biscal_xp2_coal/data/ext/MF_sampleid.txt: Aucun fichier ou dossier de ce type\n",
      "\n",
      "/bin/grep: /home/srhuet/projets/Biscal_xp2_coal/data/ext/MF_sampleid.txt: Aucun fichier ou dossier de ce type\n",
      "\n"
     ]
    }
   ],
   "source": [
    "catSampleIdFlag = False\n",
    "for Id in setOfIds:\n",
    "    # Set R1 R2 fastq file name (absolute path) -----------------------------------------------------------\n",
    "    fileOfR1FastqGZ = os.path.join(dirOfFastqGZFiles,dictOfFastqGZFiles[(Id,R1)])\n",
    "    fileOfR2FastqGZ = os.path.join(dirOfFastqGZFiles,dictOfFastqGZFiles[(Id,R2)])\n",
    "    # Set R1 R2 fastq paired name -------------------------------------------------------------------------\n",
    "    fileOfPairedR1FastqGZ = os.path.join(dirOfPairedFiles,dictOfFastqGZFiles[(Id,R1)].replace(\".fastq.gz\",\".paired.fastq.gz\"))\n",
    "    fileOfPairedR2FastqGZ = os.path.join(dirOfPairedFiles,dictOfFastqGZFiles[(Id,R2)].replace(\".fastq.gz\",\".paired.fastq.gz\"))\n",
    "    # Set R1 R2 fastq unpaired name -----------------------------------------------------------------------\n",
    "    fileOfUnpairedR1FastqGZ = os.path.join(dirOfPairedFiles,dictOfFastqGZFiles[(Id,R1)].replace(\".fastq.gz\",\".unpaired.fastq.gz\"))\n",
    "    fileOfUnpairedR2FastqGZ = os.path.join(dirOfPairedFiles,dictOfFastqGZFiles[(Id,R2)].replace(\".fastq.gz\",\".unpaired.fastq.gz\"))\n",
    "    # Set R1 R2 fastq paired name -----------------------------------------------------------------------\n",
    "    fileOfPairedR1Fastq = os.path.join(dirOfFastqFiles,dictOfFastqGZFiles[(Id,R1)].replace(\".fastq.gz\",\".paired.fastq\"))\n",
    "    fileOfPairedR2Fastq = os.path.join(dirOfFastqFiles,dictOfFastqGZFiles[(Id,R2)].replace(\".fastq.gz\",\".paired.fastq\"))\n",
    "    # Run trimmomaticPE on R1 R2 file ---------------------------------------------------------------------------\n",
    "    trimm_cmd = \"{btrimm:s} {R1GZ:s} {R2GZ:s} {R1PGZ:s} {R1UPGZ:s} {R2PGZ:s} {R2UPGZ:s} MINLEN:36\".format(btrimm = trimmomaticPE, R1GZ = fileOfR1FastqGZ, R2GZ = fileOfR2FastqGZ, R1PGZ = fileOfPairedR1FastqGZ, R1UPGZ = fileOfUnpairedR1FastqGZ, R2PGZ = fileOfPairedR2FastqGZ, R2UPGZ = fileOfUnpairedR2FastqGZ)\n",
    "    if print_output:\n",
    "        print(trimm_cmd)\n",
    "    if run:\n",
    "        process = subprocess.Popen(trimm_cmd, shell = True, stdout=subprocess.PIPE, stderr=subprocess.PIPE)\n",
    "        (out,err) = process.communicate()\n",
    "        if out:         \n",
    "            print(out.decode(\"utf-8\"))     \n",
    "        if err:         \n",
    "            print(err.decode(\"utf-8\"))\n",
    "    # Run gunzip on R1 paired file ---------------------------------------------------------------------------\n",
    "    gzip_cmd = \"{bgzip:s} -c -d {gz:s} > {fq:s}\".format(bgzip=gzip,gz=fileOfPairedR1FastqGZ,fq=fileOfPairedR1Fastq)\n",
    "    if print_output:\n",
    "        print(gzip_cmd)\n",
    "    if run:\n",
    "        process = subprocess.Popen(gzip_cmd, shell = True, stdout=subprocess.PIPE, stderr=subprocess.PIPE)\n",
    "        (out,err) = process.communicate()\n",
    "        if out:\n",
    "            print(out.decode(\"utf-8\"))\n",
    "        if err:\n",
    "            print(err.decode(\"utf-8\"))\n",
    "    # Run gunzip on R2 paired file ---------------------------------------------------------------------------\n",
    "    gzip_cmd = \"{bgzip:s} -c -d {gz:s} > {fq:s}\".format(bgzip=gzip,gz=fileOfPairedR2FastqGZ,fq=fileOfPairedR2Fastq)\n",
    "    if print_output:\n",
    "        print(gzip_cmd)\n",
    "    if run:\n",
    "        process = subprocess.Popen(gzip_cmd, shell = True, stdout=subprocess.PIPE, stderr=subprocess.PIPE)\n",
    "        (out,err) = process.communicate()\n",
    "        if out:\n",
    "            print(out.decode(\"utf-8\"))\n",
    "        if err:\n",
    "            print(err.decode(\"utf-8\"))\n",
    "    # Run pear on R1 R2 files -------------------------------------------------------------------------\n",
    "    dirOfPearIdOutput = os.path.join(dirOfPearFiles,Id)\n",
    "    if not os.path.exists(dirOfPearIdOutput):\n",
    "        os.makedirs(dirOfPearIdOutput) \n",
    "    fileOfPearAssembledOutput = os.path.join(dirOfPearIdOutput,Id)\n",
    "    fileOfPearOutput = os.path.join(dirOfPearIdOutput,Id + \".output.txt\")\n",
    "    pear_cmd = \"{bpear:s} -f {r1fq:s} -r {r2fq:s} -o {aout:s} > {out:s}\".format(bpear=pear,         \n",
    "                                                                                r1fq=fileOfPairedR1Fastq,\n",
    "                                                                                r2fq=fileOfPairedR2Fastq,\n",
    "                                                                                aout=fileOfPearAssembledOutput,\n",
    "                                                                                out=fileOfPearOutput)\n",
    "    if print_output:\n",
    "        print(pear_cmd)\n",
    "    if run:\n",
    "        process = subprocess.Popen(pear_cmd, shell = True, stdout=subprocess.PIPE, stderr=subprocess.PIPE)\n",
    "        (out,err) = process.communicate()     \n",
    "        if out:         \n",
    "            print(out.decode(\"utf-8\"))     \n",
    "        if err:         \n",
    "            print(err.decode(\"utf-8\"))\n",
    "    # rm R1 R2 fastq files ------------------------------------------------------------------------------\n",
    "    rm_cmd = \"{brm:s} -f {r1:s} {r2:s}\".format(brm=rm,r1=fileOfPairedR1Fastq,r2=fileOfPairedR1Fastq)\n",
    "    if print_output:\n",
    "        print(rm_cmd)\n",
    "    if run:\n",
    "        process = subprocess.Popen(rm_cmd, shell = True, stdout=subprocess.PIPE, stderr=subprocess.PIPE)\n",
    "        (out,err) = process.communicate()     \n",
    "        if out:         \n",
    "            print(out.decode(\"utf-8\"))\n",
    "        if err:         \n",
    "            print(err.decode(\"utf-8\"))\n",
    "    # Run substitute Id in MF_id.txt ----------------------------------------------------------------------\n",
    "    substitute_cmd = \"{bcat:s} {sample:s} | {bsed:s} -e \\\"s/sample_id/{cid:s}/g\\\" > {idtxt:s}\".format(bcat = cat,\n",
    "                                                                                                      sample = fileOfSampleIdTxt,\n",
    "                                                                                                      bsed = sed,\n",
    "                                                                                                      cid = Id,\n",
    "                                                                                                      idtxt = fileOfSampleIdTmp)\n",
    "    if print_output:\n",
    "        print(substitute_cmd)\n",
    "    if run:\n",
    "        process = subprocess.Popen(substitute_cmd, shell = True, stdout=subprocess.PIPE, stderr=subprocess.PIPE)\n",
    "        (out,err) = process.communicate()     \n",
    "        if out:         \n",
    "            print(out.decode(\"utf-8\"))     \n",
    "        if err:         \n",
    "            print(err.decode(\"utf-8\"))\n",
    "    if not catSampleIdFlag:\n",
    "        catSampleIdFlag = True\n",
    "        substitute_cmd = \"{bcat:s} {sample:s} | {bsed:s} -e \\\"s/sample_id/{cid:s}/g\\\" > {idtxt:s}\".format(bcat = cat,\n",
    "                                                                                                          sample = fileOfSampleIdTxt,\n",
    "                                                                                                          bsed = sed,\n",
    "                                                                                                          cid = Id,\n",
    "                                                                                                          idtxt = fileOfMFIdsOutput)\n",
    "    else:\n",
    "        substitute_cmd = \"{bcat:s} -v '^#' {sample:s} | {bsed:s} -e \\\"s/sample_id/{cid:s}/g\\\" >> {idtxt:s}\".format(bcat = grep,\n",
    "                                                                                                                sample = fileOfSampleIdTxt,\n",
    "                                                                                                                bsed = sed,\n",
    "                                                                                                                cid = Id,\n",
    "                                                                                                                idtxt = fileOfMFIdsOutput)\n",
    "    if print_output:\n",
    "        print(substitute_cmd)\n",
    "    if run:\n",
    "        process = subprocess.Popen(substitute_cmd, shell = True, stdout=subprocess.PIPE, stderr=subprocess.PIPE)\n",
    "        (out,err) = process.communicate()     \n",
    "        if out:         \n",
    "            print(out.decode(\"utf-8\"))     \n",
    "        if err:         \n",
    "            print(err.decode(\"utf-8\"))\n",
    "    \n",
    "    # Run split_lib ---------------------------------------------------------------------------------------------------\n",
    "    dirOfIdSplitLib = os.path.join(dirOfSplitLibFiles,Id)\n",
    "    fileOfPearInput = os.path.join(dirOfPearIdOutput,Id + \".assembled.fastq\")\n",
    "    split_cmd = \"{bsplit:s} -i {fin:s} -o {dout:s} --sample_ids {cid:s} -m {idtxt:s} -q {pqt:s} --barcode_type \\'not-barcoded\\'\".format(bsplit=split_libraries_fastq,\n",
    "                   fin=fileOfPearInput,\n",
    "                   dout=dirOfIdSplitLib,\n",
    "                   cid=Id,\n",
    "                   idtxt=fileOfSampleIdTmp,\n",
    "                   pqt = phred_quality_threshold)\n",
    "    if print_output:\n",
    "        print(split_cmd)\n",
    "    if run:\n",
    "        process = subprocess.Popen(split_cmd, shell = True, stdout=subprocess.PIPE, stderr=subprocess.PIPE)\n",
    "        (out,err) = process.communicate()     \n",
    "        if out:         \n",
    "            print(out.decode(\"utf-8\"))     \n",
    "        if err:         \n",
    "            print(err.decode(\"utf-8\"))"
   ]
  },
  {
   "cell_type": "markdown",
   "metadata": {},
   "source": [
    "## Control"
   ]
  },
  {
   "cell_type": "markdown",
   "metadata": {},
   "source": [
    "### PEAR Output"
   ]
  },
  {
   "cell_type": "code",
   "execution_count": 27,
   "metadata": {},
   "outputs": [],
   "source": [
    "dictOfIdsPearOutput = {}\n",
    "dictOfIdsPearOutput[\"Assembled_reads:size\"] = []\n",
    "dictOfIdsPearOutput[\"Assembled_reads:percent\"] = []\n",
    "dictOfIdsPearOutput[\"Discarded_reads:size\"] = []\n",
    "dictOfIdsPearOutput[\"Discarded_reads:percent\"] = []\n",
    "dictOfIdsPearOutput[\"Not_assembled_reads:size\"] = []\n",
    "dictOfIdsPearOutput[\"Not_assembled_reads:percent\"] = []\n",
    "dictOfIdsPearOutput[\"Total:size\"] = []\n",
    "for Id in setOfIds:\n",
    "    dirOfPearIdOutput = os.path.join(dirOfPearFiles,Id)\n",
    "    fileOfIdPearOutput = os.path.join(dirOfPearIdOutput,Id + \".output.txt\")\n",
    "    if os.path.exists(fileOfIdPearOutput):\n",
    "        dictOfIdPearOutput = getDataFromPearOutputFile(fileOfIdPearOutput)\n",
    "        dictOfIdsPearOutput[\"Assembled_reads:size\"].append(dictOfIdPearOutput[\"Assembled_reads\"][\"size\"])\n",
    "        dictOfIdsPearOutput[\"Assembled_reads:percent\"].append(dictOfIdPearOutput[\"Assembled_reads\"][\"percent\"])\n",
    "        dictOfIdsPearOutput[\"Discarded_reads:size\"].append(dictOfIdPearOutput[\"Discarded_reads\"][\"size\"])\n",
    "        dictOfIdsPearOutput[\"Discarded_reads:percent\"].append(dictOfIdPearOutput[\"Discarded_reads\"][\"percent\"])\n",
    "        dictOfIdsPearOutput[\"Not_assembled_reads:size\"].append(dictOfIdPearOutput[\"Not_assembled_reads\"][\"size\"])\n",
    "        dictOfIdsPearOutput[\"Not_assembled_reads:percent\"].append(dictOfIdPearOutput[\"Not_assembled_reads\"][\"percent\"])\n",
    "        dictOfIdsPearOutput[\"Total:size\"].append(dictOfIdPearOutput[\"Assembled_reads\"][\"total_size\"])\n",
    "    else:\n",
    "        print(\"Error on {0:s} : no fileOfPearOutputFile\".format(Id))"
   ]
  },
  {
   "cell_type": "code",
   "execution_count": 28,
   "metadata": {},
   "outputs": [
    {
     "data": {
      "text/html": [
       "<div>\n",
       "<style scoped>\n",
       "    .dataframe tbody tr th:only-of-type {\n",
       "        vertical-align: middle;\n",
       "    }\n",
       "\n",
       "    .dataframe tbody tr th {\n",
       "        vertical-align: top;\n",
       "    }\n",
       "\n",
       "    .dataframe thead tr th {\n",
       "        text-align: left;\n",
       "    }\n",
       "</style>\n",
       "<table border=\"1\" class=\"dataframe\">\n",
       "  <thead>\n",
       "    <tr>\n",
       "      <th></th>\n",
       "      <th colspan=\"2\" halign=\"left\">Assembled_reads</th>\n",
       "      <th colspan=\"2\" halign=\"left\">Discarded_reads</th>\n",
       "      <th colspan=\"2\" halign=\"left\">Not_assembled_reads</th>\n",
       "      <th>Total</th>\n",
       "    </tr>\n",
       "    <tr>\n",
       "      <th></th>\n",
       "      <th>size</th>\n",
       "      <th>percent</th>\n",
       "      <th>size</th>\n",
       "      <th>percent</th>\n",
       "      <th>size</th>\n",
       "      <th>percent</th>\n",
       "      <th>size</th>\n",
       "    </tr>\n",
       "  </thead>\n",
       "  <tbody>\n",
       "    <tr>\n",
       "      <th>1</th>\n",
       "      <td>11157</td>\n",
       "      <td>99.103</td>\n",
       "      <td>0</td>\n",
       "      <td>0.0</td>\n",
       "      <td>101</td>\n",
       "      <td>0.897</td>\n",
       "      <td>11258</td>\n",
       "    </tr>\n",
       "    <tr>\n",
       "      <th>2</th>\n",
       "      <td>16889</td>\n",
       "      <td>99.108</td>\n",
       "      <td>0</td>\n",
       "      <td>0.0</td>\n",
       "      <td>152</td>\n",
       "      <td>0.892</td>\n",
       "      <td>17041</td>\n",
       "    </tr>\n",
       "    <tr>\n",
       "      <th>3</th>\n",
       "      <td>16520</td>\n",
       "      <td>99.118</td>\n",
       "      <td>0</td>\n",
       "      <td>0.0</td>\n",
       "      <td>147</td>\n",
       "      <td>0.882</td>\n",
       "      <td>16667</td>\n",
       "    </tr>\n",
       "    <tr>\n",
       "      <th>4</th>\n",
       "      <td>15744</td>\n",
       "      <td>99.075</td>\n",
       "      <td>0</td>\n",
       "      <td>0.0</td>\n",
       "      <td>147</td>\n",
       "      <td>0.925</td>\n",
       "      <td>15891</td>\n",
       "    </tr>\n",
       "    <tr>\n",
       "      <th>5</th>\n",
       "      <td>17621</td>\n",
       "      <td>99.056</td>\n",
       "      <td>0</td>\n",
       "      <td>0.0</td>\n",
       "      <td>168</td>\n",
       "      <td>0.944</td>\n",
       "      <td>17789</td>\n",
       "    </tr>\n",
       "  </tbody>\n",
       "</table>\n",
       "</div>"
      ],
      "text/plain": [
       "  Assembled_reads         Discarded_reads         Not_assembled_reads          \\\n",
       "             size percent            size percent                size percent   \n",
       "1           11157  99.103               0     0.0                 101   0.897   \n",
       "2           16889  99.108               0     0.0                 152   0.892   \n",
       "3           16520  99.118               0     0.0                 147   0.882   \n",
       "4           15744  99.075               0     0.0                 147   0.925   \n",
       "5           17621  99.056               0     0.0                 168   0.944   \n",
       "\n",
       "   Total  \n",
       "    size  \n",
       "1  11258  \n",
       "2  17041  \n",
       "3  16667  \n",
       "4  15891  \n",
       "5  17789  "
      ]
     },
     "execution_count": 28,
     "metadata": {},
     "output_type": "execute_result"
    }
   ],
   "source": [
    "dfOfIdsPearOutput = pd.DataFrame(data=dictOfIdsPearOutput,index=setOfIds)\n",
    "dfOfIdsPearOutput.columns = pd.MultiIndex.from_tuples([tuple(c.split(':')) for c in dfOfIdsPearOutput.columns])\n",
    "dfOfIdsPearOutput.to_excel(fileOfPearOutputDFXls)\n",
    "dfOfIdsPearOutput.head()"
   ]
  },
  {
   "cell_type": "markdown",
   "metadata": {},
   "source": [
    "### PEAR Describe"
   ]
  },
  {
   "cell_type": "code",
   "execution_count": 29,
   "metadata": {},
   "outputs": [
    {
     "data": {
      "text/html": [
       "<div>\n",
       "<style scoped>\n",
       "    .dataframe tbody tr th:only-of-type {\n",
       "        vertical-align: middle;\n",
       "    }\n",
       "\n",
       "    .dataframe tbody tr th {\n",
       "        vertical-align: top;\n",
       "    }\n",
       "\n",
       "    .dataframe thead tr th {\n",
       "        text-align: left;\n",
       "    }\n",
       "</style>\n",
       "<table border=\"1\" class=\"dataframe\">\n",
       "  <thead>\n",
       "    <tr>\n",
       "      <th></th>\n",
       "      <th colspan=\"2\" halign=\"left\">Assembled_reads</th>\n",
       "      <th colspan=\"2\" halign=\"left\">Discarded_reads</th>\n",
       "      <th colspan=\"2\" halign=\"left\">Not_assembled_reads</th>\n",
       "      <th>Total</th>\n",
       "    </tr>\n",
       "    <tr>\n",
       "      <th></th>\n",
       "      <th>size</th>\n",
       "      <th>percent</th>\n",
       "      <th>size</th>\n",
       "      <th>percent</th>\n",
       "      <th>size</th>\n",
       "      <th>percent</th>\n",
       "      <th>size</th>\n",
       "    </tr>\n",
       "  </thead>\n",
       "  <tbody>\n",
       "    <tr>\n",
       "      <th>count</th>\n",
       "      <td>155.000000</td>\n",
       "      <td>155.000000</td>\n",
       "      <td>155.0</td>\n",
       "      <td>155.0</td>\n",
       "      <td>155.000000</td>\n",
       "      <td>155.000000</td>\n",
       "      <td>155.000000</td>\n",
       "    </tr>\n",
       "    <tr>\n",
       "      <th>mean</th>\n",
       "      <td>14005.509677</td>\n",
       "      <td>99.047019</td>\n",
       "      <td>0.0</td>\n",
       "      <td>0.0</td>\n",
       "      <td>123.103226</td>\n",
       "      <td>0.952981</td>\n",
       "      <td>14128.612903</td>\n",
       "    </tr>\n",
       "    <tr>\n",
       "      <th>std</th>\n",
       "      <td>3834.611119</td>\n",
       "      <td>0.847005</td>\n",
       "      <td>0.0</td>\n",
       "      <td>0.0</td>\n",
       "      <td>45.008971</td>\n",
       "      <td>0.847005</td>\n",
       "      <td>3854.467404</td>\n",
       "    </tr>\n",
       "    <tr>\n",
       "      <th>min</th>\n",
       "      <td>46.000000</td>\n",
       "      <td>90.196000</td>\n",
       "      <td>0.0</td>\n",
       "      <td>0.0</td>\n",
       "      <td>5.000000</td>\n",
       "      <td>0.590000</td>\n",
       "      <td>51.000000</td>\n",
       "    </tr>\n",
       "    <tr>\n",
       "      <th>25%</th>\n",
       "      <td>11632.000000</td>\n",
       "      <td>99.071000</td>\n",
       "      <td>0.0</td>\n",
       "      <td>0.0</td>\n",
       "      <td>104.000000</td>\n",
       "      <td>0.797500</td>\n",
       "      <td>11741.000000</td>\n",
       "    </tr>\n",
       "    <tr>\n",
       "      <th>50%</th>\n",
       "      <td>13657.000000</td>\n",
       "      <td>99.146000</td>\n",
       "      <td>0.0</td>\n",
       "      <td>0.0</td>\n",
       "      <td>115.000000</td>\n",
       "      <td>0.854000</td>\n",
       "      <td>13760.000000</td>\n",
       "    </tr>\n",
       "    <tr>\n",
       "      <th>75%</th>\n",
       "      <td>15404.000000</td>\n",
       "      <td>99.202500</td>\n",
       "      <td>0.0</td>\n",
       "      <td>0.0</td>\n",
       "      <td>136.000000</td>\n",
       "      <td>0.929000</td>\n",
       "      <td>15536.500000</td>\n",
       "    </tr>\n",
       "    <tr>\n",
       "      <th>max</th>\n",
       "      <td>31431.000000</td>\n",
       "      <td>99.410000</td>\n",
       "      <td>0.0</td>\n",
       "      <td>0.0</td>\n",
       "      <td>563.000000</td>\n",
       "      <td>9.804000</td>\n",
       "      <td>31628.000000</td>\n",
       "    </tr>\n",
       "  </tbody>\n",
       "</table>\n",
       "</div>"
      ],
      "text/plain": [
       "      Assembled_reads             Discarded_reads         Not_assembled_reads  \\\n",
       "                 size     percent            size percent                size   \n",
       "count      155.000000  155.000000           155.0   155.0          155.000000   \n",
       "mean     14005.509677   99.047019             0.0     0.0          123.103226   \n",
       "std       3834.611119    0.847005             0.0     0.0           45.008971   \n",
       "min         46.000000   90.196000             0.0     0.0            5.000000   \n",
       "25%      11632.000000   99.071000             0.0     0.0          104.000000   \n",
       "50%      13657.000000   99.146000             0.0     0.0          115.000000   \n",
       "75%      15404.000000   99.202500             0.0     0.0          136.000000   \n",
       "max      31431.000000   99.410000             0.0     0.0          563.000000   \n",
       "\n",
       "                          Total  \n",
       "          percent          size  \n",
       "count  155.000000    155.000000  \n",
       "mean     0.952981  14128.612903  \n",
       "std      0.847005   3854.467404  \n",
       "min      0.590000     51.000000  \n",
       "25%      0.797500  11741.000000  \n",
       "50%      0.854000  13760.000000  \n",
       "75%      0.929000  15536.500000  \n",
       "max      9.804000  31628.000000  "
      ]
     },
     "execution_count": 29,
     "metadata": {},
     "output_type": "execute_result"
    }
   ],
   "source": [
    "dfOfIdsPearOutput.describe().to_excel(fileOfPearDescribeDFXls)\n",
    "dfOfIdsPearOutput.describe()"
   ]
  },
  {
   "cell_type": "markdown",
   "metadata": {},
   "source": [
    "### SplitLib Output"
   ]
  },
  {
   "cell_type": "code",
   "execution_count": 30,
   "metadata": {},
   "outputs": [],
   "source": [
    "dictOfIdsSplitLibOutput = {}\n",
    "dictOfIdsSplitLibOutput['Median_sequence_length'] = []\n",
    "dictOfIdsSplitLibOutput['Read_too_short_after_quality_truncation'] = []\n",
    "dictOfIdsSplitLibOutput['Total_number_of_input_sequences'] = []\n",
    "for Id in setOfIds:\n",
    "    dirOfIdSplitLib = os.path.join(dirOfSplitLibFiles,Id)\n",
    "    fileOfIdSplitLibOutput = os.path.join(dirOfIdSplitLib,\"split_library_log.txt\")\n",
    "    if os.path.exists(fileOfIdSplitLibOutput):\n",
    "        dictOfIdSplitLibOutput = getDataFromSplitLibraryOutputFile(fileOfIdSplitLibOutput)\n",
    "        dictOfIdsSplitLibOutput['Median_sequence_length'].append(dictOfIdSplitLibOutput['Median_sequence_length'])\n",
    "        dictOfIdsSplitLibOutput['Read_too_short_after_quality_truncation'].append(dictOfIdSplitLibOutput['Read_too_short_after_quality_truncation'])\n",
    "        dictOfIdsSplitLibOutput['Total_number_of_input_sequences'].append(dictOfIdSplitLibOutput['Total_number_of_input_sequences'])\n",
    "    else:\n",
    "        print(\"Error on {0:s} : no fileOfIdSplitLibOutput\".format(Id))"
   ]
  },
  {
   "cell_type": "code",
   "execution_count": 31,
   "metadata": {},
   "outputs": [
    {
     "data": {
      "text/html": [
       "<div>\n",
       "<style scoped>\n",
       "    .dataframe tbody tr th:only-of-type {\n",
       "        vertical-align: middle;\n",
       "    }\n",
       "\n",
       "    .dataframe tbody tr th {\n",
       "        vertical-align: top;\n",
       "    }\n",
       "\n",
       "    .dataframe thead th {\n",
       "        text-align: right;\n",
       "    }\n",
       "</style>\n",
       "<table border=\"1\" class=\"dataframe\">\n",
       "  <thead>\n",
       "    <tr style=\"text-align: right;\">\n",
       "      <th></th>\n",
       "      <th>Median_sequence_length</th>\n",
       "      <th>Read_too_short_after_quality_truncation</th>\n",
       "      <th>Total_number_of_input_sequences</th>\n",
       "    </tr>\n",
       "  </thead>\n",
       "  <tbody>\n",
       "    <tr>\n",
       "      <th>1</th>\n",
       "      <td>468.0</td>\n",
       "      <td>519</td>\n",
       "      <td>11157</td>\n",
       "    </tr>\n",
       "    <tr>\n",
       "      <th>2</th>\n",
       "      <td>467.0</td>\n",
       "      <td>792</td>\n",
       "      <td>16889</td>\n",
       "    </tr>\n",
       "    <tr>\n",
       "      <th>3</th>\n",
       "      <td>467.0</td>\n",
       "      <td>950</td>\n",
       "      <td>16520</td>\n",
       "    </tr>\n",
       "    <tr>\n",
       "      <th>4</th>\n",
       "      <td>467.0</td>\n",
       "      <td>743</td>\n",
       "      <td>15744</td>\n",
       "    </tr>\n",
       "    <tr>\n",
       "      <th>5</th>\n",
       "      <td>468.0</td>\n",
       "      <td>842</td>\n",
       "      <td>17621</td>\n",
       "    </tr>\n",
       "  </tbody>\n",
       "</table>\n",
       "</div>"
      ],
      "text/plain": [
       "   Median_sequence_length  Read_too_short_after_quality_truncation  \\\n",
       "1                   468.0                                      519   \n",
       "2                   467.0                                      792   \n",
       "3                   467.0                                      950   \n",
       "4                   467.0                                      743   \n",
       "5                   468.0                                      842   \n",
       "\n",
       "   Total_number_of_input_sequences  \n",
       "1                            11157  \n",
       "2                            16889  \n",
       "3                            16520  \n",
       "4                            15744  \n",
       "5                            17621  "
      ]
     },
     "execution_count": 31,
     "metadata": {},
     "output_type": "execute_result"
    }
   ],
   "source": [
    "dfOfIdsSplitLibOutput = pd.DataFrame(data=dictOfIdsSplitLibOutput,index=setOfIds)\n",
    "dfOfIdsSplitLibOutput.to_excel(fileOfSplitLibOutputDFXls)\n",
    "dfOfIdsSplitLibOutput.head()"
   ]
  },
  {
   "cell_type": "markdown",
   "metadata": {},
   "source": [
    "### SplitLib Describe"
   ]
  },
  {
   "cell_type": "code",
   "execution_count": 32,
   "metadata": {},
   "outputs": [],
   "source": [
    "dfOfIdsSplitLibOutputDescribe = dfOfIdsSplitLibOutput.describe()"
   ]
  },
  {
   "cell_type": "code",
   "execution_count": 33,
   "metadata": {},
   "outputs": [
    {
     "data": {
      "text/html": [
       "<div>\n",
       "<style scoped>\n",
       "    .dataframe tbody tr th:only-of-type {\n",
       "        vertical-align: middle;\n",
       "    }\n",
       "\n",
       "    .dataframe tbody tr th {\n",
       "        vertical-align: top;\n",
       "    }\n",
       "\n",
       "    .dataframe thead th {\n",
       "        text-align: right;\n",
       "    }\n",
       "</style>\n",
       "<table border=\"1\" class=\"dataframe\">\n",
       "  <thead>\n",
       "    <tr style=\"text-align: right;\">\n",
       "      <th></th>\n",
       "      <th>Median_sequence_length</th>\n",
       "      <th>Read_too_short_after_quality_truncation</th>\n",
       "      <th>Total_number_of_input_sequences</th>\n",
       "    </tr>\n",
       "  </thead>\n",
       "  <tbody>\n",
       "    <tr>\n",
       "      <th>count</th>\n",
       "      <td>155.000000</td>\n",
       "      <td>155.000000</td>\n",
       "      <td>155.000000</td>\n",
       "    </tr>\n",
       "    <tr>\n",
       "      <th>mean</th>\n",
       "      <td>466.774194</td>\n",
       "      <td>816.909677</td>\n",
       "      <td>14005.509677</td>\n",
       "    </tr>\n",
       "    <tr>\n",
       "      <th>std</th>\n",
       "      <td>3.252468</td>\n",
       "      <td>608.554561</td>\n",
       "      <td>3834.611119</td>\n",
       "    </tr>\n",
       "    <tr>\n",
       "      <th>min</th>\n",
       "      <td>449.000000</td>\n",
       "      <td>1.000000</td>\n",
       "      <td>46.000000</td>\n",
       "    </tr>\n",
       "    <tr>\n",
       "      <th>25%</th>\n",
       "      <td>467.000000</td>\n",
       "      <td>606.000000</td>\n",
       "      <td>11632.000000</td>\n",
       "    </tr>\n",
       "    <tr>\n",
       "      <th>50%</th>\n",
       "      <td>467.000000</td>\n",
       "      <td>724.000000</td>\n",
       "      <td>13657.000000</td>\n",
       "    </tr>\n",
       "    <tr>\n",
       "      <th>75%</th>\n",
       "      <td>467.000000</td>\n",
       "      <td>846.500000</td>\n",
       "      <td>15404.000000</td>\n",
       "    </tr>\n",
       "    <tr>\n",
       "      <th>max</th>\n",
       "      <td>473.000000</td>\n",
       "      <td>6298.000000</td>\n",
       "      <td>31431.000000</td>\n",
       "    </tr>\n",
       "  </tbody>\n",
       "</table>\n",
       "</div>"
      ],
      "text/plain": [
       "       Median_sequence_length  Read_too_short_after_quality_truncation  \\\n",
       "count              155.000000                               155.000000   \n",
       "mean               466.774194                               816.909677   \n",
       "std                  3.252468                               608.554561   \n",
       "min                449.000000                                 1.000000   \n",
       "25%                467.000000                               606.000000   \n",
       "50%                467.000000                               724.000000   \n",
       "75%                467.000000                               846.500000   \n",
       "max                473.000000                              6298.000000   \n",
       "\n",
       "       Total_number_of_input_sequences  \n",
       "count                       155.000000  \n",
       "mean                      14005.509677  \n",
       "std                        3834.611119  \n",
       "min                          46.000000  \n",
       "25%                       11632.000000  \n",
       "50%                       13657.000000  \n",
       "75%                       15404.000000  \n",
       "max                       31431.000000  "
      ]
     },
     "execution_count": 33,
     "metadata": {},
     "output_type": "execute_result"
    }
   ],
   "source": [
    "dfOfIdsSplitLibOutputDescribe.to_excel(fileOfSplitLibDescribeDFXls)\n",
    "dfOfIdsSplitLibOutputDescribe"
   ]
  },
  {
   "cell_type": "markdown",
   "metadata": {},
   "source": [
    "### Set minimal depth"
   ]
  },
  {
   "cell_type": "code",
   "execution_count": 35,
   "metadata": {},
   "outputs": [
    {
     "name": "stdout",
     "output_type": "stream",
     "text": [
      "Minimal depth : 46\n"
     ]
    }
   ],
   "source": [
    "medianSequenceLengthTresholdMD = 400\n",
    "minimalDepth = dfOfIdsSplitLibOutput[dfOfIdsSplitLibOutput[\"Median_sequence_length\"] > medianSequenceLengthTresholdMD][\"Total_number_of_input_sequences\"].min()\n",
    "print(\"Minimal depth : {0:d}\".format(minimalDepth))"
   ]
  },
  {
   "cell_type": "markdown",
   "metadata": {},
   "source": [
    "## Concatenate sequences"
   ]
  },
  {
   "cell_type": "markdown",
   "metadata": {},
   "source": [
    "### Keep Id with Median_sequence_length > 350"
   ]
  },
  {
   "cell_type": "code",
   "execution_count": 36,
   "metadata": {},
   "outputs": [],
   "source": [
    "listOfmedianSequenceLengthTreshold = range(0,1000,50)\n",
    "listOfLenCleanId = []\n",
    "for medianSequenceLengthTreshold in listOfmedianSequenceLengthTreshold:\n",
    "    listOfLenCleanId.append(len(dfOfIdsSplitLibOutput[dfOfIdsSplitLibOutput[\"Median_sequence_length\"] > medianSequenceLengthTreshold].index.tolist()))"
   ]
  },
  {
   "cell_type": "code",
   "execution_count": 37,
   "metadata": {},
   "outputs": [
    {
     "data": {
      "image/png": "[encoded data removed]",
      "text/plain": [
       "<Figure size 432x288 with 1 Axes>"
      ]
     },
     "metadata": {
      "needs_background": "light"
     },
     "output_type": "display_data"
    }
   ],
   "source": [
    "plt.plot(listOfmedianSequenceLengthTreshold, listOfLenCleanId)\n",
    "#plt.xticks(x_pos, listOfSummarizeId)\n",
    "plt.grid(True)\n",
    "plt.show()"
   ]
  },
  {
   "cell_type": "code",
   "execution_count": 38,
   "metadata": {},
   "outputs": [
    {
     "name": "stdout",
     "output_type": "stream",
     "text": [
      "Length of cleaned ids : 155\n"
     ]
    }
   ],
   "source": [
    "medianSequenceLengthTreshold = 400\n",
    "listOfCleanedId = dfOfIdsSplitLibOutput[dfOfIdsSplitLibOutput[\"Median_sequence_length\"] > medianSequenceLengthTreshold].index.tolist()\n",
    "print(\"Length of cleaned ids : {0:d}\".format(len(listOfCleanedId)))"
   ]
  },
  {
   "cell_type": "markdown",
   "metadata": {},
   "source": [
    "### Concat seqs.fna files"
   ]
  },
  {
   "cell_type": "code",
   "execution_count": 39,
   "metadata": {},
   "outputs": [],
   "source": [
    "fileOfAllSeqs = os.path.join(dDataOut,nameOfAllSeqsFile)"
   ]
  },
  {
   "cell_type": "code",
   "execution_count": 40,
   "metadata": {},
   "outputs": [],
   "source": [
    "# concat in pythonic way\n",
    "with open(fileOfAllSeqs,'wb') as wfd:\n",
    "    for Id in natsorted(listOfCleanedId):\n",
    "        dirOfIdSplitLib = os.path.join(dirOfSplitLibFiles,Id)\n",
    "        fileOfIdSplitLib = os.path.join(dirOfIdSplitLib,nameOfSeqsFile)\n",
    "        with open(fileOfIdSplitLib,'rb') as fd:\n",
    "            shutil.copyfileobj(fd, wfd)\n",
    "        fd.close()\n",
    "wfd.close()"
   ]
  },
  {
   "cell_type": "markdown",
   "metadata": {},
   "source": [
    "### Reject unvalitate candidate"
   ]
  },
  {
   "cell_type": "code",
   "execution_count": 41,
   "metadata": {},
   "outputs": [],
   "source": [
    "listOfIdToDrop = list(set(dfOfIdsSplitLibOutput.index.tolist()) - set(listOfCleanedId))\n",
    "dfOfIdsSplitLibOutput = dfOfIdsSplitLibOutput.drop(listOfIdToDrop)\n",
    "dfOfIdsSplitLibOutputDescribe =  dfOfIdsSplitLibOutput.describe()"
   ]
  },
  {
   "cell_type": "code",
   "execution_count": 42,
   "metadata": {},
   "outputs": [
    {
     "name": "stdout",
     "output_type": "stream",
     "text": [
      "Estimate minimal sequence length:\n",
      "349 < minSeqLen < 399\n"
     ]
    }
   ],
   "source": [
    "minMinSeq = int(dfOfIdsSplitLibOutputDescribe.loc[\"min\",\"Median_sequence_length\"]) - 100\n",
    "maxMinSeq = int(dfOfIdsSplitLibOutputDescribe.loc[\"min\",\"Median_sequence_length\"]) - 50               \n",
    "print(\"Estimate minimal sequence length:\\n{mn:d} < minSeqLen < {mx:d}\".format(mn=minMinSeq,mx=maxMinSeq))"
   ]
  },
  {
   "cell_type": "code",
   "execution_count": 43,
   "metadata": {},
   "outputs": [],
   "source": [
    "minSeqLen = 375"
   ]
  },
  {
   "cell_type": "markdown",
   "metadata": {},
   "source": [
    "### Clean min length with seqkit"
   ]
  },
  {
   "cell_type": "code",
   "execution_count": 44,
   "metadata": {},
   "outputs": [],
   "source": [
    "fileOfCleanedAllSeqs = os.path.join(dDataOut, \"{NBA:s}-clean-{FO:s}\".format(NBA=nameOfBatch,FO=nameOfAllSeqsFile))"
   ]
  },
  {
   "cell_type": "code",
   "execution_count": 45,
   "metadata": {},
   "outputs": [],
   "source": [
    "seqkit = \"/opt/anaconda3/bin/seqkit\"\n",
    "cat =  \"/bin/cat\""
   ]
  },
  {
   "cell_type": "code",
   "execution_count": 46,
   "metadata": {},
   "outputs": [],
   "source": [
    "print_output = True\n",
    "run = True"
   ]
  },
  {
   "cell_type": "code",
   "execution_count": 47,
   "metadata": {},
   "outputs": [
    {
     "name": "stdout",
     "output_type": "stream",
     "text": [
      "/bin/cat /home/srhuet/projets/Biscal_xp2_coal/data/out/16S-all_sequences.fna | /opt/anaconda3/bin/seqkit seq -m 375 > /home/srhuet/projets/Biscal_xp2_coal/data/out/16S-clean-16S-all_sequences.fna\n",
      "\u001b[33m[WARN]\u001b[0m you may switch on flag -g/--remove-gaps to remove spaces\n",
      "\n"
     ]
    }
   ],
   "source": [
    "seqkit_cmd = \"{bc:s} {fi:s} | {bsk:s} seq -m {ml:d} > {fo:s}\".format(\n",
    "    bc=cat,\n",
    "    fi=fileOfAllSeqs,\n",
    "    bsk=seqkit,\n",
    "    ml=minSeqLen,\n",
    "    fo=fileOfCleanedAllSeqs)\n",
    "if print_output:\n",
    "    print(seqkit_cmd)\n",
    "if run:\n",
    "    process = subprocess.Popen(\n",
    "        seqkit_cmd, shell=True, stdout=subprocess.PIPE, stderr=subprocess.PIPE)\n",
    "    (out, err) = process.communicate()\n",
    "    if out:\n",
    "        print(out.decode(\"utf-8\"))\n",
    "    if err:\n",
    "        print(err.decode(\"utf-8\"))"
   ]
  },
  {
   "cell_type": "markdown",
   "metadata": {},
   "source": [
    "## Remove large data "
   ]
  },
  {
   "cell_type": "code",
   "execution_count": 49,
   "metadata": {},
   "outputs": [
    {
     "ename": "NameError",
     "evalue": "name 'dfOfIdsPearOutput' is not defined",
     "output_type": "error",
     "traceback": [
      "\u001b[0;31m---------------------------------------------------------------------------\u001b[0m",
      "\u001b[0;31mNameError\u001b[0m                                 Traceback (most recent call last)",
      "\u001b[0;32m<ipython-input-49-81b1cdadf583>\u001b[0m in \u001b[0;36m<module>\u001b[0;34m\u001b[0m\n\u001b[0;32m----> 1\u001b[0;31m \u001b[0;32mdel\u001b[0m \u001b[0mdfOfIdsPearOutput\u001b[0m\u001b[0;34m\u001b[0m\u001b[0;34m\u001b[0m\u001b[0m\n\u001b[0m\u001b[1;32m      2\u001b[0m \u001b[0;32mdel\u001b[0m \u001b[0mdfOfIdsSplitLibOutput\u001b[0m\u001b[0;34m\u001b[0m\u001b[0;34m\u001b[0m\u001b[0m\n\u001b[1;32m      3\u001b[0m \u001b[0;32mdel\u001b[0m \u001b[0mdfOfIdsSplitLibOutputDescribe\u001b[0m\u001b[0;34m\u001b[0m\u001b[0;34m\u001b[0m\u001b[0m\n\u001b[1;32m      4\u001b[0m \u001b[0;31m#del listOfCleanedAllSeqsRecords\u001b[0m\u001b[0;34m\u001b[0m\u001b[0;34m\u001b[0m\u001b[0;34m\u001b[0m\u001b[0m\n\u001b[1;32m      5\u001b[0m \u001b[0;32mdel\u001b[0m \u001b[0mdictOfAllSeqsRecords\u001b[0m\u001b[0;34m\u001b[0m\u001b[0;34m\u001b[0m\u001b[0m\n",
      "\u001b[0;31mNameError\u001b[0m: name 'dfOfIdsPearOutput' is not defined"
     ]
    }
   ],
   "source": [
    "del dfOfIdsPearOutput\n",
    "del dfOfIdsSplitLibOutput\n",
    "del dfOfIdsSplitLibOutputDescribe\n",
    "#del listOfCleanedAllSeqsRecords\n",
    "del dictOfAllSeqsRecords"
   ]
  },
  {
   "cell_type": "markdown",
   "metadata": {},
   "source": [
    "# OTU picking"
   ]
  },
  {
   "cell_type": "code",
   "execution_count": 50,
   "metadata": {},
   "outputs": [],
   "source": [
    "print_output = False\n",
    "run = True"
   ]
  },
  {
   "cell_type": "markdown",
   "metadata": {},
   "source": [
    "## Reference dataset settings "
   ]
  },
  {
   "cell_type": "code",
   "execution_count": 51,
   "metadata": {},
   "outputs": [],
   "source": [
    "# 16S : \n",
    "fileOfDNARef = os.path.join(dGlobalDataReferences,\"16S/gold.fa\")\n",
    "#18S\n",
    "#fileOfDNARef = os.path.join(dGlobalDataSilvaQiime,\"rep_set/rep_set_18S_only/97/97_otus_18S.fasta\")"
   ]
  },
  {
   "cell_type": "markdown",
   "metadata": {},
   "source": [
    "## Settings"
   ]
  },
  {
   "cell_type": "code",
   "execution_count": 52,
   "metadata": {},
   "outputs": [],
   "source": [
    "# 16S\n",
    "vsearchIdentityThreshold = \"0.94\"\n",
    "# 18S\n",
    "#vsearchIdentityThreshold = \"0.94\"\n",
    "nameOfTheRun = \"{b:s}-2019-09-26-{it:s}\".format(b = nameOfBatch,it = vsearchIdentityThreshold)"
   ]
  },
  {
   "cell_type": "code",
   "execution_count": 53,
   "metadata": {},
   "outputs": [],
   "source": [
    "dDataRunExt = os.path.join(os.path.join(dDataRun,nameOfTheRun),\"ext\")\n",
    "dDataRunInt = os.path.join(os.path.join(dDataRun,nameOfTheRun),\"int\")\n",
    "dDataRunOut = os.path.join(os.path.join(dDataRun,nameOfTheRun),\"out\")\n",
    "if not os.path.exists(dDataRunExt):\n",
    "    os.makedirs(dDataRunExt)\n",
    "if not os.path.exists(dDataRunInt):\n",
    "    os.makedirs(dDataRunInt)\n",
    "if not os.path.exists(dDataRunOut):\n",
    "    os.makedirs(dDataRunOut)"
   ]
  },
  {
   "cell_type": "markdown",
   "metadata": {},
   "source": [
    "## Picking"
   ]
  },
  {
   "cell_type": "markdown",
   "metadata": {},
   "source": [
    "### Set variable names"
   ]
  },
  {
   "cell_type": "code",
   "execution_count": 54,
   "metadata": {},
   "outputs": [],
   "source": [
    "#Dereplicate\n",
    "fileOfDerep = os.path.join(dDataRunInt,\"all_seqs_derep.fna\")\n",
    "#Cluster\n",
    "fileOfCentroids = os.path.join(dDataRunInt,\"all_centroids.fna\")\n",
    "#Denovo Chimera Check\n",
    "fileOfDenovChimeraFREE = os.path.join(dDataRunInt,\"all_NODENOVOCHIMERA.fna\")\n",
    "fileOfDenovChimera = os.path.join(dDataRunInt,\"all_DENOVOCHIMERA.fna\")\n",
    "#Ref-based Chimera Check\n",
    "fileOfRefChimeraFREE = os.path.join(dDataRunInt,\"all_NO_CHIMERA.fna\")\n",
    "fileOfRefChimera = os.path.join(dDataRunInt,\"all_REFCHIMERA.fna\")\n",
    "#Sort-by-size\n",
    "# file output\n",
    "fileOfCleanSortedSeqs = os.path.join(dDataRunInt,\"all_CleanedSorted.fna\")\n",
    "#Re-Cluster\n",
    "fileOfCentroidsCleaned = os.path.join(dDataRunInt,\"all_cleaned_centroids.fna\")\n",
    "#Search and assign seqs to cluster\n",
    "fileOfOtuMapUC = os.path.join(dDataRunInt,\"all_otu_map.uc\")"
   ]
  },
  {
   "cell_type": "markdown",
   "metadata": {},
   "source": [
    "### Picking the OTUs"
   ]
  },
  {
   "cell_type": "code",
   "execution_count": 55,
   "metadata": {
    "scrolled": true
   },
   "outputs": [
    {
     "name": "stdout",
     "output_type": "stream",
     "text": [
      "vsearch v2.15.2_linux_x86_64, 125.9GB RAM, 40 cores\n",
      "https://github.com/torognes/vsearch\n",
      "\n",
      "Dereplicating file /home/srhuet/projets/Biscal_xp2_coal/data/out/16S-clean-16S-all_sequences.fna 100%\n",
      "945969368 nt in 2041102 seqs, min 375, max 490, avg 463\n",
      "Sorting 100%\n",
      "2036002 unique sequences, avg cluster 1.0, median 1, max 3\n",
      "Writing output file 100%\n",
      "\n",
      "vsearch v2.15.2_linux_x86_64, 125.9GB RAM, 40 cores\n",
      "https://github.com/torognes/vsearch\n",
      "\n",
      "Reading file /home/srhuet/projets/Biscal_xp2_coal/data/run/16S-2019-09-26-0.94/int/all_seqs_derep.fna 100%\n",
      "943609534 nt in 2036002 seqs, min 375, max 490, avg 463\n",
      "Masking 100%\n",
      "Counting k-mers 100%\n",
      "Clustering 100%\n",
      "Sorting clusters 100%\n",
      "Writing clusters 100%\n",
      "Clusters: 75887 Size min 1, max 203806, avg 26.8\n",
      "Singletons: 41362, 2.0% of seqs, 54.5% of clusters\n",
      "\n",
      "vsearch v2.15.2_linux_x86_64, 125.9GB RAM, 40 cores\n",
      "https://github.com/torognes/vsearch\n",
      "\n",
      "Reading file /home/srhuet/projets/Biscal_xp2_coal/data/run/16S-2019-09-26-0.94/int/all_centroids.fna 100%\n",
      "34995463 nt in 75887 seqs, min 375, max 490, avg 461\n",
      "Masking 100%\n",
      "Sorting by abundance 100%\n",
      "Counting k-mers 100%\n",
      "Detecting chimeras 100%\n",
      "Found 63689 (83.9%) chimeras, 12158 (16.0%) non-chimeras,\n",
      "and 40 (0.1%) borderline sequences in 75887 unique sequences.\n",
      "Taking abundance information into account, this corresponds to\n",
      "425064 (20.8%) chimeras, 1609927 (78.9%) non-chimeras,\n",
      "and 6111 (0.3%) borderline sequences in 2041102 total sequences.\n",
      "\n",
      "vsearch v2.15.2_linux_x86_64, 125.9GB RAM, 40 cores\n",
      "https://github.com/torognes/vsearch\n",
      "\n",
      "Reading file /vol/databases/collections/references/16S/gold.fa 100%\n",
      "15230724 nt in 10362 seqs, min 1205, max 1655, avg 1470\n",
      "Masking 100%\n",
      "Counting k-mers 100%\n",
      "Creating k-mer index 100%\n",
      "Detecting chimeras 100%\n",
      "Found 1615 (13.3%) chimeras, 10520 (86.5%) non-chimeras,\n",
      "and 23 (0.2%) borderline sequences in 12158 unique sequences.\n",
      "Taking abundance information into account, this corresponds to\n",
      "48725 (3.0%) chimeras, 1560554 (96.9%) non-chimeras,\n",
      "and 648 (0.0%) borderline sequences in 1609927 total sequences.\n",
      "\n",
      "vsearch v2.15.2_linux_x86_64, 125.9GB RAM, 40 cores\n",
      "https://github.com/torognes/vsearch\n",
      "\n",
      "Reading file /home/srhuet/projets/Biscal_xp2_coal/data/run/16S-2019-09-26-0.94/int/all_NO_CHIMERA.fna 100%\n",
      "4836075 nt in 10520 seqs, min 376, max 488, avg 460\n",
      "Getting sizes 100%\n",
      "Sorting 100%\n",
      "Median abundance: 40\n",
      "Writing output 100%\n",
      "\n",
      "vsearch v2.15.2_linux_x86_64, 125.9GB RAM, 40 cores\n",
      "https://github.com/torognes/vsearch\n",
      "\n",
      "Reading file /home/srhuet/projets/Biscal_xp2_coal/data/run/16S-2019-09-26-0.94/int/all_CleanedSorted.fna 100%\n",
      "1485587 nt in 3227 seqs, min 376, max 486, avg 460\n",
      "Masking 100%\n",
      "Counting k-mers 100%\n",
      "Clustering 100%\n",
      "Sorting clusters 100%\n",
      "Writing clusters 100%\n",
      "Clusters: 3227 Size min 10, max 203806, avg 1.0\n",
      "Singletons: 0, 0.0% of seqs, 0.0% of clusters\n",
      "\n",
      "vsearch v2.15.2_linux_x86_64, 125.9GB RAM, 40 cores\n",
      "https://github.com/torognes/vsearch\n",
      "\n",
      "Reading file /home/srhuet/projets/Biscal_xp2_coal/data/run/16S-2019-09-26-0.94/int/all_cleaned_centroids.fna 100%\n",
      "1485587 nt in 3227 seqs, min 376, max 486, avg 460\n",
      "Masking 100%\n",
      "Counting k-mers 100%\n",
      "Creating k-mer index 100%\n",
      "Searching 100%\n",
      "Matching unique query sequences: 1743012 of 2041102 (85.40%)\n",
      "\n"
     ]
    }
   ],
   "source": [
    "# running VSEARCH\n",
    "#Dereplicate\n",
    "vsearch_cmd_Derep = \"{bvsearch:s} --derep_fulllength {fin:s} --sizeout --output {fout:s}\".format(bvsearch=vsearch,\n",
    "                                                                                              fin=fileOfCleanedAllSeqs,\n",
    "                                                                                              fout=fileOfDerep)\n",
    "if print_output:\n",
    "    print(vsearch_cmd_Derep)\n",
    "if run:\n",
    "    process = subprocess.Popen(vsearch_cmd_Derep, shell = True, stdout=subprocess.PIPE, stderr=subprocess.PIPE)\n",
    "    (out,err) = process.communicate()     \n",
    "    if out:         \n",
    "        print(out.decode(\"utf-8\"))     \n",
    "    if err:         \n",
    "        print(err.decode(\"utf-8\"))\n",
    "\n",
    "#Cluster\n",
    "vsearch_cmd_Cluster = \"{bvsearch:s} --cluster_smallmem {fin:s} --id {it:s} --usersort --threads 10 --sizein --sizeout --relabel OTU- --centroids {fout:s}\".format(bvsearch=vsearch,\n",
    "                                            fin=fileOfDerep,\n",
    "                                            it = vsearchIdentityThreshold,\n",
    "                                            fout=fileOfCentroids)\n",
    "if print_output:\n",
    "    print(vsearch_cmd_Cluster)\n",
    "if run:\n",
    "    process = subprocess.Popen(vsearch_cmd_Cluster, shell = True, stdout=subprocess.PIPE, stderr=subprocess.PIPE)\n",
    "    (out,err) = process.communicate()     \n",
    "    if out:         \n",
    "        print(out.decode(\"utf-8\"))     \n",
    "    if err:         \n",
    "        print(err.decode(\"utf-8\"))\n",
    "\n",
    "#Denovo Chimera Check\n",
    "vsearch_cmd_DenovoChimera = \"{bvsearch:s} --uchime_denovo {fin:s} --nonchimeras {fout1:s} --chimeras {fout2:s} --sizein --sizeout\".format(bvsearch=vsearch,\n",
    "                  fin=fileOfCentroids,\n",
    "                  fout1=fileOfDenovChimeraFREE,\n",
    "                  fout2=fileOfDenovChimera)\n",
    "if print_output:\n",
    "    print(vsearch_cmd_DenovoChimera)\n",
    "if run:\n",
    "    process = subprocess.Popen(vsearch_cmd_DenovoChimera, shell = True, stdout=subprocess.PIPE, stderr=subprocess.PIPE)\n",
    "    (out,err) = process.communicate()     \n",
    "    if out:         \n",
    "        print(out.decode(\"utf-8\"))     \n",
    "    if err:         \n",
    "        print(err.decode(\"utf-8\"))\n",
    "\n",
    "#Ref-based Chimera Check\n",
    "vsearch_cmd_RefChimera = \"{bvsearch:s} --uchime_ref {fin:s} --db {fin2:s} --nonchimeras {fout1:s} --chimeras {fout2:s} --sizein --sizeout\".format(bvsearch=vsearch,\n",
    "                           fin=fileOfDenovChimeraFREE,\n",
    "                           fin2=fileOfDNARef,\n",
    "                           fout1=fileOfRefChimeraFREE,\n",
    "                           fout2=fileOfRefChimera)                                                                                                                                               \n",
    "if print_output:\n",
    "    print(vsearch_cmd_RefChimera)\n",
    "if run:\n",
    "    process = subprocess.Popen(vsearch_cmd_RefChimera, shell = True, stdout=subprocess.PIPE, stderr=subprocess.PIPE)\n",
    "    (out,err) = process.communicate()\n",
    "    if out:         \n",
    "        print(out.decode(\"utf-8\"))     \n",
    "    if err:         \n",
    "        print(err.decode(\"utf-8\"))\n",
    "\n",
    "#Sort-by-size\n",
    "# file output\n",
    "vsearch_cmd_Sort = \"{bvsearch:s} --sortbysize {fin:s} --minsize 10 --sizeout --output {fout:s}\".format(bvsearch=vsearch,\n",
    "                  fin=fileOfRefChimeraFREE,\n",
    "                  fout=fileOfCleanSortedSeqs)\n",
    "if print_output:\n",
    "    print(vsearch_cmd_Sort)\n",
    "if run:\n",
    "    process = subprocess.Popen(vsearch_cmd_Sort, shell = True, stdout=subprocess.PIPE, stderr=subprocess.PIPE)\n",
    "    (out,err) = process.communicate()     \n",
    "    if out:         \n",
    "        print(out.decode(\"utf-8\"))     \n",
    "    if err:         \n",
    "        print(err.decode(\"utf-8\"))\n",
    "    \n",
    "#Re-Cluster\n",
    "vsearch_cmd_Cluster = \"{bvsearch:s} --cluster_smallmem {fin:s} --id {it:s} --usersort --threads 10 --centroids {fout:s} --sizein --sizeout\".format(bvsearch = vsearch,\n",
    "                           fin = fileOfCleanSortedSeqs,\n",
    "                           it = vsearchIdentityThreshold,\n",
    "                           fout = fileOfCentroidsCleaned)\n",
    "if print_output:\n",
    "    print(vsearch_cmd_Cluster)\n",
    "if run:\n",
    "    process = subprocess.Popen(vsearch_cmd_Cluster, shell = True, stdout=subprocess.PIPE, stderr=subprocess.PIPE)\n",
    "    (out,err) = process.communicate()     \n",
    "    if out:         \n",
    "        print(out.decode(\"utf-8\"))     \n",
    "    if err:         \n",
    "        print(err.decode(\"utf-8\"))\n",
    "        \n",
    "# Clean ID (remove ';size=\\d+;' from ID) for fileOfCentroidsCleaned\n",
    "sedCmd = \"{bs:s} -i '/^>/ s/;.*//' {f:s}\".format(bs = sed, f = fileOfCentroidsCleaned)\n",
    "if print_output:\n",
    "    print(sedCmd)\n",
    "if run:\n",
    "    process = subprocess.Popen(sedCmd, shell = True, stdout=subprocess.PIPE, stderr=subprocess.PIPE)\n",
    "    (out,err) = process.communicate()     \n",
    "    if out:         \n",
    "        print(out.decode(\"utf-8\"))     \n",
    "    if err:         \n",
    "        print(err.decode(\"utf-8\"))\n",
    "\n",
    "#Search and assign seqs to cluster\n",
    "vsearch_cmd_Search = \"{bvsearch:s} --usearch_global {fin:s} --db {fin2:s} --strand plus --id {it:s} --uc {fout:s}\".format(bvsearch=vsearch,\n",
    "                 fin=fileOfCleanedAllSeqs,\n",
    "                 fin2=fileOfCentroidsCleaned,\n",
    "                 it = vsearchIdentityThreshold,\n",
    "                 fout=fileOfOtuMapUC)\n",
    "if print_output:\n",
    "    print(vsearch_cmd_Search)\n",
    "if run:\n",
    "    process = subprocess.Popen(vsearch_cmd_Search, shell = True, stdout=subprocess.PIPE, stderr=subprocess.PIPE)\n",
    "    (out,err) = process.communicate()     \n",
    "    if out:         \n",
    "        print(out.decode(\"utf-8\"))     \n",
    "    if err:         \n",
    "        print(err.decode(\"utf-8\"))"
   ]
  },
  {
   "cell_type": "markdown",
   "metadata": {},
   "source": [
    "## Convert otu map"
   ]
  },
  {
   "cell_type": "code",
   "execution_count": 56,
   "metadata": {},
   "outputs": [],
   "source": [
    "convert_otu_map = os.path.join(dBinExt,\"mesas-uc2clust.py\")\n",
    "#Output File\n",
    "fileOfOtuMapTXT = os.path.join(dDataRunInt,\"all_otumap.txt\")"
   ]
  },
  {
   "cell_type": "code",
   "execution_count": 66,
   "metadata": {},
   "outputs": [
    {
     "name": "stdout",
     "output_type": "stream",
     "text": [
      "/opt/anaconda3/envs/python2/bin/python2.7 /home/srhuet/projets/Biscal_xp2_coal/bin/ext/mesas-uc2clust.py /home/srhuet/projets/Biscal_xp2_coal/data/run/16S-2019-09-26-0.94/int/all_otu_map.uc /home/srhuet/projets/Biscal_xp2_coal/data/run/16S-2019-09-26-0.94/int/all_otumap.txt\n"
     ]
    }
   ],
   "source": [
    "#Convert OTU map to .txt format\n",
    "convertOtumap_cmd = \"{bpython:s} {bconvert_otu_map:s} {fin:s} {fout:s}\".format(bpython=snake,\n",
    "                                                                               bconvert_otu_map=convert_otu_map,\n",
    "                                                                               fin=fileOfOtuMapUC,\n",
    "                                                                               fout=fileOfOtuMapTXT)\n",
    "if print_output:\n",
    "    print(convertOtumap_cmd)\n",
    "if run:\n",
    "    process = subprocess.Popen(convertOtumap_cmd, shell = True, stdout=subprocess.PIPE, stderr=subprocess.PIPE)\n",
    "    (out,err) = process.communicate()     \n",
    "    if out:         \n",
    "        print(out.decode(\"utf-8\"))     \n",
    "    if err:         \n",
    "        print(err.decode(\"utf-8\"))"
   ]
  },
  {
   "cell_type": "markdown",
   "metadata": {},
   "source": [
    "## Assign taxonomy"
   ]
  },
  {
   "cell_type": "markdown",
   "metadata": {},
   "source": [
    "### 16S"
   ]
  },
  {
   "cell_type": "code",
   "execution_count": 67,
   "metadata": {},
   "outputs": [
    {
     "name": "stdout",
     "output_type": "stream",
     "text": [
      "env: RDP_JAR_PATH=/opt/anaconda3/envs/python2/bin/rdp_classifier-2.2.jar\n"
     ]
    }
   ],
   "source": [
    "%env RDP_JAR_PATH=/opt/anaconda3/envs/python2/bin/rdp_classifier-2.2.jar"
   ]
  },
  {
   "cell_type": "code",
   "execution_count": 68,
   "metadata": {},
   "outputs": [],
   "source": [
    "### cas du 16S ###\n",
    "dirOfTaxoDynOutput = os.path.join(dDataRunInt,\"taxo_{0:s}\".format(vsearchIdentityThreshold))"
   ]
  },
  {
   "cell_type": "code",
   "execution_count": null,
   "metadata": {},
   "outputs": [
    {
     "name": "stdout",
     "output_type": "stream",
     "text": [
      "/opt/anaconda3/envs/python2/bin/assign_taxonomy.py -m rdp -i /home/srhuet/projets/Biscal_xp2_coal/data/run/16S-2019-09-26-0.94/int/all_cleaned_centroids.fna -o /home/srhuet/projets/Biscal_xp2_coal/data/run/16S-2019-09-26-0.94/int/taxo_0.94\n"
     ]
    }
   ],
   "source": [
    "### cas du 16S ###\n",
    "assign_taxo_cmd = \"{bassign_taxo:s} -m rdp -i {fin:s} -o {fout:s}\".format(bassign_taxo=assign_taxo,\n",
    "                                                                            fin=fileOfCentroidsCleaned,\n",
    "                                                                            fout=dirOfTaxoDynOutput)\n",
    "if print_output:\n",
    "    print(assign_taxo_cmd)\n",
    "if run:\n",
    "    process = subprocess.Popen(assign_taxo_cmd, shell = True, stdout=subprocess.PIPE, stderr=subprocess.PIPE)\n",
    "    (out,err) = process.communicate()     \n",
    "    if out:         \n",
    "        print(out.decode(\"utf-8\"))     \n",
    "    if err:         \n",
    "        print(err.decode(\"utf-8\"))"
   ]
  },
  {
   "cell_type": "markdown",
   "metadata": {},
   "source": [
    "## Make otu table"
   ]
  },
  {
   "cell_type": "code",
   "execution_count": 61,
   "metadata": {},
   "outputs": [],
   "source": [
    "print_output = True"
   ]
  },
  {
   "cell_type": "code",
   "execution_count": 62,
   "metadata": {},
   "outputs": [],
   "source": [
    "fileOfTaxoDynOutput = os.path.join(dirOfTaxoDynOutput,\"all_cleaned_centroids_tax_assignments.txt\")\n",
    "fileOfBiomOTUTable = os.path.join(dDataRunInt,\"otu_table.biom\")"
   ]
  },
  {
   "cell_type": "code",
   "execution_count": 63,
   "metadata": {},
   "outputs": [
    {
     "name": "stdout",
     "output_type": "stream",
     "text": [
      "/opt/anaconda3/envs/python2/bin/make_otu_table.py -i /home/srhuet/projets/Biscal_xp2_coal/data/run/16S-2019-09-26-0.94/int/all_otumap.txt -t /home/srhuet/projets/Biscal_xp2_coal/data/run/16S-2019-09-26-0.94/int/taxo_0.94/all_cleaned_centroids_tax_assignments.txt -o /home/srhuet/projets/Biscal_xp2_coal/data/run/16S-2019-09-26-0.94/int/otu_table.biom\n",
      "Error in make_otu_table.py: option -i: file does not exist: '/home/srhuet/projets/Biscal_xp2_coal/data/run/16S-2019-09-26-0.94/int/all_otumap.txt'\n",
      "\n",
      "If you need help with QIIME, see:\n",
      "http://help.qiime.org\n",
      "\n"
     ]
    }
   ],
   "source": [
    "make_otu_table_cmd = \"{bmake_otu_table:s} -i {fin:s} -t {taxin:s} -o {fout:s}\".format(bmake_otu_table = make_otu_table,\n",
    "                                                                                      fin = fileOfOtuMapTXT,\n",
    "                                                                                      taxin=fileOfTaxoDynOutput,\n",
    "                                                                                      fout=fileOfBiomOTUTable)\n",
    "if print_output:\n",
    "    print(make_otu_table_cmd)\n",
    "if run:\n",
    "    process = subprocess.Popen(make_otu_table_cmd, shell = True, stdout=subprocess.PIPE, stderr=subprocess.PIPE)\n",
    "    (out,err) = process.communicate()     \n",
    "    if out:         \n",
    "        print(out.decode(\"utf-8\"))     \n",
    "    if err:         \n",
    "        print(err.decode(\"utf-8\"))"
   ]
  },
  {
   "cell_type": "markdown",
   "metadata": {},
   "source": [
    "## Convert otu table to txt"
   ]
  },
  {
   "cell_type": "code",
   "execution_count": 64,
   "metadata": {},
   "outputs": [],
   "source": [
    "fileOfClassicOTUTable = os.path.join(dDataRunInt,\"otu_table.csv\")"
   ]
  },
  {
   "cell_type": "code",
   "execution_count": 65,
   "metadata": {},
   "outputs": [
    {
     "name": "stdout",
     "output_type": "stream",
     "text": [
      "/opt/anaconda3/envs/python2/bin/biom convert -i /home/srhuet/projets/Biscal_xp2_coal/data/run/16S-2019-09-26-0.94/int/otu_table.biom -o /home/srhuet/projets/Biscal_xp2_coal/data/run/16S-2019-09-26-0.94/int/otu_table.csv --to-tsv --header-key taxonomy\n",
      "Usage: biom convert [OPTIONS]\n",
      "\n",
      "Error: Invalid value for \"-i\" / \"--input-fp\": Path \"/home/srhuet/projets/Biscal_xp2_coal/data/run/16S-2019-09-26-0.94/int/otu_table.biom\" does not exist.\n",
      "\n"
     ]
    }
   ],
   "source": [
    "#output file\n",
    "biom_convert_cmd = \"{bbiom:s} convert -i {fin:s} -o {fout:s} --to-tsv --header-key taxonomy\".format(bbiom=biom_convert,\n",
    "                                                                                            fin=fileOfBiomOTUTable,\n",
    "                                                                                            fout=fileOfClassicOTUTable)\n",
    "if print_output:\n",
    "    print(biom_convert_cmd)\n",
    "if run:\n",
    "    process = subprocess.Popen(biom_convert_cmd, shell = True, stdout=subprocess.PIPE, stderr=subprocess.PIPE)\n",
    "    (out,err) = process.communicate()     \n",
    "    if out:         \n",
    "        print(out.decode(\"utf-8\"))     \n",
    "    if err:         \n",
    "        print(err.decode(\"utf-8\"))"
   ]
  },
  {
   "cell_type": "code",
   "execution_count": null,
   "metadata": {},
   "outputs": [],
   "source": [
    "dfOfClassicOTUTable = pd.read_csv(fileOfClassicOTUTable, sep = \"\\t\",header=1)"
   ]
  },
  {
   "cell_type": "code",
   "execution_count": null,
   "metadata": {
    "scrolled": true
   },
   "outputs": [],
   "source": [
    "dfOfClassicOTUTable.head(30)"
   ]
  },
  {
   "cell_type": "markdown",
   "metadata": {},
   "source": [
    "## Check MOCK size"
   ]
  },
  {
   "cell_type": "code",
   "execution_count": null,
   "metadata": {},
   "outputs": [],
   "source": [
    "dfOfClassicOTUTable.astype(bool).sum()"
   ]
  },
  {
   "cell_type": "markdown",
   "metadata": {},
   "source": [
    "# Diversity indices"
   ]
  },
  {
   "cell_type": "code",
   "execution_count": null,
   "metadata": {},
   "outputs": [],
   "source": [
    "print_output = True\n",
    "run = True"
   ]
  },
  {
   "cell_type": "markdown",
   "metadata": {},
   "source": [
    "## Set indices"
   ]
  },
  {
   "cell_type": "code",
   "execution_count": null,
   "metadata": {},
   "outputs": [],
   "source": [
    "indices = \"chao1,dominance,equitability,observed_species,shannon,simpson_reciprocal,PD_whole_tree\""
   ]
  },
  {
   "cell_type": "markdown",
   "metadata": {},
   "source": [
    "## 5.0 binaries"
   ]
  },
  {
   "cell_type": "code",
   "execution_count": null,
   "metadata": {},
   "outputs": [],
   "source": [
    "multiple_rarefactions = \"/opt/anaconda3/envs/python2/bin/multiple_rarefactions.py\"\n",
    "summarize_taxa = \"/opt/anaconda3/envs/python2/bin/summarize_taxa_through_plots.py\"\n",
    "cmalign = \"/opt/anaconda3/bin/cmalign\"\n",
    "esl_reformat = \"/opt/anaconda3/bin/esl-reformat\"\n",
    "make_phylogeny = \"/opt/anaconda3/envs/python2/bin/make_phylogeny.py\"\n",
    "alpha_diversity = \"/opt/anaconda3/envs/python2/bin/alpha_diversity.py\"\n",
    "collate_alpha = \"/opt/anaconda3/envs/python2/bin/collate_alpha.py\"\n",
    "make_rarefaction_plots = \"/opt/anaconda3/envs/python2/bin/make_rarefaction_plots.py\"\n",
    "beta_diversity = \"/opt/anaconda3/envs/python2/bin/beta_diversity.py\"\n",
    "principal_coordinates = \"/opt/anaconda3/envs/python2/bin/principal_coordinates.py\"\n",
    "make_emperor = \"/opt/anaconda3/envs/python2/bin/make_emperor.py\"\n",
    "biom = \"/opt/anaconda3/envs/python2/bin/biom\" "
   ]
  },
  {
   "cell_type": "code",
   "execution_count": null,
   "metadata": {},
   "outputs": [],
   "source": [
    "# summarize-table\n",
    "fileOfBiomSummarizeTable = os.path.join(dDataRunInt,\"otu_table.summarize.txt\")"
   ]
  },
  {
   "cell_type": "code",
   "execution_count": null,
   "metadata": {},
   "outputs": [],
   "source": [
    "# summarize-table\n",
    "biomsum_cmd = \"{bbs:s} summarize-table -i {fin:s} > {fout:s}\".format(bbs=biom,\n",
    "                                                                    fin=fileOfBiomOTUTable,\n",
    "                                                                    fout=fileOfBiomSummarizeTable)\n",
    "if print_output:\n",
    "    print(biomsum_cmd)\n",
    "if run:\n",
    "    process = subprocess.Popen(biomsum_cmd, shell = True, stdout=subprocess.PIPE, stderr=subprocess.PIPE)\n",
    "    (out,err) = process.communicate()     \n",
    "    if out:         \n",
    "        print(out.decode(\"utf-8\"))     \n",
    "    if err:         \n",
    "        print(err.decode(\"utf-8\"))"
   ]
  },
  {
   "cell_type": "code",
   "execution_count": null,
   "metadata": {},
   "outputs": [],
   "source": [
    "pattern = re.compile(r\"(?P<ID>[\\w-]+):\\s(?P<SIZE>[\\d.]+)\")\n",
    "counts_sample_detail = \"Counts/sample detail\"\n",
    "counts_sample_detailFlag = False\n",
    "listOfSummarizeId = []\n",
    "listOfSummarizeValue = []\n",
    "with open(fileOfBiomSummarizeTable,\"r\") as fh:\n",
    "    for line in fh.readlines():\n",
    "        if not counts_sample_detailFlag:\n",
    "            print(line.strip())\n",
    "            if re.search(counts_sample_detail,line):\n",
    "                counts_sample_detailFlag = True\n",
    "        else:\n",
    "            m = re.match(pattern,line.strip())\n",
    "            if m:\n",
    "                listOfSummarizeId.append(m.group(\"ID\"))\n",
    "                listOfSummarizeValue.append(int(float(m.group(\"SIZE\"))))\n",
    "            else:\n",
    "                print(\"Error on |{0:s}|\".format(line.strip()))"
   ]
  },
  {
   "cell_type": "code",
   "execution_count": null,
   "metadata": {},
   "outputs": [],
   "source": [
    "x_pos = np.arange(len(listOfSummarizeId))\n",
    "#plt.figure(figsize=(40,20))\n",
    "plt.plot(x_pos,listOfSummarizeValue)\n",
    "#plt.xticks(x_pos, listOfSummarizeId)\n",
    "plt.grid(True)\n",
    "plt.show()"
   ]
  },
  {
   "cell_type": "code",
   "execution_count": null,
   "metadata": {},
   "outputs": [],
   "source": [
    "print_output = True\n",
    "run = True"
   ]
  },
  {
   "cell_type": "code",
   "execution_count": null,
   "metadata": {},
   "outputs": [],
   "source": [
    "minimalDepth = \"9000\""
   ]
  },
  {
   "cell_type": "markdown",
   "metadata": {},
   "source": [
    "## Align sequences"
   ]
  },
  {
   "cell_type": "markdown",
   "metadata": {},
   "source": [
    "### Set reference cm file for alignements with infernal"
   ]
  },
  {
   "cell_type": "markdown",
   "metadata": {},
   "source": [
    "#### 16S"
   ]
  },
  {
   "cell_type": "code",
   "execution_count": null,
   "metadata": {},
   "outputs": [],
   "source": [
    "fileOfRefCM = os.path.join(dGlobalDataSilva132,\"cm_files/SILVA_132_SSURef_Nr99_tax_silva_full_align_trunc.cm\")"
   ]
  },
  {
   "cell_type": "markdown",
   "metadata": {},
   "source": [
    "#### 18S"
   ]
  },
  {
   "cell_type": "code",
   "execution_count": null,
   "metadata": {},
   "outputs": [],
   "source": [
    "fileOfRefCM = os.path.join(dGlobalDataSilva132,\"cm_files/SILVA_132_LSURef_tax_silva_full_align_trunc.cm\")"
   ]
  },
  {
   "cell_type": "markdown",
   "metadata": {},
   "source": [
    "### Sequences alignement with infernal"
   ]
  },
  {
   "cell_type": "code",
   "execution_count": null,
   "metadata": {},
   "outputs": [],
   "source": [
    "dirOfAlignSeqs = os.path.join(dDataRunInt,\"align_seqs.d\")\n",
    "if not os.path.exists(dirOfAlignSeqs):\n",
    "    os.makedirs(dirOfAlignSeqs)"
   ]
  },
  {
   "cell_type": "code",
   "execution_count": null,
   "metadata": {},
   "outputs": [],
   "source": [
    "fileOfAlignSTO = os.path.join(dirOfAlignSeqs,\"all_cleaned_centroids_aligned.sto\")\n",
    "n_cpu = 10"
   ]
  },
  {
   "cell_type": "code",
   "execution_count": null,
   "metadata": {},
   "outputs": [],
   "source": [
    "# align_seqs with infernal\n",
    "cmalign_cmd = \"{BCN:s} --cpu {CPU:d} -o {FOUT:s} {CMF:s} {FIN:s}\".format(BCN = cmalign,\n",
    "                                                                         CPU = n_cpu,\n",
    "                                                                         FOUT = fileOfAlignSTO,\n",
    "                                                                         CMF = fileOfRefCM,\n",
    "                                                                         FIN = fileOfCentroidsCleaned)\n",
    "if print_output:\n",
    "    print(cmalign_cmd)\n",
    "if run:\n",
    "    process = subprocess.Popen(cmalign_cmd, shell = True, stdout=subprocess.PIPE, stderr=subprocess.PIPE)\n",
    "    (out,err) = process.communicate()     \n",
    "    if out:         \n",
    "        print(out.decode(\"utf-8\"))     \n",
    "    if err:         \n",
    "        print(err.decode(\"utf-8\"))"
   ]
  },
  {
   "cell_type": "markdown",
   "metadata": {},
   "source": [
    "### Reformat sequences alignements Stockholm -> fasta (asa)"
   ]
  },
  {
   "cell_type": "code",
   "execution_count": null,
   "metadata": {},
   "outputs": [],
   "source": [
    "fileOfAlignFASTA = os.path.join(dirOfAlignSeqs,\"all_cleaned_centroids_aligned.fasta\")\n",
    "# afa format is a fasta format with alignements data, be carefull gaps are noted with dot\n",
    "align_format = \"afa\""
   ]
  },
  {
   "cell_type": "code",
   "execution_count": null,
   "metadata": {},
   "outputs": [],
   "source": [
    "esl_reformat_cmd = \"{BET:s} -d -u --gapsym=- -o {FOUT:s} {FORMAT:s} {FIN:s}\".format(BET = esl_reformat,\n",
    "                                                                                    FOUT = fileOfAlignFASTA,\n",
    "                                                                                    FORMAT = align_format,\n",
    "                                                                                    FIN = fileOfAlignSTO)\n",
    "if print_output:\n",
    "    print(esl_reformat_cmd)\n",
    "if run:\n",
    "    process = subprocess.Popen(esl_reformat_cmd, shell = True, stdout=subprocess.PIPE, stderr=subprocess.PIPE)\n",
    "    (out,err) = process.communicate()     \n",
    "    if out:         \n",
    "        print(out.decode(\"utf-8\"))     \n",
    "    if err:         \n",
    "        print(err.decode(\"utf-8\"))                                                                                    "
   ]
  },
  {
   "cell_type": "markdown",
   "metadata": {},
   "source": [
    "## Make phylogeny"
   ]
  },
  {
   "cell_type": "code",
   "execution_count": null,
   "metadata": {},
   "outputs": [],
   "source": [
    "# make_phylogeny\n",
    "fileOfMakePhylogeny = os.path.join(dDataRunOut,\"phylogeny.tre\")"
   ]
  },
  {
   "cell_type": "code",
   "execution_count": null,
   "metadata": {},
   "outputs": [],
   "source": [
    "# make_phylogeny\n",
    "makephylo_cmd = \"{bmp:s} -i {fin:s} -o {fout:s}\".format(bmp=make_phylogeny,\n",
    "                                                        fin=fileOfAlignFASTA,\n",
    "                                                        fout=fileOfMakePhylogeny)\n",
    "if print_output:\n",
    "    print(makephylo_cmd)\n",
    "if run:\n",
    "    process = subprocess.Popen(makephylo_cmd, shell = True, stdout=subprocess.PIPE, stderr=subprocess.PIPE)\n",
    "    (out,err) = process.communicate()     \n",
    "    if out:         \n",
    "        print(out.decode(\"utf-8\"))     \n",
    "    if err:         \n",
    "        print(err.decode(\"utf-8\"))"
   ]
  },
  {
   "cell_type": "markdown",
   "metadata": {},
   "source": [
    "## Multiple rarefaction"
   ]
  },
  {
   "cell_type": "code",
   "execution_count": null,
   "metadata": {},
   "outputs": [],
   "source": [
    "dirOfMultipleRarefactions = os.path.join(dDataRunOut,\"multiple_rarefactions.d\")"
   ]
  },
  {
   "cell_type": "code",
   "execution_count": null,
   "metadata": {},
   "outputs": [],
   "source": [
    "# multiple_rarefaction\n",
    "mrarefactions_cmd = \"{bmr:s} -i {fin:s} -m 1000 -x {depth:s} -s 500 --lineages_included -o {fout:s}\".format(bmr=multiple_rarefactions,\n",
    "                 fin=fileOfBiomOTUTable,\n",
    "                 depth=minimalDepth,\n",
    "                 fout=dirOfMultipleRarefactions)\n",
    "if print_output:\n",
    "    print(mrarefactions_cmd)\n",
    "if run:\n",
    "    process = subprocess.Popen(mrarefactions_cmd, shell = True, stdout=subprocess.PIPE, stderr=subprocess.PIPE)\n",
    "    (out,err) = process.communicate()     \n",
    "    if out:         \n",
    "        print(out.decode(\"utf-8\"))     \n",
    "    if err:         \n",
    "        print(err.decode(\"utf-8\"))"
   ]
  },
  {
   "cell_type": "markdown",
   "metadata": {},
   "source": [
    "## Alpha diversity"
   ]
  },
  {
   "cell_type": "code",
   "execution_count": null,
   "metadata": {},
   "outputs": [],
   "source": [
    "# Alpha diversity\n",
    "dirOfAlphaDiversity = os.path.join(dDataRunOut,\"alpha_diversity.d\")"
   ]
  },
  {
   "cell_type": "code",
   "execution_count": null,
   "metadata": {},
   "outputs": [],
   "source": [
    "# Alpha diversity\n",
    "alphadiv_cmd = \"{bad:s} -i {fin:s} -m {ind:s} -t {tre:s} -o {fout:s}\".format(bad=alpha_diversity,\n",
    "                                                                  fin=dirOfMultipleRarefactions,\n",
    "                                                                  ind=indices,\n",
    "                                                                  tre=fileOfMakePhylogeny,           \n",
    "                                                                  fout=dirOfAlphaDiversity)\n",
    "if print_output:\n",
    "    print(alphadiv_cmd)\n",
    "if run:\n",
    "    process = subprocess.Popen(alphadiv_cmd, shell = True, stdout=subprocess.PIPE, stderr=subprocess.PIPE)\n",
    "    (out,err) = process.communicate()     \n",
    "    if out:         \n",
    "        print(out.decode(\"utf-8\"))     \n",
    "    if err:         \n",
    "        print(err.decode(\"utf-8\"))"
   ]
  },
  {
   "cell_type": "markdown",
   "metadata": {},
   "source": [
    "## Collate alpha"
   ]
  },
  {
   "cell_type": "code",
   "execution_count": null,
   "metadata": {},
   "outputs": [],
   "source": [
    "#collate_alpha\n",
    "dirOfCollateAlpha = os.path.join(dDataRunOut,\"collate_alpha.d\")"
   ]
  },
  {
   "cell_type": "code",
   "execution_count": null,
   "metadata": {},
   "outputs": [],
   "source": [
    "#collate_alpha\n",
    "collatealpha_cmd = \"{bca:s} -i {fin:s} -o {fout:s}\".format(bca=collate_alpha,\n",
    "                                                                  fin=dirOfAlphaDiversity,\n",
    "                                                                  fout=dirOfCollateAlpha)\n",
    "if print_output:\n",
    "    print(collatealpha_cmd)\n",
    "if run:\n",
    "    process = subprocess.Popen(collatealpha_cmd, shell = True, stdout=subprocess.PIPE, stderr=subprocess.PIPE)\n",
    "    (out,err) = process.communicate()     \n",
    "    if out:         \n",
    "        print(out.decode(\"utf-8\"))     \n",
    "    if err:         \n",
    "        print(err.decode(\"utf-8\"))"
   ]
  },
  {
   "cell_type": "markdown",
   "metadata": {},
   "source": [
    "## Make rarefaction plots"
   ]
  },
  {
   "cell_type": "code",
   "execution_count": null,
   "metadata": {},
   "outputs": [],
   "source": [
    "print_output = True\n",
    "run = True"
   ]
  },
  {
   "cell_type": "markdown",
   "metadata": {},
   "source": [
    "### Load mapping file"
   ]
  },
  {
   "cell_type": "code",
   "execution_count": null,
   "metadata": {},
   "outputs": [],
   "source": [
    "fileOfMappingIdXP = os.path.join(dDataExt,\"Mapping_file_xp2_coal.txt\")\n",
    "nameOfMappingFile = os.path.splitext(os.path.basename(fileOfMappingIdXP.replace(\" \",\"\")))[0]"
   ]
  },
  {
   "cell_type": "markdown",
   "metadata": {},
   "source": [
    "### Make the Alpha Plots"
   ]
  },
  {
   "cell_type": "code",
   "execution_count": null,
   "metadata": {},
   "outputs": [],
   "source": [
    "dirOfMakeRarefactionPlot = os.path.join(dDataRunOut,\"{mf:s}/alpha_plot\".format(mf=nameOfMappingFile))"
   ]
  },
  {
   "cell_type": "code",
   "execution_count": null,
   "metadata": {},
   "outputs": [],
   "source": [
    "# make_rarefaction_plot\n",
    "mrareplot_cmd = \"{bmrp:s} -i {fin:s} -m {mapp:s} -o {fout:s}\".format(bmrp=make_rarefaction_plots,\n",
    "                                                                    fin=dirOfCollateAlpha,\n",
    "                                                                    mapp=fileOfMappingIdXP,\n",
    "                                                                    fout=dirOfMakeRarefactionPlot)\n",
    "if print_output:\n",
    "    print(mrareplot_cmd)\n",
    "if run:\n",
    "    process = subprocess.Popen(mrareplot_cmd, shell = True, stdout=subprocess.PIPE, stderr=subprocess.PIPE)\n",
    "    (out,err) = process.communicate()     \n",
    "    if out:         \n",
    "        print(out.decode(\"utf-8\"))     \n",
    "    if err:         \n",
    "        print(err.decode(\"utf-8\"))"
   ]
  },
  {
   "cell_type": "markdown",
   "metadata": {},
   "source": [
    "### The alpha plots link"
   ]
  },
  {
   "cell_type": "code",
   "execution_count": null,
   "metadata": {},
   "outputs": [],
   "source": [
    "rarefactionPlotsLinks = \"<a href=\\\"../data/run/{run:s}/out/{mf:s}/alpha_plot/rarefaction_plots.html\\\" target=\\\"_blank\\\">Link to Alpha Plots</a>\".format(run=nameOfTheRun,mf=nameOfMappingFile)\n",
    "display(Markdown(rarefactionPlotsLinks))"
   ]
  },
  {
   "cell_type": "markdown",
   "metadata": {},
   "source": [
    "## Beta diversity (unifrac, bray-curtis)"
   ]
  },
  {
   "cell_type": "markdown",
   "metadata": {},
   "source": [
    "### Set list of metrics"
   ]
  },
  {
   "cell_type": "code",
   "execution_count": null,
   "metadata": {},
   "outputs": [],
   "source": [
    "listOfMetrics = [\"unweighted_unifrac\",\"weighted_unifrac\",\"bray_curtis\"]"
   ]
  },
  {
   "cell_type": "code",
   "execution_count": null,
   "metadata": {},
   "outputs": [],
   "source": [
    "metrics = \",\".join(listOfMetrics)"
   ]
  },
  {
   "cell_type": "markdown",
   "metadata": {},
   "source": [
    "### Compute Beta diversity (16S)"
   ]
  },
  {
   "cell_type": "code",
   "execution_count": null,
   "metadata": {},
   "outputs": [],
   "source": [
    "# beta_diversity (unifrag, bray-curtis)\n",
    "fileOfRarefactionBiomTable=os.path.join(dirOfMultipleRarefactions,\"rarefaction_{md:s}_0.biom\".format(md=minimalDepth))"
   ]
  },
  {
   "cell_type": "code",
   "execution_count": null,
   "metadata": {},
   "outputs": [],
   "source": [
    "# beta_diversity (unifrag, bray-curtis)\n",
    "dirOfBetaDiversity = os.path.join(dDataRunOut,\"{mf:s}/beta_diversity.d\".format(mf=nameOfMappingFile))\n",
    "betadiv_cmd = \"{bbd:s} -i {fin:s} -m {met:s} -t {tre:s} -o {fout:s}\".format(bbd=beta_diversity,\n",
    "                                                                    fin=fileOfRarefactionBiomTable,\n",
    "                                                                    met=metrics,\n",
    "                                                                    tre=fileOfMakePhylogeny,\n",
    "                                                                    fout=dirOfBetaDiversity)\n",
    "if print_output:\n",
    "    print(betadiv_cmd)\n",
    "if run:\n",
    "    process = subprocess.Popen(betadiv_cmd, shell = True, stdout=subprocess.PIPE, stderr=subprocess.PIPE)\n",
    "    (out,err) = process.communicate()     \n",
    "    if out:         \n",
    "        print(out.decode(\"utf-8\"))     \n",
    "    if err:         \n",
    "        print(err.decode(\"utf-8\"))"
   ]
  },
  {
   "cell_type": "markdown",
   "metadata": {},
   "source": [
    "## Principal coordinates"
   ]
  },
  {
   "cell_type": "code",
   "execution_count": null,
   "metadata": {},
   "outputs": [],
   "source": [
    "dirOfPrincipaleCoordinates = os.path.join(dDataRunOut,\"{mf:s}/principale_coordinates.d\".format(mf=nameOfMappingFile))"
   ]
  },
  {
   "cell_type": "code",
   "execution_count": null,
   "metadata": {
    "scrolled": false
   },
   "outputs": [],
   "source": [
    "princoor_cmd = \"{bpc:s} -i {fin:s} -o {fout:s}\".format(bpc=principal_coordinates,\n",
    "                                                        fin=dirOfBetaDiversity,\n",
    "                                                        fout=dirOfPrincipaleCoordinates)\n",
    "if print_output:\n",
    "    print(princoor_cmd)\n",
    "if run:\n",
    "    process = subprocess.Popen(princoor_cmd, shell = True, stdout=subprocess.PIPE, stderr=subprocess.PIPE)\n",
    "    (out,err) = process.communicate()\n",
    "    if out:\n",
    "        print(out.decode(\"utf-8\"))\n",
    "    if err:\n",
    "        print(err.decode(\"utf-8\"))"
   ]
  },
  {
   "cell_type": "markdown",
   "metadata": {},
   "source": [
    "## Make emperor"
   ]
  },
  {
   "cell_type": "code",
   "execution_count": null,
   "metadata": {},
   "outputs": [],
   "source": [
    "dirOfMakeEmperor = os.path.join(dDataRunOut,\"{mf:s}/make_emperor.d\".format(mf=nameOfMappingFile))\n",
    "if not os.path.exists(dirOfMakeEmperor):\n",
    "    os.makedirs(dirOfMakeEmperor)"
   ]
  },
  {
   "cell_type": "code",
   "execution_count": null,
   "metadata": {
    "scrolled": true
   },
   "outputs": [],
   "source": [
    "#  make_emperor\n",
    "for metric in listOfMetrics:\n",
    "    fileOfPrincipaleCoordinatesMetrics = os.path.join(dirOfPrincipaleCoordinates,\"pcoa_{m:s}_rarefaction_{md:s}_0.txt\".format(m=metric,md=minimalDepth))\n",
    "    dirOfMakeEmperor = os.path.join(dDataRunOut,\"{mf:s}/make_emperor.d/{m:s}/\".format(m = metric,\n",
    "                                                                                      mf = nameOfMappingFile))\n",
    "    makeemp_cmd = \"{bme:s} -i {fin:s} -m {mapp:s} -o {fout:s} --ignore_missing_samples\".format(bme= make_emperor,\n",
    "                                                                      fin=fileOfPrincipaleCoordinatesMetrics,\n",
    "                                                                      mapp = fileOfMappingIdXP,\n",
    "                                                                      fout=dirOfMakeEmperor)\n",
    "    if print_output:\n",
    "        print(makeemp_cmd)\n",
    "    if run:\n",
    "        process = subprocess.Popen(makeemp_cmd, shell = True, stdout=subprocess.PIPE, stderr=subprocess.PIPE)\n",
    "        (out,err) = process.communicate()\n",
    "        if out:\n",
    "            print(out.decode(\"utf-8\"))\n",
    "        if err:\n",
    "            print(err.decode(\"utf-8\"))"
   ]
  },
  {
   "cell_type": "code",
   "execution_count": null,
   "metadata": {},
   "outputs": [],
   "source": [
    "emperorUnweightedPlotsLinks = \"<a href=\\\"../data/run/{run:s}/out/{mf:s}/make_emperor.d/unweighted_unifrac/index.html\\\" target=\\\"_blank\\\">Link to Unweighted Plots</a>\".format(run=nameOfTheRun,\n",
    "                                                  mf = nameOfMappingFile)\n",
    "emperorWeightedPlotsLinks = \"<a href=\\\"../data/run/{run:s}/out/{mf:s}/make_emperor.d/weighted_unifrac/index.html\\\" target=\\\"_blank\\\">Link to weighted Plots</a>\".format(run=nameOfTheRun,\n",
    "                                                     mf = nameOfMappingFile)\n",
    "emperorBrayCurtisPlotsLinks = \"<a href=\\\"../data/run/{run:s}/out/{mf:s}/make_emperor.d/bray_curtis/index.html\\\" target=\\\"_blank\\\">Link to bray-curtis Plots</a>\".format(run=nameOfTheRun,\n",
    "                                                        mf = nameOfMappingFile)\n",
    "display(Markdown(emperorUnweightedPlotsLinks))\n",
    "display(Markdown(emperorWeightedPlotsLinks))\n",
    "display(Markdown(emperorBrayCurtisPlotsLinks))"
   ]
  },
  {
   "cell_type": "markdown",
   "metadata": {},
   "source": [
    "## Summarize taxa throught plots\n"
   ]
  },
  {
   "cell_type": "code",
   "execution_count": null,
   "metadata": {},
   "outputs": [],
   "source": [
    "dirOfSummTaxa = os.path.join(dDataRunOut,\"{mf:s}/summarize_taxa.d\".format(mf=nameOfMappingFile))"
   ]
  },
  {
   "cell_type": "code",
   "execution_count": null,
   "metadata": {
    "scrolled": true
   },
   "outputs": [],
   "source": [
    "summarize_taxa_cmd = \"{bst:s} -i {fin:s} -o {fout:s}\".format(bst=summarize_taxa,\n",
    "                                                        fin=fileOfRarefactionBiomTable,\n",
    "                                                        fout=dirOfSummTaxa)\n",
    "if print_output:\n",
    "    print(summarize_taxa_cmd)\n",
    "if run:\n",
    "    process = subprocess.Popen(summarize_taxa_cmd, shell = True, stdout=subprocess.PIPE, stderr=subprocess.PIPE)\n",
    "    (out,err) = process.communicate()\n",
    "    if out:\n",
    "        print(out.decode(\"utf-8\"))\n",
    "    if err:\n",
    "        print(err.decode(\"utf-8\")) "
   ]
  },
  {
   "cell_type": "code",
   "execution_count": null,
   "metadata": {},
   "outputs": [],
   "source": [
    "summaryPlotsLinks = \"<a href=\\\"../data/run/{run:s}/out/{mf:s}/summarize_taxa.d/taxa_summary_plots/bar_charts.html\\\" target=\\\"_blank\\\">Link to Summary Plots</a>\".format(run = nameOfTheRun,\n",
    "                                                    mf = nameOfMappingFile)\n",
    "display(Markdown(summaryPlotsLinks))"
   ]
  },
  {
   "cell_type": "code",
   "execution_count": null,
   "metadata": {},
   "outputs": [],
   "source": []
  }
 ],
 "metadata": {
  "kernelspec": {
   "display_name": "Python 3",
   "language": "python",
   "name": "python3"
  },
  "language_info": {
   "codemirror_mode": {
    "name": "ipython",
    "version": 3
   },
   "file_extension": ".py",
   "mimetype": "text/x-python",
   "name": "python",
   "nbconvert_exporter": "python",
   "pygments_lexer": "ipython3",
   "version": "3.6.11"
  },
  "toc": {
   "base_numbering": 1,
   "nav_menu": {
    "height": "290px",
    "width": "313px"
   },
   "number_sections": true,
   "sideBar": true,
   "skip_h1_title": false,
   "title_cell": "Table of Contents",
   "title_sidebar": "Contents",
   "toc_cell": false,
   "toc_position": {},
   "toc_section_display": true,
   "toc_window_display": true
  },
  "varInspector": {
   "cols": {
    "lenName": 16,
    "lenType": 16,
    "lenVar": 40
   },
   "kernels_config": {
    "python": {
     "delete_cmd_postfix": "",
     "delete_cmd_prefix": "del ",
     "library": "var_list.py",
     "varRefreshCmd": "print(var_dic_list())"
    },
    "r": {
     "delete_cmd_postfix": ") ",
     "delete_cmd_prefix": "rm(",
     "library": "var_list.r",
     "varRefreshCmd": "cat(var_dic_list()) "
    }
   },
   "types_to_exclude": [
    "module",
    "function",
    "builtin_function_or_method",
    "instance",
    "_Feature"
   ],
   "window_display": false
  }
 },
 "nbformat": 4,
 "nbformat_minor": 1
}
